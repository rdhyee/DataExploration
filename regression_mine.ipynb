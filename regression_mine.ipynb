{
 "cells": [
  {
   "cell_type": "markdown",
   "metadata": {},
   "source": [
    "Regression\n",
    "====================\n",
    "\n",
    "Copyright 2015 Allen Downey\n",
    "\n",
    "License: [Creative Commons Attribution 4.0 International](http://creativecommons.org/licenses/by/4.0/)"
   ]
  },
  {
   "cell_type": "code",
   "execution_count": null,
   "metadata": {
    "collapsed": true
   },
   "outputs": [],
   "source": [
    "from __future__ import print_function, division\n",
    "\n",
    "import numpy as np\n",
    "import pandas as pd\n",
    "\n",
    "import first\n",
    "import thinkstats2\n",
    "import thinkplot\n",
    "\n",
    "%matplotlib inline"
   ]
  },
  {
   "cell_type": "markdown",
   "metadata": {},
   "source": [
    "Let's load up the NSFG data again."
   ]
  },
  {
   "cell_type": "code",
<<<<<<< HEAD
   "execution_count": 2,
   "metadata": {},
   "outputs": [
    {
     "data": {
      "text/plain": [
       "(9148, 244)"
      ]
     },
     "execution_count": 2,
     "metadata": {},
     "output_type": "execute_result"
    }
   ],
=======
   "execution_count": null,
   "metadata": {},
   "outputs": [],
>>>>>>> b3c1935dae4b320aa08e29556ed87fa7da09a81d
   "source": [
    "live,firsts, others = first.MakeFrames()\n",
    "live.shape"
   ]
  },
  {
   "cell_type": "markdown",
   "metadata": {},
   "source": [
    "And select live, full-term births."
   ]
  },
  {
   "cell_type": "code",
   "execution_count": null,
   "metadata": {},
   "outputs": [],
   "source": [
    "live = live[live.prglngth>=37]\n",
    "live.shape"
   ]
  },
  {
   "cell_type": "markdown",
   "metadata": {},
   "source": [
    "And drop rows with missing data (just for the variables we want)."
   ]
  },
  {
   "cell_type": "code",
<<<<<<< HEAD
   "execution_count": 5,
   "metadata": {},
   "outputs": [
    {
     "data": {
      "text/plain": [
       "(7912, 244)"
      ]
     },
     "execution_count": 5,
     "metadata": {},
     "output_type": "execute_result"
    }
   ],
=======
   "execution_count": null,
   "metadata": {},
   "outputs": [],
>>>>>>> b3c1935dae4b320aa08e29556ed87fa7da09a81d
   "source": [
    "live = live.dropna(subset=['agepreg', 'totalwgt_lb'])\n",
    "live.shape"
   ]
  },
  {
   "cell_type": "markdown",
   "metadata": {},
   "source": [
    "Check a few rows:"
   ]
  },
  {
   "cell_type": "code",
<<<<<<< HEAD
   "execution_count": 7,
   "metadata": {},
   "outputs": [
    {
     "data": {
      "text/html": [
       "<div>\n",
       "<style>\n",
       "    .dataframe thead tr:only-child th {\n",
       "        text-align: right;\n",
       "    }\n",
       "\n",
       "    .dataframe thead th {\n",
       "        text-align: left;\n",
       "    }\n",
       "\n",
       "    .dataframe tbody tr th {\n",
       "        vertical-align: top;\n",
       "    }\n",
       "</style>\n",
       "<table border=\"1\" class=\"dataframe\">\n",
       "  <thead>\n",
       "    <tr style=\"text-align: right;\">\n",
       "      <th></th>\n",
       "      <th>caseid</th>\n",
       "      <th>pregordr</th>\n",
       "      <th>howpreg_n</th>\n",
       "      <th>howpreg_p</th>\n",
       "      <th>moscurrp</th>\n",
       "      <th>nowprgdk</th>\n",
       "      <th>pregend1</th>\n",
       "      <th>pregend2</th>\n",
       "      <th>nbrnaliv</th>\n",
       "      <th>multbrth</th>\n",
       "      <th>...</th>\n",
       "      <th>laborfor_i</th>\n",
       "      <th>religion_i</th>\n",
       "      <th>metro_i</th>\n",
       "      <th>basewgt</th>\n",
       "      <th>adj_mod_basewgt</th>\n",
       "      <th>finalwgt</th>\n",
       "      <th>secu_p</th>\n",
       "      <th>sest</th>\n",
       "      <th>cmintvw</th>\n",
       "      <th>totalwgt_lb</th>\n",
       "    </tr>\n",
       "  </thead>\n",
       "  <tbody>\n",
       "    <tr>\n",
       "      <th>0</th>\n",
       "      <td>1</td>\n",
       "      <td>1</td>\n",
       "      <td>NaN</td>\n",
       "      <td>NaN</td>\n",
       "      <td>NaN</td>\n",
       "      <td>NaN</td>\n",
       "      <td>6.0</td>\n",
       "      <td>NaN</td>\n",
       "      <td>1.0</td>\n",
       "      <td>NaN</td>\n",
       "      <td>...</td>\n",
       "      <td>0</td>\n",
       "      <td>0</td>\n",
       "      <td>0</td>\n",
       "      <td>3410.389399</td>\n",
       "      <td>3869.349602</td>\n",
       "      <td>6448.271112</td>\n",
       "      <td>2</td>\n",
       "      <td>9</td>\n",
       "      <td>NaN</td>\n",
       "      <td>8.8125</td>\n",
       "    </tr>\n",
       "    <tr>\n",
       "      <th>1</th>\n",
       "      <td>1</td>\n",
       "      <td>2</td>\n",
       "      <td>NaN</td>\n",
       "      <td>NaN</td>\n",
       "      <td>NaN</td>\n",
       "      <td>NaN</td>\n",
       "      <td>6.0</td>\n",
       "      <td>NaN</td>\n",
       "      <td>1.0</td>\n",
       "      <td>NaN</td>\n",
       "      <td>...</td>\n",
       "      <td>0</td>\n",
       "      <td>0</td>\n",
       "      <td>0</td>\n",
       "      <td>3410.389399</td>\n",
       "      <td>3869.349602</td>\n",
       "      <td>6448.271112</td>\n",
       "      <td>2</td>\n",
       "      <td>9</td>\n",
       "      <td>NaN</td>\n",
       "      <td>7.8750</td>\n",
       "    </tr>\n",
       "    <tr>\n",
       "      <th>2</th>\n",
       "      <td>2</td>\n",
       "      <td>1</td>\n",
       "      <td>NaN</td>\n",
       "      <td>NaN</td>\n",
       "      <td>NaN</td>\n",
       "      <td>NaN</td>\n",
       "      <td>5.0</td>\n",
       "      <td>NaN</td>\n",
       "      <td>3.0</td>\n",
       "      <td>5.0</td>\n",
       "      <td>...</td>\n",
       "      <td>0</td>\n",
       "      <td>0</td>\n",
       "      <td>0</td>\n",
       "      <td>7226.301740</td>\n",
       "      <td>8567.549110</td>\n",
       "      <td>12999.542264</td>\n",
       "      <td>2</td>\n",
       "      <td>12</td>\n",
       "      <td>NaN</td>\n",
       "      <td>9.1250</td>\n",
       "    </tr>\n",
       "    <tr>\n",
       "      <th>3</th>\n",
       "      <td>2</td>\n",
       "      <td>2</td>\n",
       "      <td>NaN</td>\n",
       "      <td>NaN</td>\n",
       "      <td>NaN</td>\n",
       "      <td>NaN</td>\n",
       "      <td>6.0</td>\n",
       "      <td>NaN</td>\n",
       "      <td>1.0</td>\n",
       "      <td>NaN</td>\n",
       "      <td>...</td>\n",
       "      <td>0</td>\n",
       "      <td>0</td>\n",
       "      <td>0</td>\n",
       "      <td>7226.301740</td>\n",
       "      <td>8567.549110</td>\n",
       "      <td>12999.542264</td>\n",
       "      <td>2</td>\n",
       "      <td>12</td>\n",
       "      <td>NaN</td>\n",
       "      <td>7.0000</td>\n",
       "    </tr>\n",
       "    <tr>\n",
       "      <th>4</th>\n",
       "      <td>2</td>\n",
       "      <td>3</td>\n",
       "      <td>NaN</td>\n",
       "      <td>NaN</td>\n",
       "      <td>NaN</td>\n",
       "      <td>NaN</td>\n",
       "      <td>6.0</td>\n",
       "      <td>NaN</td>\n",
       "      <td>1.0</td>\n",
       "      <td>NaN</td>\n",
       "      <td>...</td>\n",
       "      <td>0</td>\n",
       "      <td>0</td>\n",
       "      <td>0</td>\n",
       "      <td>7226.301740</td>\n",
       "      <td>8567.549110</td>\n",
       "      <td>12999.542264</td>\n",
       "      <td>2</td>\n",
       "      <td>12</td>\n",
       "      <td>NaN</td>\n",
       "      <td>6.1875</td>\n",
       "    </tr>\n",
       "  </tbody>\n",
       "</table>\n",
       "<p>5 rows × 244 columns</p>\n",
       "</div>"
      ],
      "text/plain": [
       "   caseid  pregordr  howpreg_n  howpreg_p  moscurrp  nowprgdk  pregend1  \\\n",
       "0       1         1        NaN        NaN       NaN       NaN       6.0   \n",
       "1       1         2        NaN        NaN       NaN       NaN       6.0   \n",
       "2       2         1        NaN        NaN       NaN       NaN       5.0   \n",
       "3       2         2        NaN        NaN       NaN       NaN       6.0   \n",
       "4       2         3        NaN        NaN       NaN       NaN       6.0   \n",
       "\n",
       "   pregend2  nbrnaliv  multbrth     ...       laborfor_i  religion_i  metro_i  \\\n",
       "0       NaN       1.0       NaN     ...                0           0        0   \n",
       "1       NaN       1.0       NaN     ...                0           0        0   \n",
       "2       NaN       3.0       5.0     ...                0           0        0   \n",
       "3       NaN       1.0       NaN     ...                0           0        0   \n",
       "4       NaN       1.0       NaN     ...                0           0        0   \n",
       "\n",
       "       basewgt  adj_mod_basewgt      finalwgt  secu_p  sest  cmintvw  \\\n",
       "0  3410.389399      3869.349602   6448.271112       2     9      NaN   \n",
       "1  3410.389399      3869.349602   6448.271112       2     9      NaN   \n",
       "2  7226.301740      8567.549110  12999.542264       2    12      NaN   \n",
       "3  7226.301740      8567.549110  12999.542264       2    12      NaN   \n",
       "4  7226.301740      8567.549110  12999.542264       2    12      NaN   \n",
       "\n",
       "   totalwgt_lb  \n",
       "0       8.8125  \n",
       "1       7.8750  \n",
       "2       9.1250  \n",
       "3       7.0000  \n",
       "4       6.1875  \n",
       "\n",
       "[5 rows x 244 columns]"
      ]
     },
     "execution_count": 7,
     "metadata": {},
     "output_type": "execute_result"
    }
   ],
=======
   "execution_count": null,
   "metadata": {},
   "outputs": [],
>>>>>>> b3c1935dae4b320aa08e29556ed87fa7da09a81d
   "source": [
    "live.head()\n"
   ]
  },
  {
   "cell_type": "markdown",
   "metadata": {},
   "source": [
    "And summarize a few variables."
   ]
  },
  {
   "cell_type": "code",
<<<<<<< HEAD
   "execution_count": 8,
   "metadata": {},
   "outputs": [
    {
     "data": {
      "text/html": [
       "<div>\n",
       "<style>\n",
       "    .dataframe thead tr:only-child th {\n",
       "        text-align: right;\n",
       "    }\n",
       "\n",
       "    .dataframe thead th {\n",
       "        text-align: left;\n",
       "    }\n",
       "\n",
       "    .dataframe tbody tr th {\n",
       "        vertical-align: top;\n",
       "    }\n",
       "</style>\n",
       "<table border=\"1\" class=\"dataframe\">\n",
       "  <thead>\n",
       "    <tr style=\"text-align: right;\">\n",
       "      <th></th>\n",
       "      <th>agepreg</th>\n",
       "      <th>totalwgt_lb</th>\n",
       "    </tr>\n",
       "  </thead>\n",
       "  <tbody>\n",
       "    <tr>\n",
       "      <th>count</th>\n",
       "      <td>7912.000000</td>\n",
       "      <td>7912.000000</td>\n",
       "    </tr>\n",
       "    <tr>\n",
       "      <th>mean</th>\n",
       "      <td>24.978917</td>\n",
       "      <td>7.482384</td>\n",
       "    </tr>\n",
       "    <tr>\n",
       "      <th>std</th>\n",
       "      <td>5.523504</td>\n",
       "      <td>1.169065</td>\n",
       "    </tr>\n",
       "    <tr>\n",
       "      <th>min</th>\n",
       "      <td>10.830000</td>\n",
       "      <td>0.125000</td>\n",
       "    </tr>\n",
       "    <tr>\n",
       "      <th>25%</th>\n",
       "      <td>20.580000</td>\n",
       "      <td>6.687500</td>\n",
       "    </tr>\n",
       "    <tr>\n",
       "      <th>50%</th>\n",
       "      <td>24.410000</td>\n",
       "      <td>7.437500</td>\n",
       "    </tr>\n",
       "    <tr>\n",
       "      <th>75%</th>\n",
       "      <td>28.910000</td>\n",
       "      <td>8.187500</td>\n",
       "    </tr>\n",
       "    <tr>\n",
       "      <th>max</th>\n",
       "      <td>44.080000</td>\n",
       "      <td>15.437500</td>\n",
       "    </tr>\n",
       "  </tbody>\n",
       "</table>\n",
       "</div>"
      ],
      "text/plain": [
       "           agepreg  totalwgt_lb\n",
       "count  7912.000000  7912.000000\n",
       "mean     24.978917     7.482384\n",
       "std       5.523504     1.169065\n",
       "min      10.830000     0.125000\n",
       "25%      20.580000     6.687500\n",
       "50%      24.410000     7.437500\n",
       "75%      28.910000     8.187500\n",
       "max      44.080000    15.437500"
      ]
     },
     "execution_count": 8,
     "metadata": {},
     "output_type": "execute_result"
    }
   ],
=======
   "execution_count": null,
   "metadata": {},
   "outputs": [],
>>>>>>> b3c1935dae4b320aa08e29556ed87fa7da09a81d
   "source": [
    "live[['agepreg', 'totalwgt_lb']].describe()"
   ]
  },
  {
   "cell_type": "markdown",
   "metadata": {},
   "source": [
    "Here's a scatterplot of age and birthweight, with parameters tuned to avoid saturation."
   ]
  },
  {
   "cell_type": "code",
<<<<<<< HEAD
   "execution_count": 10,
   "metadata": {},
   "outputs": [
    {
     "data": {
      "image/png": "iVBORw0KGgoAAAANSUhEUgAAAYUAAAEKCAYAAAD9xUlFAAAABHNCSVQICAgIfAhkiAAAAAlwSFlz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\niQAAAABJRU5ErkJggg==\n",
      "text/plain": [
       "<matplotlib.figure.Figure at 0x2b7128e55f8>"
      ]
     },
     "metadata": {},
     "output_type": "display_data"
    }
   ],
=======
   "execution_count": null,
   "metadata": {},
   "outputs": [],
>>>>>>> b3c1935dae4b320aa08e29556ed87fa7da09a81d
   "source": [
    "ages = live.agepreg\n",
    "weights = live.totalwgt_lb\n",
    "thinkplot.Scatter(ages, weights, alpha=0.1, s=15)\n",
    "thinkplot.Config(xlabel='age (years)',\n",
    "                 ylabel='weight (lbs)',\n",
    "                 xlim=[10, 45],\n",
    "                 ylim=[0, 15],\n",
    "                 legend=False)\n",
    "ages = live.agepreg\n",
    "weights = live.totalwgt_lb\n",
    "thinkplot.Scatter(ages, weights, alpha=0.1, s=15)"
   ]
  },
  {
   "cell_type": "markdown",
   "metadata": {},
   "source": [
    "Mean of mother's age:"
   ]
  },
  {
   "cell_type": "code",
<<<<<<< HEAD
   "execution_count": 11,
   "metadata": {},
   "outputs": [
    {
     "data": {
      "text/plain": [
       "24.978916835186908"
      ]
     },
     "execution_count": 11,
     "metadata": {},
     "output_type": "execute_result"
    }
   ],
=======
   "execution_count": null,
   "metadata": {},
   "outputs": [],
>>>>>>> b3c1935dae4b320aa08e29556ed87fa7da09a81d
   "source": [
    "live['agepreg'].mean()"
   ]
  },
  {
   "cell_type": "markdown",
   "metadata": {},
   "source": [
    "Mean and standard deviation of birthweight:"
   ]
  },
  {
   "cell_type": "code",
<<<<<<< HEAD
   "execution_count": 12,
   "metadata": {},
   "outputs": [
    {
     "data": {
      "text/plain": [
       "(7.482384352881699, 1.1690646813035233)"
      ]
     },
     "execution_count": 12,
     "metadata": {},
     "output_type": "execute_result"
    }
   ],
=======
   "execution_count": null,
   "metadata": {},
   "outputs": [],
>>>>>>> b3c1935dae4b320aa08e29556ed87fa7da09a81d
   "source": [
    "live['totalwgt_lb'].mean(), live['totalwgt_lb'].std()"
   ]
  },
  {
   "cell_type": "markdown",
   "metadata": {},
   "source": [
    "And the coefficient of correlation:"
   ]
  },
  {
   "cell_type": "code",
<<<<<<< HEAD
   "execution_count": 13,
   "metadata": {},
   "outputs": [
    {
     "data": {
      "text/plain": [
       "0.085023137198215901"
      ]
     },
     "execution_count": 13,
     "metadata": {},
     "output_type": "execute_result"
    }
   ],
=======
   "execution_count": null,
   "metadata": {},
   "outputs": [],
>>>>>>> b3c1935dae4b320aa08e29556ed87fa7da09a81d
   "source": [
    "thinkstats2.Corr(ages, weights)"
   ]
  },
  {
   "cell_type": "markdown",
   "metadata": {},
   "source": [
    "The Pandas `corr` function gets the same result:"
   ]
  },
  {
   "cell_type": "code",
<<<<<<< HEAD
   "execution_count": 14,
   "metadata": {},
   "outputs": [
    {
     "data": {
      "text/plain": [
       "0.085023137198215928"
      ]
     },
     "execution_count": 14,
     "metadata": {},
     "output_type": "execute_result"
    }
   ],
=======
   "execution_count": null,
   "metadata": {},
   "outputs": [],
>>>>>>> b3c1935dae4b320aa08e29556ed87fa7da09a81d
   "source": [
    "live['totalwgt_lb'].corr(live['agepreg'])"
   ]
  },
  {
   "cell_type": "markdown",
   "metadata": {},
   "source": [
    "0.08 is a really low correlation"
   ]
  },
  {
   "cell_type": "markdown",
   "metadata": {},
   "source": [
    "To see the relationship more clearly, we can group mother's age into 3-year bins and plot percentiles of birth weight for each bin."
   ]
  },
  {
   "cell_type": "code",
<<<<<<< HEAD
   "execution_count": 15,
   "metadata": {},
   "outputs": [
    {
     "data": {
      "image/png": "iVBORw0KGgoAAAANSUhEUgAAAYgAAAEKCAYAAAAIO8L1AAAABHNCSVQICAgIfAhkiAAAAAlwSFlz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\n",
      "text/plain": [
       "<matplotlib.figure.Figure at 0x2b712a0dbe0>"
      ]
     },
     "metadata": {},
     "output_type": "display_data"
    }
   ],
=======
   "execution_count": null,
   "metadata": {},
   "outputs": [],
>>>>>>> b3c1935dae4b320aa08e29556ed87fa7da09a81d
   "source": [
    "bins = np.arange(10, 48, 3) #group mother's age into bins\n",
    "indices = np.digitize(live.agepreg, bins) #find which bin each item\n",
    "#belongs to\n",
    "groups = live.groupby(indices) #actually put the data points into the bins\n",
    "\n",
    "ages = [group.agepreg.mean() for i, group in groups][1:-1]\n",
    "cdfs = [thinkstats2.Cdf(group.totalwgt_lb) for i, group in groups][1:-1]\n",
    "\n",
    "thinkplot.PrePlot(5)\n",
    "for percent in [90, 75, 50, 25, 10]:\n",
    "    weights = [cdf.Percentile(percent) for cdf in cdfs]\n",
    "    label = '%dth' % percent\n",
    "    thinkplot.Plot(ages, weights, label=label)\n",
    "\n",
    "thinkplot.Config(xlabel=\"mother's age (years)\",\n",
    "                 ylabel='birth weight (lbs)',\n",
    "                 xlim=[14, 50],\n",
    "                 legend=True)"
   ]
  },
  {
   "cell_type": "markdown",
   "metadata": {},
   "source": [
    "The first and last points are not very reliable, because they represent fewer data points.\n",
    "\n",
    "It looks like there is a generally positive relationshop between birth weight and mother's age, possibly leveling or dropping for older mothers.\n",
    "\n",
    "We can get more information about the mothers by reading the respondents file, which contains one row per respondent."
   ]
  },
  {
   "cell_type": "code",
<<<<<<< HEAD
   "execution_count": 16,
=======
   "execution_count": null,
>>>>>>> b3c1935dae4b320aa08e29556ed87fa7da09a81d
   "metadata": {
    "collapsed": true
   },
   "outputs": [],
   "source": [
    "def ReadFemResp(dct_file='2002FemResp.dct',\n",
    "                dat_file='2002FemResp.dat.gz',\n",
    "                nrows=None):\n",
    "    \"\"\"Reads the NSFG respondent data.\n",
    "\n",
    "    dct_file: string file name\n",
    "    dat_file: string file name\n",
    "\n",
    "    returns: DataFrame\n",
    "    \"\"\"\n",
    "    dct = thinkstats2.ReadStataDct(dct_file)\n",
    "    df = dct.ReadFixedWidth(dat_file, compression='gzip', nrows=nrows)\n",
    "    return df"
   ]
  },
  {
   "cell_type": "markdown",
   "metadata": {},
   "source": [
    "There are 7643 respondents and 3087 variables about each."
   ]
  },
  {
   "cell_type": "code",
<<<<<<< HEAD
   "execution_count": 17,
   "metadata": {},
   "outputs": [
    {
     "data": {
      "text/plain": [
       "(7643, 3087)"
      ]
     },
     "execution_count": 17,
     "metadata": {},
     "output_type": "execute_result"
    }
   ],
=======
   "execution_count": null,
   "metadata": {},
   "outputs": [],
>>>>>>> b3c1935dae4b320aa08e29556ed87fa7da09a81d
   "source": [
    "resp = ReadFemResp()\n",
    "resp.shape"
   ]
  },
  {
   "cell_type": "markdown",
   "metadata": {},
   "source": [
    "If we use the `caseid` variable as the index, we can look up respondents efficiently by id.\n",
    "\n",
    "Here's what the first few rows look like:"
   ]
  },
  {
   "cell_type": "code",
<<<<<<< HEAD
   "execution_count": 18,
   "metadata": {},
   "outputs": [
    {
     "data": {
      "text/html": [
       "<div>\n",
       "<style>\n",
       "    .dataframe thead tr:only-child th {\n",
       "        text-align: right;\n",
       "    }\n",
       "\n",
       "    .dataframe thead th {\n",
       "        text-align: left;\n",
       "    }\n",
       "\n",
       "    .dataframe tbody tr th {\n",
       "        vertical-align: top;\n",
       "    }\n",
       "</style>\n",
       "<table border=\"1\" class=\"dataframe\">\n",
       "  <thead>\n",
       "    <tr style=\"text-align: right;\">\n",
       "      <th></th>\n",
       "      <th>caseid</th>\n",
       "      <th>rscrinf</th>\n",
       "      <th>rdormres</th>\n",
       "      <th>rostscrn</th>\n",
       "      <th>rscreenhisp</th>\n",
       "      <th>rscreenrace</th>\n",
       "      <th>age_a</th>\n",
       "      <th>age_r</th>\n",
       "      <th>cmbirth</th>\n",
       "      <th>agescrn</th>\n",
       "      <th>...</th>\n",
       "      <th>pubassis_i</th>\n",
       "      <th>basewgt</th>\n",
       "      <th>adj_mod_basewgt</th>\n",
       "      <th>finalwgt</th>\n",
       "      <th>secu_r</th>\n",
       "      <th>sest</th>\n",
       "      <th>cmintvw</th>\n",
       "      <th>cmlstyr</th>\n",
       "      <th>screentime</th>\n",
       "      <th>intvlngth</th>\n",
       "    </tr>\n",
       "    <tr>\n",
       "      <th>caseid</th>\n",
       "      <th></th>\n",
       "      <th></th>\n",
       "      <th></th>\n",
       "      <th></th>\n",
       "      <th></th>\n",
       "      <th></th>\n",
       "      <th></th>\n",
       "      <th></th>\n",
       "      <th></th>\n",
       "      <th></th>\n",
       "      <th></th>\n",
       "      <th></th>\n",
       "      <th></th>\n",
       "      <th></th>\n",
       "      <th></th>\n",
       "      <th></th>\n",
       "      <th></th>\n",
       "      <th></th>\n",
       "      <th></th>\n",
       "      <th></th>\n",
       "      <th></th>\n",
       "    </tr>\n",
       "  </thead>\n",
       "  <tbody>\n",
       "    <tr>\n",
       "      <th>2298</th>\n",
       "      <td>2298</td>\n",
       "      <td>1</td>\n",
       "      <td>5</td>\n",
       "      <td>5</td>\n",
       "      <td>1</td>\n",
       "      <td>5.0</td>\n",
       "      <td>27</td>\n",
       "      <td>27</td>\n",
       "      <td>902</td>\n",
       "      <td>27</td>\n",
       "      <td>...</td>\n",
       "      <td>0</td>\n",
       "      <td>3247.916977</td>\n",
       "      <td>5123.759559</td>\n",
       "      <td>5556.717241</td>\n",
       "      <td>2</td>\n",
       "      <td>18</td>\n",
       "      <td>1234</td>\n",
       "      <td>1222</td>\n",
       "      <td>18:26:36</td>\n",
       "      <td>110.492667</td>\n",
       "    </tr>\n",
       "    <tr>\n",
       "      <th>5012</th>\n",
       "      <td>5012</td>\n",
       "      <td>1</td>\n",
       "      <td>5</td>\n",
       "      <td>1</td>\n",
       "      <td>5</td>\n",
       "      <td>5.0</td>\n",
       "      <td>42</td>\n",
       "      <td>42</td>\n",
       "      <td>718</td>\n",
       "      <td>42</td>\n",
       "      <td>...</td>\n",
       "      <td>0</td>\n",
       "      <td>2335.279149</td>\n",
       "      <td>2846.799490</td>\n",
       "      <td>4744.191350</td>\n",
       "      <td>2</td>\n",
       "      <td>18</td>\n",
       "      <td>1233</td>\n",
       "      <td>1221</td>\n",
       "      <td>16:30:59</td>\n",
       "      <td>64.294000</td>\n",
       "    </tr>\n",
       "    <tr>\n",
       "      <th>11586</th>\n",
       "      <td>11586</td>\n",
       "      <td>1</td>\n",
       "      <td>5</td>\n",
       "      <td>1</td>\n",
       "      <td>5</td>\n",
       "      <td>5.0</td>\n",
       "      <td>43</td>\n",
       "      <td>43</td>\n",
       "      <td>708</td>\n",
       "      <td>43</td>\n",
       "      <td>...</td>\n",
       "      <td>0</td>\n",
       "      <td>2335.279149</td>\n",
       "      <td>2846.799490</td>\n",
       "      <td>4744.191350</td>\n",
       "      <td>2</td>\n",
       "      <td>18</td>\n",
       "      <td>1234</td>\n",
       "      <td>1222</td>\n",
       "      <td>18:19:09</td>\n",
       "      <td>75.149167</td>\n",
       "    </tr>\n",
       "    <tr>\n",
       "      <th>6794</th>\n",
       "      <td>6794</td>\n",
       "      <td>5</td>\n",
       "      <td>5</td>\n",
       "      <td>4</td>\n",
       "      <td>1</td>\n",
       "      <td>5.0</td>\n",
       "      <td>15</td>\n",
       "      <td>15</td>\n",
       "      <td>1042</td>\n",
       "      <td>15</td>\n",
       "      <td>...</td>\n",
       "      <td>0</td>\n",
       "      <td>3783.152221</td>\n",
       "      <td>5071.464231</td>\n",
       "      <td>5923.977368</td>\n",
       "      <td>2</td>\n",
       "      <td>18</td>\n",
       "      <td>1234</td>\n",
       "      <td>1222</td>\n",
       "      <td>15:54:43</td>\n",
       "      <td>28.642833</td>\n",
       "    </tr>\n",
       "    <tr>\n",
       "      <th>616</th>\n",
       "      <td>616</td>\n",
       "      <td>1</td>\n",
       "      <td>5</td>\n",
       "      <td>4</td>\n",
       "      <td>1</td>\n",
       "      <td>5.0</td>\n",
       "      <td>20</td>\n",
       "      <td>20</td>\n",
       "      <td>991</td>\n",
       "      <td>20</td>\n",
       "      <td>...</td>\n",
       "      <td>0</td>\n",
       "      <td>5341.329968</td>\n",
       "      <td>6437.335772</td>\n",
       "      <td>7229.128072</td>\n",
       "      <td>2</td>\n",
       "      <td>18</td>\n",
       "      <td>1233</td>\n",
       "      <td>1221</td>\n",
       "      <td>14:19:44</td>\n",
       "      <td>69.502667</td>\n",
       "    </tr>\n",
       "  </tbody>\n",
       "</table>\n",
       "<p>5 rows × 3087 columns</p>\n",
       "</div>"
      ],
      "text/plain": [
       "        caseid  rscrinf  rdormres  rostscrn  rscreenhisp  rscreenrace  age_a  \\\n",
       "caseid                                                                         \n",
       "2298      2298        1         5         5            1          5.0     27   \n",
       "5012      5012        1         5         1            5          5.0     42   \n",
       "11586    11586        1         5         1            5          5.0     43   \n",
       "6794      6794        5         5         4            1          5.0     15   \n",
       "616        616        1         5         4            1          5.0     20   \n",
       "\n",
       "        age_r  cmbirth  agescrn     ...      pubassis_i      basewgt  \\\n",
       "caseid                              ...                                \n",
       "2298       27      902       27     ...               0  3247.916977   \n",
       "5012       42      718       42     ...               0  2335.279149   \n",
       "11586      43      708       43     ...               0  2335.279149   \n",
       "6794       15     1042       15     ...               0  3783.152221   \n",
       "616        20      991       20     ...               0  5341.329968   \n",
       "\n",
       "        adj_mod_basewgt     finalwgt  secu_r  sest  cmintvw  cmlstyr  \\\n",
       "caseid                                                                 \n",
       "2298        5123.759559  5556.717241       2    18     1234     1222   \n",
       "5012        2846.799490  4744.191350       2    18     1233     1221   \n",
       "11586       2846.799490  4744.191350       2    18     1234     1222   \n",
       "6794        5071.464231  5923.977368       2    18     1234     1222   \n",
       "616         6437.335772  7229.128072       2    18     1233     1221   \n",
       "\n",
       "        screentime   intvlngth  \n",
       "caseid                          \n",
       "2298      18:26:36  110.492667  \n",
       "5012      16:30:59   64.294000  \n",
       "11586     18:19:09   75.149167  \n",
       "6794      15:54:43   28.642833  \n",
       "616       14:19:44   69.502667  \n",
       "\n",
       "[5 rows x 3087 columns]"
      ]
     },
     "execution_count": 18,
     "metadata": {},
     "output_type": "execute_result"
    }
   ],
=======
   "execution_count": null,
   "metadata": {},
   "outputs": [],
>>>>>>> b3c1935dae4b320aa08e29556ed87fa7da09a81d
   "source": [
    "resp.index = resp.caseid\n",
    "resp.head()\n"
   ]
  },
  {
   "cell_type": "markdown",
   "metadata": {},
   "source": [
    "Now we can join the tables, using the `caseid` from each pregnancy record to find the corresponding respondent and (abstractly) copy over the additional variables.\n",
    "\n",
    "So the joined table has one row for each pregnancy and all the columns from both tables."
   ]
  },
  {
   "cell_type": "code",
<<<<<<< HEAD
   "execution_count": 20,
   "metadata": {},
   "outputs": [
    {
     "data": {
      "text/plain": [
       "(7912, 3331)"
      ]
     },
     "execution_count": 20,
     "metadata": {},
     "output_type": "execute_result"
    }
   ],
=======
   "execution_count": null,
   "metadata": {},
   "outputs": [],
>>>>>>> b3c1935dae4b320aa08e29556ed87fa7da09a81d
   "source": [
    "join = live.join(resp, on='caseid', rsuffix='_r')\n",
    "join.shape\n"
   ]
  },
  {
   "cell_type": "markdown",
   "metadata": {},
   "source": [
    "The encoding for `screentime` is a colon-separated timestamp."
   ]
  },
  {
   "cell_type": "code",
<<<<<<< HEAD
   "execution_count": 21,
   "metadata": {},
   "outputs": [
    {
     "data": {
      "text/plain": [
       "0    19:56:43\n",
       "1    19:56:43\n",
       "2    14:54:03\n",
       "3    14:54:03\n",
       "4    14:54:03\n",
       "Name: screentime, dtype: object"
      ]
     },
     "execution_count": 21,
     "metadata": {},
     "output_type": "execute_result"
    }
   ],
=======
   "execution_count": null,
   "metadata": {},
   "outputs": [],
>>>>>>> b3c1935dae4b320aa08e29556ed87fa7da09a81d
   "source": [
    "join.screentime.head()"
   ]
  },
  {
   "cell_type": "markdown",
   "metadata": {},
   "source": [
    "If we convert to a datetime object, we avoid some processing problems later."
   ]
  },
  {
   "cell_type": "code",
<<<<<<< HEAD
   "execution_count": 25,
   "metadata": {},
   "outputs": [
    {
     "data": {
      "text/plain": [
       "0   2017-11-09 19:56:43\n",
       "1   2017-11-09 19:56:43\n",
       "2   2017-11-09 14:54:03\n",
       "3   2017-11-09 14:54:03\n",
       "4   2017-11-09 14:54:03\n",
       "Name: screentime, dtype: datetime64[ns]"
      ]
     },
     "execution_count": 25,
     "metadata": {},
     "output_type": "execute_result"
    }
   ],
=======
   "execution_count": null,
   "metadata": {},
   "outputs": [],
>>>>>>> b3c1935dae4b320aa08e29556ed87fa7da09a81d
   "source": [
    "join.screentime = pd.to_datetime(join.screentime)\n",
    "join.screentime.head()\n"
   ]
  },
  {
   "cell_type": "markdown",
   "metadata": {},
   "source": [
    "To estimate the effect of mother's age on birthweight, we can use a simple least squares fit."
   ]
  },
  {
   "cell_type": "code",
<<<<<<< HEAD
   "execution_count": 26,
   "metadata": {},
   "outputs": [
    {
     "data": {
      "text/plain": [
       "(7.0328792906633737, 0.017995378469939118, 2.879260555190259)"
      ]
     },
     "execution_count": 26,
     "metadata": {},
     "output_type": "execute_result"
    }
   ],
=======
   "execution_count": null,
   "metadata": {},
   "outputs": [],
>>>>>>> b3c1935dae4b320aa08e29556ed87fa7da09a81d
   "source": [
    "ages = join.agepreg\n",
    "weights = join.totalwgt_lb\n",
    "\n",
    "inter, slope = thinkstats2.LeastSquares(ages, weights)\n",
    "inter, slope, slope*16*10"
   ]
  },
  {
   "cell_type": "markdown",
   "metadata": {},
   "source": [
    "The slope is almost 3 ounces per decade.\n",
    "\n",
    "We can do the same thing using Ordinary Least Squares from statsmodels:"
   ]
  },
  {
   "cell_type": "code",
<<<<<<< HEAD
   "execution_count": 28,
   "metadata": {},
   "outputs": [
    {
     "data": {
      "text/html": [
       "<table class=\"simpletable\">\n",
       "<caption>OLS Regression Results</caption>\n",
       "<tr>\n",
       "  <th>Dep. Variable:</th>       <td>totalwgt_lb</td>   <th>  R-squared:         </th> <td>   0.007</td> \n",
       "</tr>\n",
       "<tr>\n",
       "  <th>Model:</th>                   <td>OLS</td>       <th>  Adj. R-squared:    </th> <td>   0.007</td> \n",
       "</tr>\n",
       "<tr>\n",
       "  <th>Method:</th>             <td>Least Squares</td>  <th>  F-statistic:       </th> <td>   57.60</td> \n",
       "</tr>\n",
       "<tr>\n",
       "  <th>Date:</th>             <td>Thu, 09 Nov 2017</td> <th>  Prob (F-statistic):</th> <td>3.58e-14</td> \n",
       "</tr>\n",
       "<tr>\n",
       "  <th>Time:</th>                 <td>20:31:19</td>     <th>  Log-Likelihood:    </th> <td> -12433.</td> \n",
       "</tr>\n",
       "<tr>\n",
       "  <th>No. Observations:</th>      <td>  7912</td>      <th>  AIC:               </th> <td>2.487e+04</td>\n",
       "</tr>\n",
       "<tr>\n",
       "  <th>Df Residuals:</th>          <td>  7910</td>      <th>  BIC:               </th> <td>2.488e+04</td>\n",
       "</tr>\n",
       "<tr>\n",
       "  <th>Df Model:</th>              <td>     1</td>      <th>                     </th>     <td> </td>    \n",
       "</tr>\n",
       "<tr>\n",
       "  <th>Covariance Type:</th>      <td>nonrobust</td>    <th>                     </th>     <td> </td>    \n",
       "</tr>\n",
       "</table>\n",
       "<table class=\"simpletable\">\n",
       "<tr>\n",
       "      <td></td>         <th>coef</th>     <th>std err</th>      <th>t</th>      <th>P>|t|</th>  <th>[0.025</th>    <th>0.975]</th>  \n",
       "</tr>\n",
       "<tr>\n",
       "  <th>Intercept</th> <td>    7.0329</td> <td>    0.061</td> <td>  115.940</td> <td> 0.000</td> <td>    6.914</td> <td>    7.152</td>\n",
       "</tr>\n",
       "<tr>\n",
       "  <th>agepreg</th>   <td>    0.0180</td> <td>    0.002</td> <td>    7.589</td> <td> 0.000</td> <td>    0.013</td> <td>    0.023</td>\n",
       "</tr>\n",
       "</table>\n",
       "<table class=\"simpletable\">\n",
       "<tr>\n",
       "  <th>Omnibus:</th>       <td>381.292</td> <th>  Durbin-Watson:     </th> <td>   1.586</td> \n",
       "</tr>\n",
       "<tr>\n",
       "  <th>Prob(Omnibus):</th> <td> 0.000</td>  <th>  Jarque-Bera (JB):  </th> <td>1098.730</td> \n",
       "</tr>\n",
       "<tr>\n",
       "  <th>Skew:</th>          <td> 0.215</td>  <th>  Prob(JB):          </th> <td>2.59e-239</td>\n",
       "</tr>\n",
       "<tr>\n",
       "  <th>Kurtosis:</th>      <td> 4.774</td>  <th>  Cond. No.          </th> <td>    119.</td> \n",
       "</tr>\n",
       "</table>"
      ],
      "text/plain": [
       "<class 'statsmodels.iolib.summary.Summary'>\n",
       "\"\"\"\n",
       "                            OLS Regression Results                            \n",
       "==============================================================================\n",
       "Dep. Variable:            totalwgt_lb   R-squared:                       0.007\n",
       "Model:                            OLS   Adj. R-squared:                  0.007\n",
       "Method:                 Least Squares   F-statistic:                     57.60\n",
       "Date:                Thu, 09 Nov 2017   Prob (F-statistic):           3.58e-14\n",
       "Time:                        20:31:19   Log-Likelihood:                -12433.\n",
       "No. Observations:                7912   AIC:                         2.487e+04\n",
       "Df Residuals:                    7910   BIC:                         2.488e+04\n",
       "Df Model:                           1                                         \n",
       "Covariance Type:            nonrobust                                         \n",
       "==============================================================================\n",
       "                 coef    std err          t      P>|t|      [0.025      0.975]\n",
       "------------------------------------------------------------------------------\n",
       "Intercept      7.0329      0.061    115.940      0.000       6.914       7.152\n",
       "agepreg        0.0180      0.002      7.589      0.000       0.013       0.023\n",
       "==============================================================================\n",
       "Omnibus:                      381.292   Durbin-Watson:                   1.586\n",
       "Prob(Omnibus):                  0.000   Jarque-Bera (JB):             1098.730\n",
       "Skew:                           0.215   Prob(JB):                    2.59e-239\n",
       "Kurtosis:                       4.774   Cond. No.                         119.\n",
       "==============================================================================\n",
       "\n",
       "Warnings:\n",
       "[1] Standard Errors assume that the covariance matrix of the errors is correctly specified.\n",
       "\"\"\""
      ]
     },
     "execution_count": 28,
     "metadata": {},
     "output_type": "execute_result"
    }
   ],
=======
   "execution_count": null,
   "metadata": {},
   "outputs": [],
>>>>>>> b3c1935dae4b320aa08e29556ed87fa7da09a81d
   "source": [
    "import statsmodels.formula.api as smf\n",
    "\n",
    "formula = ('totalwgt_lb ~ agepreg')\n",
    "results = smf.ols(formula, data=join).fit()\n",
    "results.summary()\n"
   ]
  },
  {
   "cell_type": "markdown",
   "metadata": {},
   "source": [
    "The results object contains the parameters (and all the other info in the table):"
   ]
  },
  {
   "cell_type": "code",
<<<<<<< HEAD
   "execution_count": 30,
   "metadata": {},
   "outputs": [
    {
     "data": {
      "text/plain": [
       "(7.0328792906633701, 0.01799537846993907)"
      ]
     },
     "execution_count": 30,
     "metadata": {},
     "output_type": "execute_result"
    }
   ],
=======
   "execution_count": null,
   "metadata": {},
   "outputs": [],
>>>>>>> b3c1935dae4b320aa08e29556ed87fa7da09a81d
   "source": [
    "inter, slope = results.params\n",
    "inter, slope\n"
   ]
  },
  {
   "cell_type": "markdown",
   "metadata": {},
   "source": [
    "And the results are consistent with my implementation:"
   ]
  },
  {
   "cell_type": "code",
<<<<<<< HEAD
   "execution_count": 32,
   "metadata": {},
   "outputs": [
    {
     "data": {
      "text/plain": [
       "2.879260555190251"
      ]
     },
     "execution_count": 32,
     "metadata": {},
     "output_type": "execute_result"
    }
   ],
=======
   "execution_count": null,
   "metadata": {},
   "outputs": [],
>>>>>>> b3c1935dae4b320aa08e29556ed87fa7da09a81d
   "source": [
    "slope * 16 * 10           # change in weight(ounces) per decade"
   ]
  },
  {
   "cell_type": "markdown",
   "metadata": {},
   "source": [
    "We can use a boolean variable as a predictor:"
   ]
  },
  {
   "cell_type": "code",
<<<<<<< HEAD
   "execution_count": 46,
   "metadata": {
    "collapsed": true
   },
   "outputs": [],
   "source": [
    "join['issecond'] = (join.pregordr == 2)\n",
    "del join['issecond']"
   ]
  },
  {
   "cell_type": "code",
   "execution_count": 48,
   "metadata": {},
   "outputs": [
    {
     "data": {
      "text/html": [
       "<div>\n",
       "<style>\n",
       "    .dataframe thead tr:only-child th {\n",
       "        text-align: right;\n",
       "    }\n",
       "\n",
       "    .dataframe thead th {\n",
       "        text-align: left;\n",
       "    }\n",
       "\n",
       "    .dataframe tbody tr th {\n",
       "        vertical-align: top;\n",
       "    }\n",
       "</style>\n",
       "<table border=\"1\" class=\"dataframe\">\n",
       "  <thead>\n",
       "    <tr style=\"text-align: right;\">\n",
       "      <th></th>\n",
       "      <th>isfirst</th>\n",
       "      <th>pregordr</th>\n",
       "    </tr>\n",
       "  </thead>\n",
       "  <tbody>\n",
       "    <tr>\n",
       "      <th>0</th>\n",
       "      <td>True</td>\n",
       "      <td>1</td>\n",
       "    </tr>\n",
       "    <tr>\n",
       "      <th>1</th>\n",
       "      <td>False</td>\n",
       "      <td>2</td>\n",
       "    </tr>\n",
       "    <tr>\n",
       "      <th>2</th>\n",
       "      <td>True</td>\n",
       "      <td>1</td>\n",
       "    </tr>\n",
       "    <tr>\n",
       "      <th>3</th>\n",
       "      <td>False</td>\n",
       "      <td>2</td>\n",
       "    </tr>\n",
       "    <tr>\n",
       "      <th>4</th>\n",
       "      <td>False</td>\n",
       "      <td>3</td>\n",
       "    </tr>\n",
       "    <tr>\n",
       "      <th>5</th>\n",
       "      <td>True</td>\n",
       "      <td>1</td>\n",
       "    </tr>\n",
       "    <tr>\n",
       "      <th>6</th>\n",
       "      <td>False</td>\n",
       "      <td>2</td>\n",
       "    </tr>\n",
       "    <tr>\n",
       "      <th>7</th>\n",
       "      <td>False</td>\n",
       "      <td>3</td>\n",
       "    </tr>\n",
       "    <tr>\n",
       "      <th>8</th>\n",
       "      <td>True</td>\n",
       "      <td>1</td>\n",
       "    </tr>\n",
       "    <tr>\n",
       "      <th>10</th>\n",
       "      <td>True</td>\n",
       "      <td>1</td>\n",
       "    </tr>\n",
       "    <tr>\n",
       "      <th>11</th>\n",
       "      <td>True</td>\n",
       "      <td>1</td>\n",
       "    </tr>\n",
       "    <tr>\n",
       "      <th>12</th>\n",
       "      <td>False</td>\n",
       "      <td>2</td>\n",
       "    </tr>\n",
       "    <tr>\n",
       "      <th>17</th>\n",
       "      <td>True</td>\n",
       "      <td>1</td>\n",
       "    </tr>\n",
       "    <tr>\n",
       "      <th>19</th>\n",
       "      <td>True</td>\n",
       "      <td>1</td>\n",
       "    </tr>\n",
       "    <tr>\n",
       "      <th>20</th>\n",
       "      <td>False</td>\n",
       "      <td>2</td>\n",
       "    </tr>\n",
       "    <tr>\n",
       "      <th>21</th>\n",
       "      <td>True</td>\n",
       "      <td>1</td>\n",
       "    </tr>\n",
       "    <tr>\n",
       "      <th>23</th>\n",
       "      <td>True</td>\n",
       "      <td>1</td>\n",
       "    </tr>\n",
       "    <tr>\n",
       "      <th>24</th>\n",
       "      <td>False</td>\n",
       "      <td>2</td>\n",
       "    </tr>\n",
       "    <tr>\n",
       "      <th>25</th>\n",
       "      <td>False</td>\n",
       "      <td>3</td>\n",
       "    </tr>\n",
       "    <tr>\n",
       "      <th>26</th>\n",
       "      <td>True</td>\n",
       "      <td>1</td>\n",
       "    </tr>\n",
       "  </tbody>\n",
       "</table>\n",
       "</div>"
      ],
      "text/plain": [
       "    isfirst  pregordr\n",
       "0      True         1\n",
       "1     False         2\n",
       "2      True         1\n",
       "3     False         2\n",
       "4     False         3\n",
       "5      True         1\n",
       "6     False         2\n",
       "7     False         3\n",
       "8      True         1\n",
       "10     True         1\n",
       "11     True         1\n",
       "12    False         2\n",
       "17     True         1\n",
       "19     True         1\n",
       "20    False         2\n",
       "21     True         1\n",
       "23     True         1\n",
       "24    False         2\n",
       "25    False         3\n",
       "26     True         1"
      ]
     },
     "execution_count": 48,
     "metadata": {},
     "output_type": "execute_result"
    }
   ],
   "source": [
    "join[['isfirst','pregordr']].head(20)"
   ]
  },
  {
   "cell_type": "code",
   "execution_count": 51,
   "metadata": {},
   "outputs": [
    {
     "data": {
      "text/html": [
       "<table class=\"simpletable\">\n",
       "<caption>OLS Regression Results</caption>\n",
       "<tr>\n",
       "  <th>Dep. Variable:</th>       <td>totalwgt_lb</td>   <th>  R-squared:         </th> <td>   0.002</td> \n",
       "</tr>\n",
       "<tr>\n",
       "  <th>Model:</th>                   <td>OLS</td>       <th>  Adj. R-squared:    </th> <td>   0.001</td> \n",
       "</tr>\n",
       "<tr>\n",
       "  <th>Method:</th>             <td>Least Squares</td>  <th>  F-statistic:       </th> <td>   12.34</td> \n",
       "</tr>\n",
       "<tr>\n",
       "  <th>Date:</th>             <td>Thu, 09 Nov 2017</td> <th>  Prob (F-statistic):</th> <td>0.000445</td> \n",
       "</tr>\n",
       "<tr>\n",
       "  <th>Time:</th>                 <td>20:59:38</td>     <th>  Log-Likelihood:    </th> <td> -12456.</td> \n",
       "</tr>\n",
       "<tr>\n",
       "  <th>No. Observations:</th>      <td>  7912</td>      <th>  AIC:               </th> <td>2.492e+04</td>\n",
       "</tr>\n",
       "<tr>\n",
       "  <th>Df Residuals:</th>          <td>  7910</td>      <th>  BIC:               </th> <td>2.493e+04</td>\n",
       "</tr>\n",
       "<tr>\n",
       "  <th>Df Model:</th>              <td>     1</td>      <th>                     </th>     <td> </td>    \n",
       "</tr>\n",
       "<tr>\n",
       "  <th>Covariance Type:</th>      <td>nonrobust</td>    <th>                     </th>     <td> </td>    \n",
       "</tr>\n",
       "</table>\n",
       "<table class=\"simpletable\">\n",
       "<tr>\n",
       "         <td></td>            <th>coef</th>     <th>std err</th>      <th>t</th>      <th>P>|t|</th>  <th>[0.025</th>    <th>0.975]</th>  \n",
       "</tr>\n",
       "<tr>\n",
       "  <th>Intercept</th>       <td>    7.5265</td> <td>    0.018</td> <td>  414.288</td> <td> 0.000</td> <td>    7.491</td> <td>    7.562</td>\n",
       "</tr>\n",
       "<tr>\n",
       "  <th>isfirst[T.True]</th> <td>   -0.0924</td> <td>    0.026</td> <td>   -3.513</td> <td> 0.000</td> <td>   -0.144</td> <td>   -0.041</td>\n",
       "</tr>\n",
       "</table>\n",
       "<table class=\"simpletable\">\n",
       "<tr>\n",
       "  <th>Omnibus:</th>       <td>364.721</td> <th>  Durbin-Watson:     </th> <td>   1.581</td> \n",
       "</tr>\n",
       "<tr>\n",
       "  <th>Prob(Omnibus):</th> <td> 0.000</td>  <th>  Jarque-Bera (JB):  </th> <td>1001.182</td> \n",
       "</tr>\n",
       "<tr>\n",
       "  <th>Skew:</th>          <td> 0.218</td>  <th>  Prob(JB):          </th> <td>3.95e-218</td>\n",
       "</tr>\n",
       "<tr>\n",
       "  <th>Kurtosis:</th>      <td> 4.687</td>  <th>  Cond. No.          </th> <td>    2.57</td> \n",
       "</tr>\n",
       "</table>"
      ],
      "text/plain": [
       "<class 'statsmodels.iolib.summary.Summary'>\n",
       "\"\"\"\n",
       "                            OLS Regression Results                            \n",
       "==============================================================================\n",
       "Dep. Variable:            totalwgt_lb   R-squared:                       0.002\n",
       "Model:                            OLS   Adj. R-squared:                  0.001\n",
       "Method:                 Least Squares   F-statistic:                     12.34\n",
       "Date:                Thu, 09 Nov 2017   Prob (F-statistic):           0.000445\n",
       "Time:                        20:59:38   Log-Likelihood:                -12456.\n",
       "No. Observations:                7912   AIC:                         2.492e+04\n",
       "Df Residuals:                    7910   BIC:                         2.493e+04\n",
       "Df Model:                           1                                         \n",
       "Covariance Type:            nonrobust                                         \n",
       "===================================================================================\n",
       "                      coef    std err          t      P>|t|      [0.025      0.975]\n",
       "-----------------------------------------------------------------------------------\n",
       "Intercept           7.5265      0.018    414.288      0.000       7.491       7.562\n",
       "isfirst[T.True]    -0.0924      0.026     -3.513      0.000      -0.144      -0.041\n",
       "==============================================================================\n",
       "Omnibus:                      364.721   Durbin-Watson:                   1.581\n",
       "Prob(Omnibus):                  0.000   Jarque-Bera (JB):             1001.182\n",
       "Skew:                           0.218   Prob(JB):                    3.95e-218\n",
       "Kurtosis:                       4.687   Cond. No.                         2.57\n",
       "==============================================================================\n",
       "\n",
       "Warnings:\n",
       "[1] Standard Errors assume that the covariance matrix of the errors is correctly specified.\n",
       "\"\"\""
      ]
     },
     "execution_count": 51,
     "metadata": {},
     "output_type": "execute_result"
    }
   ],
=======
   "execution_count": null,
   "metadata": {},
   "outputs": [],
>>>>>>> b3c1935dae4b320aa08e29556ed87fa7da09a81d
   "source": [
    "join['isfirst'] = (join.birthord == 1) #creates new variable 'isfirst' where each value is made by comparing the 'birthord' value to 1\n",
    "\n",
    "formula = 'totalwgt_lb ~ isfirst'\n",
    "results = smf.ols(formula, data=join).fit()\n",
    "results.summary()"
   ]
  },
  {
   "cell_type": "markdown",
   "metadata": {},
   "source": [
    "First babies are lighter by about 1.5 ounces."
   ]
  },
  {
   "cell_type": "code",
<<<<<<< HEAD
   "execution_count": 52,
   "metadata": {},
   "outputs": [
    {
     "data": {
      "text/plain": [
       "-1.4779760012471788"
      ]
     },
     "execution_count": 52,
     "metadata": {},
     "output_type": "execute_result"
    }
   ],
=======
   "execution_count": null,
   "metadata": {},
   "outputs": [],
>>>>>>> b3c1935dae4b320aa08e29556ed87fa7da09a81d
   "source": [
    "results.params['isfirst[T.True]'] * 16"
   ]
  },
  {
   "cell_type": "markdown",
   "metadata": {},
   "source": [
    "And we can make a model with multiple predictors."
   ]
  },
  {
   "cell_type": "code",
<<<<<<< HEAD
   "execution_count": 55,
   "metadata": {
    "scrolled": false
   },
   "outputs": [
    {
     "data": {
      "text/html": [
       "<table class=\"simpletable\">\n",
       "<caption>OLS Regression Results</caption>\n",
       "<tr>\n",
       "  <th>Dep. Variable:</th>       <td>totalwgt_lb</td>   <th>  R-squared:         </th> <td>   0.007</td> \n",
       "</tr>\n",
       "<tr>\n",
       "  <th>Model:</th>                   <td>OLS</td>       <th>  Adj. R-squared:    </th> <td>   0.007</td> \n",
       "</tr>\n",
       "<tr>\n",
       "  <th>Method:</th>             <td>Least Squares</td>  <th>  F-statistic:       </th> <td>   29.50</td> \n",
       "</tr>\n",
       "<tr>\n",
       "  <th>Date:</th>             <td>Thu, 09 Nov 2017</td> <th>  Prob (F-statistic):</th> <td>1.72e-13</td> \n",
       "</tr>\n",
       "<tr>\n",
       "  <th>Time:</th>                 <td>21:24:22</td>     <th>  Log-Likelihood:    </th> <td> -12433.</td> \n",
       "</tr>\n",
       "<tr>\n",
       "  <th>No. Observations:</th>      <td>  7912</td>      <th>  AIC:               </th> <td>2.487e+04</td>\n",
       "</tr>\n",
       "<tr>\n",
       "  <th>Df Residuals:</th>          <td>  7909</td>      <th>  BIC:               </th> <td>2.489e+04</td>\n",
       "</tr>\n",
       "<tr>\n",
       "  <th>Df Model:</th>              <td>     2</td>      <th>                     </th>     <td> </td>    \n",
       "</tr>\n",
       "<tr>\n",
       "  <th>Covariance Type:</th>      <td>nonrobust</td>    <th>                     </th>     <td> </td>    \n",
       "</tr>\n",
       "</table>\n",
       "<table class=\"simpletable\">\n",
       "<tr>\n",
       "         <td></td>            <th>coef</th>     <th>std err</th>      <th>t</th>      <th>P>|t|</th>  <th>[0.025</th>    <th>0.975]</th>  \n",
       "</tr>\n",
       "<tr>\n",
       "  <th>Intercept</th>       <td>    7.0719</td> <td>    0.069</td> <td>  102.463</td> <td> 0.000</td> <td>    6.937</td> <td>    7.207</td>\n",
       "</tr>\n",
       "<tr>\n",
       "  <th>isfirst[T.True]</th> <td>   -0.0327</td> <td>    0.028</td> <td>   -1.185</td> <td> 0.236</td> <td>   -0.087</td> <td>    0.021</td>\n",
       "</tr>\n",
       "<tr>\n",
       "  <th>agepreg</th>         <td>    0.0171</td> <td>    0.002</td> <td>    6.826</td> <td> 0.000</td> <td>    0.012</td> <td>    0.022</td>\n",
       "</tr>\n",
       "</table>\n",
       "<table class=\"simpletable\">\n",
       "<tr>\n",
       "  <th>Omnibus:</th>       <td>382.030</td> <th>  Durbin-Watson:     </th> <td>   1.585</td> \n",
       "</tr>\n",
       "<tr>\n",
       "  <th>Prob(Omnibus):</th> <td> 0.000</td>  <th>  Jarque-Bera (JB):  </th> <td>1103.586</td> \n",
       "</tr>\n",
       "<tr>\n",
       "  <th>Skew:</th>          <td> 0.214</td>  <th>  Prob(JB):          </th> <td>2.29e-240</td>\n",
       "</tr>\n",
       "<tr>\n",
       "  <th>Kurtosis:</th>      <td> 4.779</td>  <th>  Cond. No.          </th> <td>    138.</td> \n",
       "</tr>\n",
       "</table>"
      ],
      "text/plain": [
       "<class 'statsmodels.iolib.summary.Summary'>\n",
       "\"\"\"\n",
       "                            OLS Regression Results                            \n",
       "==============================================================================\n",
       "Dep. Variable:            totalwgt_lb   R-squared:                       0.007\n",
       "Model:                            OLS   Adj. R-squared:                  0.007\n",
       "Method:                 Least Squares   F-statistic:                     29.50\n",
       "Date:                Thu, 09 Nov 2017   Prob (F-statistic):           1.72e-13\n",
       "Time:                        21:24:22   Log-Likelihood:                -12433.\n",
       "No. Observations:                7912   AIC:                         2.487e+04\n",
       "Df Residuals:                    7909   BIC:                         2.489e+04\n",
       "Df Model:                           2                                         \n",
       "Covariance Type:            nonrobust                                         \n",
       "===================================================================================\n",
       "                      coef    std err          t      P>|t|      [0.025      0.975]\n",
       "-----------------------------------------------------------------------------------\n",
       "Intercept           7.0719      0.069    102.463      0.000       6.937       7.207\n",
       "isfirst[T.True]    -0.0327      0.028     -1.185      0.236      -0.087       0.021\n",
       "agepreg             0.0171      0.002      6.826      0.000       0.012       0.022\n",
       "==============================================================================\n",
       "Omnibus:                      382.030   Durbin-Watson:                   1.585\n",
       "Prob(Omnibus):                  0.000   Jarque-Bera (JB):             1103.586\n",
       "Skew:                           0.214   Prob(JB):                    2.29e-240\n",
       "Kurtosis:                       4.779   Cond. No.                         138.\n",
       "==============================================================================\n",
       "\n",
       "Warnings:\n",
       "[1] Standard Errors assume that the covariance matrix of the errors is correctly specified.\n",
       "\"\"\""
      ]
     },
     "execution_count": 55,
     "metadata": {},
     "output_type": "execute_result"
    }
   ],
=======
   "execution_count": null,
   "metadata": {},
   "outputs": [],
>>>>>>> b3c1935dae4b320aa08e29556ed87fa7da09a81d
   "source": [
    "formula = 'totalwgt_lb ~ agepreg + isfirst'\n",
    "results = smf.ols(formula, data=join).fit()\n",
    "results.summary()"
   ]
  },
  {
   "cell_type": "markdown",
   "metadata": {},
   "source": [
    "If we control for mother's age, the difference in weight for first babies is cut to about 0.5 ounces (and no longer statistically significant)."
   ]
  },
  {
   "cell_type": "code",
<<<<<<< HEAD
   "execution_count": 56,
   "metadata": {},
   "outputs": [
    {
     "data": {
      "text/plain": [
       "-0.52389693286029415"
      ]
     },
     "execution_count": 56,
     "metadata": {},
     "output_type": "execute_result"
    }
   ],
=======
   "execution_count": null,
   "metadata": {},
   "outputs": [],
>>>>>>> b3c1935dae4b320aa08e29556ed87fa7da09a81d
   "source": [
    "results.params['isfirst[T.True]'] * 16"
   ]
  },
  {
   "cell_type": "markdown",
   "metadata": {},
   "source": [
    "The relationship with age might be non-linear.  Adding a quadratic term helps a little, although note that the $R^2$ values for all of these models are very small."
   ]
  },
  {
   "cell_type": "code",
<<<<<<< HEAD
   "execution_count": 57,
   "metadata": {},
   "outputs": [
    {
     "data": {
      "text/html": [
       "<table class=\"simpletable\">\n",
       "<caption>OLS Regression Results</caption>\n",
       "<tr>\n",
       "  <th>Dep. Variable:</th>       <td>totalwgt_lb</td>   <th>  R-squared:         </th> <td>   0.009</td> \n",
       "</tr>\n",
       "<tr>\n",
       "  <th>Model:</th>                   <td>OLS</td>       <th>  Adj. R-squared:    </th> <td>   0.009</td> \n",
       "</tr>\n",
       "<tr>\n",
       "  <th>Method:</th>             <td>Least Squares</td>  <th>  F-statistic:       </th> <td>   37.48</td> \n",
       "</tr>\n",
       "<tr>\n",
       "  <th>Date:</th>             <td>Thu, 09 Nov 2017</td> <th>  Prob (F-statistic):</th> <td>6.30e-17</td> \n",
       "</tr>\n",
       "<tr>\n",
       "  <th>Time:</th>                 <td>21:42:32</td>     <th>  Log-Likelihood:    </th> <td> -12425.</td> \n",
       "</tr>\n",
       "<tr>\n",
       "  <th>No. Observations:</th>      <td>  7912</td>      <th>  AIC:               </th> <td>2.486e+04</td>\n",
       "</tr>\n",
       "<tr>\n",
       "  <th>Df Residuals:</th>          <td>  7909</td>      <th>  BIC:               </th> <td>2.488e+04</td>\n",
       "</tr>\n",
       "<tr>\n",
       "  <th>Df Model:</th>              <td>     2</td>      <th>                     </th>     <td> </td>    \n",
       "</tr>\n",
       "<tr>\n",
       "  <th>Covariance Type:</th>      <td>nonrobust</td>    <th>                     </th>     <td> </td>    \n",
       "</tr>\n",
       "</table>\n",
       "<table class=\"simpletable\">\n",
       "<tr>\n",
       "      <td></td>         <th>coef</th>     <th>std err</th>      <th>t</th>      <th>P>|t|</th>  <th>[0.025</th>    <th>0.975]</th>  \n",
       "</tr>\n",
       "<tr>\n",
       "  <th>Intercept</th> <td>    6.0378</td> <td>    0.247</td> <td>   24.428</td> <td> 0.000</td> <td>    5.553</td> <td>    6.522</td>\n",
       "</tr>\n",
       "<tr>\n",
       "  <th>agepreg</th>   <td>    0.0979</td> <td>    0.019</td> <td>    5.050</td> <td> 0.000</td> <td>    0.060</td> <td>    0.136</td>\n",
       "</tr>\n",
       "<tr>\n",
       "  <th>age2</th>      <td>   -0.0015</td> <td>    0.000</td> <td>   -4.153</td> <td> 0.000</td> <td>   -0.002</td> <td>   -0.001</td>\n",
       "</tr>\n",
       "</table>\n",
       "<table class=\"simpletable\">\n",
       "<tr>\n",
       "  <th>Omnibus:</th>       <td>378.969</td> <th>  Durbin-Watson:     </th> <td>   1.587</td> \n",
       "</tr>\n",
       "<tr>\n",
       "  <th>Prob(Omnibus):</th> <td> 0.000</td>  <th>  Jarque-Bera (JB):  </th> <td>1074.412</td> \n",
       "</tr>\n",
       "<tr>\n",
       "  <th>Skew:</th>          <td> 0.219</td>  <th>  Prob(JB):          </th> <td>4.95e-234</td>\n",
       "</tr>\n",
       "<tr>\n",
       "  <th>Kurtosis:</th>      <td> 4.751</td>  <th>  Cond. No.          </th> <td>1.36e+04</td> \n",
       "</tr>\n",
       "</table>"
      ],
      "text/plain": [
       "<class 'statsmodels.iolib.summary.Summary'>\n",
       "\"\"\"\n",
       "                            OLS Regression Results                            \n",
       "==============================================================================\n",
       "Dep. Variable:            totalwgt_lb   R-squared:                       0.009\n",
       "Model:                            OLS   Adj. R-squared:                  0.009\n",
       "Method:                 Least Squares   F-statistic:                     37.48\n",
       "Date:                Thu, 09 Nov 2017   Prob (F-statistic):           6.30e-17\n",
       "Time:                        21:42:32   Log-Likelihood:                -12425.\n",
       "No. Observations:                7912   AIC:                         2.486e+04\n",
       "Df Residuals:                    7909   BIC:                         2.488e+04\n",
       "Df Model:                           2                                         \n",
       "Covariance Type:            nonrobust                                         \n",
       "==============================================================================\n",
       "                 coef    std err          t      P>|t|      [0.025      0.975]\n",
       "------------------------------------------------------------------------------\n",
       "Intercept      6.0378      0.247     24.428      0.000       5.553       6.522\n",
       "agepreg        0.0979      0.019      5.050      0.000       0.060       0.136\n",
       "age2          -0.0015      0.000     -4.153      0.000      -0.002      -0.001\n",
       "==============================================================================\n",
       "Omnibus:                      378.969   Durbin-Watson:                   1.587\n",
       "Prob(Omnibus):                  0.000   Jarque-Bera (JB):             1074.412\n",
       "Skew:                           0.219   Prob(JB):                    4.95e-234\n",
       "Kurtosis:                       4.751   Cond. No.                     1.36e+04\n",
       "==============================================================================\n",
       "\n",
       "Warnings:\n",
       "[1] Standard Errors assume that the covariance matrix of the errors is correctly specified.\n",
       "[2] The condition number is large, 1.36e+04. This might indicate that there are\n",
       "strong multicollinearity or other numerical problems.\n",
       "\"\"\""
      ]
     },
     "execution_count": 57,
     "metadata": {},
     "output_type": "execute_result"
    }
   ],
=======
   "execution_count": null,
   "metadata": {},
   "outputs": [],
>>>>>>> b3c1935dae4b320aa08e29556ed87fa7da09a81d
   "source": [
    "\n",
    "#adda  column\n",
    "\n",
    "join['age2'] = join.agepreg ** 2\n",
    "\n",
    "formula = 'totalwgt_lb ~ agepreg + age2'\n",
    "results = smf.ols(formula, data=join).fit()\n",
    "results.summary()"
   ]
  },
  {
   "cell_type": "markdown",
   "metadata": {},
   "source": [
    "Now we can combine the quadratic age model with `isfirst`"
   ]
  },
  {
   "cell_type": "code",
<<<<<<< HEAD
   "execution_count": 58,
   "metadata": {},
   "outputs": [
    {
     "data": {
      "text/html": [
       "<table class=\"simpletable\">\n",
       "<caption>OLS Regression Results</caption>\n",
       "<tr>\n",
       "  <th>Dep. Variable:</th>       <td>totalwgt_lb</td>   <th>  R-squared:         </th> <td>   0.009</td> \n",
       "</tr>\n",
       "<tr>\n",
       "  <th>Model:</th>                   <td>OLS</td>       <th>  Adj. R-squared:    </th> <td>   0.009</td> \n",
       "</tr>\n",
       "<tr>\n",
       "  <th>Method:</th>             <td>Least Squares</td>  <th>  F-statistic:       </th> <td>   25.12</td> \n",
       "</tr>\n",
       "<tr>\n",
       "  <th>Date:</th>             <td>Thu, 09 Nov 2017</td> <th>  Prob (F-statistic):</th> <td>3.61e-16</td> \n",
       "</tr>\n",
       "<tr>\n",
       "  <th>Time:</th>                 <td>21:43:33</td>     <th>  Log-Likelihood:    </th> <td> -12425.</td> \n",
       "</tr>\n",
       "<tr>\n",
       "  <th>No. Observations:</th>      <td>  7912</td>      <th>  AIC:               </th> <td>2.486e+04</td>\n",
       "</tr>\n",
       "<tr>\n",
       "  <th>Df Residuals:</th>          <td>  7908</td>      <th>  BIC:               </th> <td>2.488e+04</td>\n",
       "</tr>\n",
       "<tr>\n",
       "  <th>Df Model:</th>              <td>     3</td>      <th>                     </th>     <td> </td>    \n",
       "</tr>\n",
       "<tr>\n",
       "  <th>Covariance Type:</th>      <td>nonrobust</td>    <th>                     </th>     <td> </td>    \n",
       "</tr>\n",
       "</table>\n",
       "<table class=\"simpletable\">\n",
       "<tr>\n",
       "         <td></td>            <th>coef</th>     <th>std err</th>      <th>t</th>      <th>P>|t|</th>  <th>[0.025</th>    <th>0.975]</th>  \n",
       "</tr>\n",
       "<tr>\n",
       "  <th>Intercept</th>       <td>    6.0795</td> <td>    0.256</td> <td>   23.775</td> <td> 0.000</td> <td>    5.578</td> <td>    6.581</td>\n",
       "</tr>\n",
       "<tr>\n",
       "  <th>isfirst[T.True]</th> <td>   -0.0177</td> <td>    0.028</td> <td>   -0.637</td> <td> 0.524</td> <td>   -0.072</td> <td>    0.037</td>\n",
       "</tr>\n",
       "<tr>\n",
       "  <th>agepreg</th>         <td>    0.0957</td> <td>    0.020</td> <td>    4.865</td> <td> 0.000</td> <td>    0.057</td> <td>    0.134</td>\n",
       "</tr>\n",
       "<tr>\n",
       "  <th>age2</th>            <td>   -0.0015</td> <td>    0.000</td> <td>   -4.030</td> <td> 0.000</td> <td>   -0.002</td> <td>   -0.001</td>\n",
       "</tr>\n",
       "</table>\n",
       "<table class=\"simpletable\">\n",
       "<tr>\n",
       "  <th>Omnibus:</th>       <td>379.403</td> <th>  Durbin-Watson:     </th> <td>   1.586</td> \n",
       "</tr>\n",
       "<tr>\n",
       "  <th>Prob(Omnibus):</th> <td> 0.000</td>  <th>  Jarque-Bera (JB):  </th> <td>1077.436</td> \n",
       "</tr>\n",
       "<tr>\n",
       "  <th>Skew:</th>          <td> 0.219</td>  <th>  Prob(JB):          </th> <td>1.09e-234</td>\n",
       "</tr>\n",
       "<tr>\n",
       "  <th>Kurtosis:</th>      <td> 4.754</td>  <th>  Cond. No.          </th> <td>1.41e+04</td> \n",
       "</tr>\n",
       "</table>"
      ],
      "text/plain": [
       "<class 'statsmodels.iolib.summary.Summary'>\n",
       "\"\"\"\n",
       "                            OLS Regression Results                            \n",
       "==============================================================================\n",
       "Dep. Variable:            totalwgt_lb   R-squared:                       0.009\n",
       "Model:                            OLS   Adj. R-squared:                  0.009\n",
       "Method:                 Least Squares   F-statistic:                     25.12\n",
       "Date:                Thu, 09 Nov 2017   Prob (F-statistic):           3.61e-16\n",
       "Time:                        21:43:33   Log-Likelihood:                -12425.\n",
       "No. Observations:                7912   AIC:                         2.486e+04\n",
       "Df Residuals:                    7908   BIC:                         2.488e+04\n",
       "Df Model:                           3                                         \n",
       "Covariance Type:            nonrobust                                         \n",
       "===================================================================================\n",
       "                      coef    std err          t      P>|t|      [0.025      0.975]\n",
       "-----------------------------------------------------------------------------------\n",
       "Intercept           6.0795      0.256     23.775      0.000       5.578       6.581\n",
       "isfirst[T.True]    -0.0177      0.028     -0.637      0.524      -0.072       0.037\n",
       "agepreg             0.0957      0.020      4.865      0.000       0.057       0.134\n",
       "age2               -0.0015      0.000     -4.030      0.000      -0.002      -0.001\n",
       "==============================================================================\n",
       "Omnibus:                      379.403   Durbin-Watson:                   1.586\n",
       "Prob(Omnibus):                  0.000   Jarque-Bera (JB):             1077.436\n",
       "Skew:                           0.219   Prob(JB):                    1.09e-234\n",
       "Kurtosis:                       4.754   Cond. No.                     1.41e+04\n",
       "==============================================================================\n",
       "\n",
       "Warnings:\n",
       "[1] Standard Errors assume that the covariance matrix of the errors is correctly specified.\n",
       "[2] The condition number is large, 1.41e+04. This might indicate that there are\n",
       "strong multicollinearity or other numerical problems.\n",
       "\"\"\""
      ]
     },
     "execution_count": 58,
     "metadata": {},
     "output_type": "execute_result"
    }
   ],
=======
   "execution_count": null,
   "metadata": {},
   "outputs": [],
>>>>>>> b3c1935dae4b320aa08e29556ed87fa7da09a81d
   "source": [
    "formula = 'totalwgt_lb ~ agepreg + age2 + isfirst'\n",
    "formula = 'totalwgt_lb ~ agepreg + age2 + isfirst'\n",
    "results = smf.ols(formula, data=join).fit()\n",
    "results.summary()"
   ]
  },
  {
   "cell_type": "markdown",
   "metadata": {},
   "source": [
    "Now the effect is cut to less that a third of an ounce, and very plausibly due to chance."
   ]
  },
  {
   "cell_type": "code",
<<<<<<< HEAD
   "execution_count": 59,
   "metadata": {},
   "outputs": [
    {
     "data": {
      "text/plain": [
       "-0.28383607712271464"
      ]
     },
     "execution_count": 59,
     "metadata": {},
     "output_type": "execute_result"
    }
   ],
=======
   "execution_count": null,
   "metadata": {},
   "outputs": [],
>>>>>>> b3c1935dae4b320aa08e29556ed87fa7da09a81d
   "source": [
    "results.params['isfirst[T.True]'] * 16"
   ]
  },
  {
   "cell_type": "markdown",
   "metadata": {},
   "source": [
    "Here's the best model I found, combining all variables that seemed plausibly predictive."
   ]
  },
  {
   "cell_type": "code",
<<<<<<< HEAD
   "execution_count": 60,
   "metadata": {},
   "outputs": [
    {
     "data": {
      "text/html": [
       "<table class=\"simpletable\">\n",
       "<caption>OLS Regression Results</caption>\n",
       "<tr>\n",
       "  <th>Dep. Variable:</th>       <td>totalwgt_lb</td>   <th>  R-squared:         </th> <td>   0.046</td> \n",
       "</tr>\n",
       "<tr>\n",
       "  <th>Model:</th>                   <td>OLS</td>       <th>  Adj. R-squared:    </th> <td>   0.045</td> \n",
       "</tr>\n",
       "<tr>\n",
       "  <th>Method:</th>             <td>Least Squares</td>  <th>  F-statistic:       </th> <td>   54.63</td> \n",
       "</tr>\n",
       "<tr>\n",
       "  <th>Date:</th>             <td>Thu, 09 Nov 2017</td> <th>  Prob (F-statistic):</th> <td>1.11e-76</td> \n",
       "</tr>\n",
       "<tr>\n",
       "  <th>Time:</th>                 <td>21:55:41</td>     <th>  Log-Likelihood:    </th> <td> -12275.</td> \n",
       "</tr>\n",
       "<tr>\n",
       "  <th>No. Observations:</th>      <td>  7912</td>      <th>  AIC:               </th> <td>2.457e+04</td>\n",
       "</tr>\n",
       "<tr>\n",
       "  <th>Df Residuals:</th>          <td>  7904</td>      <th>  BIC:               </th> <td>2.462e+04</td>\n",
       "</tr>\n",
       "<tr>\n",
       "  <th>Df Model:</th>              <td>     7</td>      <th>                     </th>     <td> </td>    \n",
       "</tr>\n",
       "<tr>\n",
       "  <th>Covariance Type:</th>      <td>nonrobust</td>    <th>                     </th>     <td> </td>    \n",
       "</tr>\n",
       "</table>\n",
       "<table class=\"simpletable\">\n",
       "<tr>\n",
       "            <td></td>              <th>coef</th>     <th>std err</th>      <th>t</th>      <th>P>|t|</th>  <th>[0.025</th>    <th>0.975]</th>  \n",
       "</tr>\n",
       "<tr>\n",
       "  <th>Intercept</th>            <td>    6.0829</td> <td>    0.243</td> <td>   25.022</td> <td> 0.000</td> <td>    5.606</td> <td>    6.559</td>\n",
       "</tr>\n",
       "<tr>\n",
       "  <th>C(race)[T.2]</th>         <td>    0.3625</td> <td>    0.031</td> <td>   11.649</td> <td> 0.000</td> <td>    0.302</td> <td>    0.424</td>\n",
       "</tr>\n",
       "<tr>\n",
       "  <th>C(race)[T.3]</th>         <td>    0.2434</td> <td>    0.050</td> <td>    4.833</td> <td> 0.000</td> <td>    0.145</td> <td>    0.342</td>\n",
       "</tr>\n",
       "<tr>\n",
       "  <th>nbrnaliv > 1[T.True]</th> <td>   -1.0779</td> <td>    0.121</td> <td>   -8.889</td> <td> 0.000</td> <td>   -1.316</td> <td>   -0.840</td>\n",
       "</tr>\n",
       "<tr>\n",
       "  <th>paydu == 1[T.True]</th>   <td>    0.0985</td> <td>    0.030</td> <td>    3.255</td> <td> 0.001</td> <td>    0.039</td> <td>    0.158</td>\n",
       "</tr>\n",
       "<tr>\n",
       "  <th>agepreg</th>              <td>    0.0714</td> <td>    0.019</td> <td>    3.741</td> <td> 0.000</td> <td>    0.034</td> <td>    0.109</td>\n",
       "</tr>\n",
       "<tr>\n",
       "  <th>age2</th>                 <td>   -0.0012</td> <td>    0.000</td> <td>   -3.341</td> <td> 0.001</td> <td>   -0.002</td> <td>   -0.000</td>\n",
       "</tr>\n",
       "<tr>\n",
       "  <th>totincr</th>              <td>    0.0132</td> <td>    0.004</td> <td>    3.452</td> <td> 0.001</td> <td>    0.006</td> <td>    0.021</td>\n",
       "</tr>\n",
       "</table>\n",
       "<table class=\"simpletable\">\n",
       "<tr>\n",
       "  <th>Omnibus:</th>       <td>453.110</td> <th>  Durbin-Watson:     </th> <td>   1.609</td> \n",
       "</tr>\n",
       "<tr>\n",
       "  <th>Prob(Omnibus):</th> <td> 0.000</td>  <th>  Jarque-Bera (JB):  </th> <td>1254.734</td> \n",
       "</tr>\n",
       "<tr>\n",
       "  <th>Skew:</th>          <td> 0.300</td>  <th>  Prob(JB):          </th> <td>3.45e-273</td>\n",
       "</tr>\n",
       "<tr>\n",
       "  <th>Kurtosis:</th>      <td> 4.856</td>  <th>  Cond. No.          </th> <td>1.36e+04</td> \n",
       "</tr>\n",
       "</table>"
      ],
      "text/plain": [
       "<class 'statsmodels.iolib.summary.Summary'>\n",
       "\"\"\"\n",
       "                            OLS Regression Results                            \n",
       "==============================================================================\n",
       "Dep. Variable:            totalwgt_lb   R-squared:                       0.046\n",
       "Model:                            OLS   Adj. R-squared:                  0.045\n",
       "Method:                 Least Squares   F-statistic:                     54.63\n",
       "Date:                Thu, 09 Nov 2017   Prob (F-statistic):           1.11e-76\n",
       "Time:                        21:55:41   Log-Likelihood:                -12275.\n",
       "No. Observations:                7912   AIC:                         2.457e+04\n",
       "Df Residuals:                    7904   BIC:                         2.462e+04\n",
       "Df Model:                           7                                         \n",
       "Covariance Type:            nonrobust                                         \n",
       "========================================================================================\n",
       "                           coef    std err          t      P>|t|      [0.025      0.975]\n",
       "----------------------------------------------------------------------------------------\n",
       "Intercept                6.0829      0.243     25.022      0.000       5.606       6.559\n",
       "C(race)[T.2]             0.3625      0.031     11.649      0.000       0.302       0.424\n",
       "C(race)[T.3]             0.2434      0.050      4.833      0.000       0.145       0.342\n",
       "nbrnaliv > 1[T.True]    -1.0779      0.121     -8.889      0.000      -1.316      -0.840\n",
       "paydu == 1[T.True]       0.0985      0.030      3.255      0.001       0.039       0.158\n",
       "agepreg                  0.0714      0.019      3.741      0.000       0.034       0.109\n",
       "age2                    -0.0012      0.000     -3.341      0.001      -0.002      -0.000\n",
       "totincr                  0.0132      0.004      3.452      0.001       0.006       0.021\n",
       "==============================================================================\n",
       "Omnibus:                      453.110   Durbin-Watson:                   1.609\n",
       "Prob(Omnibus):                  0.000   Jarque-Bera (JB):             1254.734\n",
       "Skew:                           0.300   Prob(JB):                    3.45e-273\n",
       "Kurtosis:                       4.856   Cond. No.                     1.36e+04\n",
       "==============================================================================\n",
       "\n",
       "Warnings:\n",
       "[1] Standard Errors assume that the covariance matrix of the errors is correctly specified.\n",
       "[2] The condition number is large, 1.36e+04. This might indicate that there are\n",
       "strong multicollinearity or other numerical problems.\n",
       "\"\"\""
      ]
     },
     "execution_count": 60,
     "metadata": {},
     "output_type": "execute_result"
    }
   ],
=======
   "execution_count": null,
   "metadata": {},
   "outputs": [],
>>>>>>> b3c1935dae4b320aa08e29556ed87fa7da09a81d
   "source": [
    "formula = ('totalwgt_lb ~ agepreg + age2 + C(race) + '\n",
    "           'nbrnaliv>1 + paydu==1 + totincr')\n",
    "results = smf.ols(formula, data=join).fit()\n",
    "results.summary()\n"
   ]
  },
  {
   "cell_type": "markdown",
   "metadata": {},
   "source": [
    "All predictors are statistically significant, so the effects could be legit, but the $R^2$ value is still very small: this model doesn't provide much help for the office pool."
   ]
  },
  {
   "cell_type": "markdown",
   "metadata": {},
   "source": [
    "Logistic regression\n",
    "-------------------\n",
    "\n",
    "Let's say we want to predict the sex of a baby based on information about the mother.\n",
    "\n",
    "I'll start by creating a binary dependent variable, `isboy`, and checking for dependence on mother's age:"
   ]
  },
  {
   "cell_type": "code",
<<<<<<< HEAD
   "execution_count": 62,
   "metadata": {},
   "outputs": [
    {
     "name": "stdout",
     "output_type": "stream",
     "text": [
      "Optimization terminated successfully.\n",
      "         Current function value: 0.692981\n",
      "         Iterations 3\n"
     ]
    },
    {
     "data": {
      "text/html": [
       "<table class=\"simpletable\">\n",
       "<caption>Logit Regression Results</caption>\n",
       "<tr>\n",
       "  <th>Dep. Variable:</th>       <td>isboy</td>      <th>  No. Observations:  </th>  <td>  7912</td>  \n",
       "</tr>\n",
       "<tr>\n",
       "  <th>Model:</th>               <td>Logit</td>      <th>  Df Residuals:      </th>  <td>  7910</td>  \n",
       "</tr>\n",
       "<tr>\n",
       "  <th>Method:</th>               <td>MLE</td>       <th>  Df Model:          </th>  <td>     1</td>  \n",
       "</tr>\n",
       "<tr>\n",
       "  <th>Date:</th>          <td>Thu, 09 Nov 2017</td> <th>  Pseudo R-squ.:     </th> <td>1.352e-05</td>\n",
       "</tr>\n",
       "<tr>\n",
       "  <th>Time:</th>              <td>22:13:44</td>     <th>  Log-Likelihood:    </th> <td> -5482.9</td> \n",
       "</tr>\n",
       "<tr>\n",
       "  <th>converged:</th>           <td>True</td>       <th>  LL-Null:           </th> <td> -5482.9</td> \n",
       "</tr>\n",
       "<tr>\n",
       "  <th> </th>                      <td> </td>        <th>  LLR p-value:       </th>  <td>0.7002</td>  \n",
       "</tr>\n",
       "</table>\n",
       "<table class=\"simpletable\">\n",
       "<tr>\n",
       "      <td></td>         <th>coef</th>     <th>std err</th>      <th>z</th>      <th>P>|z|</th>  <th>[0.025</th>    <th>0.975]</th>  \n",
       "</tr>\n",
       "<tr>\n",
       "  <th>Intercept</th> <td>   -0.0038</td> <td>    0.104</td> <td>   -0.036</td> <td> 0.971</td> <td>   -0.208</td> <td>    0.200</td>\n",
       "</tr>\n",
       "<tr>\n",
       "  <th>agepreg</th>   <td>    0.0016</td> <td>    0.004</td> <td>    0.385</td> <td> 0.700</td> <td>   -0.006</td> <td>    0.010</td>\n",
       "</tr>\n",
       "</table>"
      ],
      "text/plain": [
       "<class 'statsmodels.iolib.summary.Summary'>\n",
       "\"\"\"\n",
       "                           Logit Regression Results                           \n",
       "==============================================================================\n",
       "Dep. Variable:                  isboy   No. Observations:                 7912\n",
       "Model:                          Logit   Df Residuals:                     7910\n",
       "Method:                           MLE   Df Model:                            1\n",
       "Date:                Thu, 09 Nov 2017   Pseudo R-squ.:               1.352e-05\n",
       "Time:                        22:13:44   Log-Likelihood:                -5482.9\n",
       "converged:                       True   LL-Null:                       -5482.9\n",
       "                                        LLR p-value:                    0.7002\n",
       "==============================================================================\n",
       "                 coef    std err          z      P>|z|      [0.025      0.975]\n",
       "------------------------------------------------------------------------------\n",
       "Intercept     -0.0038      0.104     -0.036      0.971      -0.208       0.200\n",
       "agepreg        0.0016      0.004      0.385      0.700      -0.006       0.010\n",
       "==============================================================================\n",
       "\"\"\""
      ]
     },
     "execution_count": 62,
     "metadata": {},
     "output_type": "execute_result"
    }
   ],
=======
   "execution_count": null,
   "metadata": {},
   "outputs": [],
>>>>>>> b3c1935dae4b320aa08e29556ed87fa7da09a81d
   "source": [
    "live['isboy'] = (live.babysex==1).astype(int)\n",
    "model = smf.logit('isboy ~ agepreg', data=live)    \n",
    "results = model.fit()\n",
    "results.summary()"
   ]
  },
  {
   "cell_type": "markdown",
   "metadata": {},
   "source": [
    "The estimated parameter is 0.0016, which is small and not statistically significant.  So the apparent relationship might be due to chance.\n",
    "\n",
    "But for the sake of the example, I'll take it at face value and work out the effect on the prediction.\n",
    "\n",
    "A parameter in a logistic regression is a log odds ratio, so we can compute the odds ratio for a difference of 10 years in mother's age:"
   ]
  },
  {
   "cell_type": "code",
<<<<<<< HEAD
   "execution_count": 63,
   "metadata": {},
   "outputs": [
    {
     "data": {
      "text/plain": [
       "1.0158023740467292"
      ]
     },
     "execution_count": 63,
     "metadata": {},
     "output_type": "execute_result"
    }
   ],
=======
   "execution_count": null,
   "metadata": {},
   "outputs": [],
>>>>>>> b3c1935dae4b320aa08e29556ed87fa7da09a81d
   "source": [
    "log_odds_ratio = results.params['agepreg'] * 10\n",
    "odds_ratio = np.exp(log_odds_ratio)\n",
    "odds_ratio\n"
   ]
  },
  {
   "cell_type": "markdown",
   "metadata": {},
   "source": [
    "And we can use the odds ratio to update a prior probability.  A mother at the mean age has a 51% chance of having a boy.\n",
    "\n",
    "In the case a mother who is 10 years older has a 51.4% chance."
   ]
  },
  {
   "cell_type": "code",
<<<<<<< HEAD
   "execution_count": 64,
   "metadata": {},
   "outputs": [
    {
     "data": {
      "text/plain": [
       "0.51391744178527499"
      ]
     },
     "execution_count": 64,
     "metadata": {},
     "output_type": "execute_result"
    }
   ],
=======
   "execution_count": null,
   "metadata": {},
   "outputs": [],
>>>>>>> b3c1935dae4b320aa08e29556ed87fa7da09a81d
   "source": [
    "p = 0.51\n",
    "prior_odds = p / (1-p)\n",
    "post_odds = prior_odds * odds_ratio\n",
    "p = post_odds / (post_odds + 1)\n",
    "p"
   ]
  },
  {
   "cell_type": "markdown",
   "metadata": {},
   "source": [
    "I searched for other factors that might be predictive.  The most likely candidates turn out not to be statistically significant."
   ]
  },
  {
   "cell_type": "code",
<<<<<<< HEAD
   "execution_count": 65,
   "metadata": {},
   "outputs": [
    {
     "name": "stdout",
     "output_type": "stream",
     "text": [
      "Optimization terminated successfully.\n",
      "         Current function value: 0.692727\n",
      "         Iterations 3\n"
     ]
    },
    {
     "data": {
      "text/html": [
       "<table class=\"simpletable\">\n",
       "<caption>Logit Regression Results</caption>\n",
       "<tr>\n",
       "  <th>Dep. Variable:</th>       <td>isboy</td>      <th>  No. Observations:  </th>  <td>  7826</td>  \n",
       "</tr>\n",
       "<tr>\n",
       "  <th>Model:</th>               <td>Logit</td>      <th>  Df Residuals:      </th>  <td>  7820</td>  \n",
       "</tr>\n",
       "<tr>\n",
       "  <th>Method:</th>               <td>MLE</td>       <th>  Df Model:          </th>  <td>     5</td>  \n",
       "</tr>\n",
       "<tr>\n",
       "  <th>Date:</th>          <td>Thu, 09 Nov 2017</td> <th>  Pseudo R-squ.:     </th> <td>0.0004249</td>\n",
       "</tr>\n",
       "<tr>\n",
       "  <th>Time:</th>              <td>23:09:35</td>     <th>  Log-Likelihood:    </th> <td> -5421.3</td> \n",
       "</tr>\n",
       "<tr>\n",
       "  <th>converged:</th>           <td>True</td>       <th>  LL-Null:           </th> <td> -5423.6</td> \n",
       "</tr>\n",
       "<tr>\n",
       "  <th> </th>                      <td> </td>        <th>  LLR p-value:       </th>  <td>0.4654</td>  \n",
       "</tr>\n",
       "</table>\n",
       "<table class=\"simpletable\">\n",
       "<tr>\n",
       "        <td></td>          <th>coef</th>     <th>std err</th>      <th>z</th>      <th>P>|z|</th>  <th>[0.025</th>    <th>0.975]</th>  \n",
       "</tr>\n",
       "<tr>\n",
       "  <th>Intercept</th>    <td>   -0.0639</td> <td>    0.111</td> <td>   -0.575</td> <td> 0.565</td> <td>   -0.282</td> <td>    0.154</td>\n",
       "</tr>\n",
       "<tr>\n",
       "  <th>C(race)[T.2]</th> <td>   -0.0135</td> <td>    0.054</td> <td>   -0.250</td> <td> 0.803</td> <td>   -0.120</td> <td>    0.092</td>\n",
       "</tr>\n",
       "<tr>\n",
       "  <th>C(race)[T.3]</th> <td>   -0.0158</td> <td>    0.089</td> <td>   -0.178</td> <td> 0.859</td> <td>   -0.190</td> <td>    0.158</td>\n",
       "</tr>\n",
       "<tr>\n",
       "  <th>agepreg</th>      <td>   -0.0056</td> <td>    0.006</td> <td>   -0.963</td> <td> 0.336</td> <td>   -0.017</td> <td>    0.006</td>\n",
       "</tr>\n",
       "<tr>\n",
       "  <th>hpagelb</th>      <td>    0.0069</td> <td>    0.004</td> <td>    1.542</td> <td> 0.123</td> <td>   -0.002</td> <td>    0.016</td>\n",
       "</tr>\n",
       "<tr>\n",
       "  <th>birthord</th>     <td>    0.0297</td> <td>    0.024</td> <td>    1.264</td> <td> 0.206</td> <td>   -0.016</td> <td>    0.076</td>\n",
       "</tr>\n",
       "</table>"
      ],
      "text/plain": [
       "<class 'statsmodels.iolib.summary.Summary'>\n",
       "\"\"\"\n",
       "                           Logit Regression Results                           \n",
       "==============================================================================\n",
       "Dep. Variable:                  isboy   No. Observations:                 7826\n",
       "Model:                          Logit   Df Residuals:                     7820\n",
       "Method:                           MLE   Df Model:                            5\n",
       "Date:                Thu, 09 Nov 2017   Pseudo R-squ.:               0.0004249\n",
       "Time:                        23:09:35   Log-Likelihood:                -5421.3\n",
       "converged:                       True   LL-Null:                       -5423.6\n",
       "                                        LLR p-value:                    0.4654\n",
       "================================================================================\n",
       "                   coef    std err          z      P>|z|      [0.025      0.975]\n",
       "--------------------------------------------------------------------------------\n",
       "Intercept       -0.0639      0.111     -0.575      0.565      -0.282       0.154\n",
       "C(race)[T.2]    -0.0135      0.054     -0.250      0.803      -0.120       0.092\n",
       "C(race)[T.3]    -0.0158      0.089     -0.178      0.859      -0.190       0.158\n",
       "agepreg         -0.0056      0.006     -0.963      0.336      -0.017       0.006\n",
       "hpagelb          0.0069      0.004      1.542      0.123      -0.002       0.016\n",
       "birthord         0.0297      0.024      1.264      0.206      -0.016       0.076\n",
       "================================================================================\n",
       "\"\"\""
      ]
     },
     "execution_count": 65,
     "metadata": {},
     "output_type": "execute_result"
    }
   ],
=======
   "execution_count": null,
   "metadata": {},
   "outputs": [],
>>>>>>> b3c1935dae4b320aa08e29556ed87fa7da09a81d
   "source": [
    "formula = 'isboy ~ agepreg + hpagelb + birthord + C(race)'\n",
    "model = smf.logit(formula, data=live)\n",
    "results = model.fit()\n",
    "results.summary()"
   ]
  },
  {
   "cell_type": "markdown",
   "metadata": {},
   "source": [
    "Again, taking these parameters at face values, we can use the model to make predictions.\n",
    "\n",
    "The baseline strategy is to always guess boy, which yields accuracy of 50.8%"
   ]
  },
  {
   "cell_type": "code",
<<<<<<< HEAD
   "execution_count": 66,
   "metadata": {},
   "outputs": [
    {
     "data": {
      "text/plain": [
       "0.5079223102478917"
      ]
     },
     "execution_count": 66,
     "metadata": {},
     "output_type": "execute_result"
    }
   ],
=======
   "execution_count": null,
   "metadata": {},
   "outputs": [],
>>>>>>> b3c1935dae4b320aa08e29556ed87fa7da09a81d
   "source": [
    "exog = pd.DataFrame(model.exog, columns=model.exog_names)\n",
    "endog = pd.DataFrame(model.endog, columns=[model.endog_names])\n",
    "\n",
    "actual = endog['isboy']\n",
    "baseline = actual.mean()\n",
    "baseline"
   ]
  },
  {
   "cell_type": "markdown",
   "metadata": {},
   "source": [
    "`results.predict` uses the model to generate predictions for the data.\n",
    "\n",
    "Adding up the correct positive and negative predictions, we get accuracy 51.3%"
   ]
  },
  {
   "cell_type": "code",
<<<<<<< HEAD
   "execution_count": 67,
   "metadata": {},
   "outputs": [
    {
     "data": {
      "text/plain": [
       "0.51316125734730389"
      ]
     },
     "execution_count": 67,
     "metadata": {},
     "output_type": "execute_result"
    }
   ],
=======
   "execution_count": null,
   "metadata": {},
   "outputs": [],
>>>>>>> b3c1935dae4b320aa08e29556ed87fa7da09a81d
   "source": [
    "predict = (results.predict() >= 0.5)\n",
    "true_pos = predict * actual\n",
    "true_neg = (1 - predict) * (1 - actual)\n",
    "\n",
    "acc = (sum(true_pos) + sum(true_neg)) / len(actual)\n",
    "acc"
   ]
  },
  {
   "cell_type": "markdown",
   "metadata": {},
   "source": [
    "And we can use the model to generate a prediction for the office pool.\n",
    "\n",
    "Suppose your hypothetical coworker is is 39 years old and white, her husband is 30, and they are expecting their first child."
   ]
  },
  {
   "cell_type": "code",
<<<<<<< HEAD
   "execution_count": 68,
   "metadata": {},
   "outputs": [
    {
     "data": {
      "text/plain": [
       "0    0.484852\n",
       "dtype: float64"
      ]
     },
     "execution_count": 68,
     "metadata": {},
     "output_type": "execute_result"
    }
   ],
=======
   "execution_count": null,
   "metadata": {},
   "outputs": [],
>>>>>>> b3c1935dae4b320aa08e29556ed87fa7da09a81d
   "source": [
    "columns = ['agepreg', 'hpagelb', 'birthord', 'race']\n",
    "new = pd.DataFrame([[39, 30, 1, 2]], columns=columns)\n",
    "y = results.predict(new)\n",
    "y"
   ]
  },
  {
   "cell_type": "markdown",
   "metadata": {},
   "source": [
    "This is one of the few scenarios where the model predicts that the baby will be a girl.\n",
    "\n",
    "But given the low accuracy of the model (and the likelihood that it is overfit to the data) this model would not be much help in the pool."
   ]
  }
 ],
 "metadata": {
  "kernelspec": {
   "display_name": "Python 3",
   "language": "python",
   "name": "python3"
  },
  "language_info": {
   "codemirror_mode": {
    "name": "ipython",
    "version": 3
   },
   "file_extension": ".py",
   "mimetype": "text/x-python",
   "name": "python",
   "nbconvert_exporter": "python",
   "pygments_lexer": "ipython3",
   "version": "3.6.2"
  }
 },
 "nbformat": 4,
 "nbformat_minor": 1
}
