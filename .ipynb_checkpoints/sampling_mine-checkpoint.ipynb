{
 "cells": [
  {
   "cell_type": "markdown",
   "metadata": {},
   "source": [
    "Random Sampling\n",
    "=========\n",
    "\n",
    "Copyright 2015 Allen Downey\n",
    "\n",
    "License: [Creative Commons Attribution 4.0 International](http://creativecommons.org/licenses/by/4.0/)"
   ]
  },
  {
   "cell_type": "code",
   "execution_count": 2,
   "metadata": {},
   "outputs": [
    {
     "name": "stderr",
     "output_type": "stream",
     "text": [
      "C:\\ProgramData\\Anaconda3\\lib\\site-packages\\IPython\\html.py:14: ShimWarning: The `IPython.html` package has been deprecated since IPython 4.0. You should import from `notebook` instead. `IPython.html.widgets` has moved to `ipywidgets`.\n",
      "  \"`IPython.html.widgets` has moved to `ipywidgets`.\", ShimWarning)\n"
     ]
    }
   ],
   "source": [
    "from __future__ import print_function, division\n",
    "\n",
    "import numpy\n",
    "import scipy.stats\n",
    "\n",
    "import matplotlib.pyplot as pyplot\n",
    "\n",
    "from IPython.html.widgets import interact, fixed\n",
    "from IPython.html import widgets\n",
    "\n",
    "# seed the random number generator so we all get the same results\n",
    "numpy.random.seed(18)\n",
    "\n",
    "# some nicer colors from http://colorbrewer2.org/\n",
    "COLOR1 = '#7fc97f'\n",
    "COLOR2 = '#beaed4'\n",
    "COLOR3 = '#fdc086'\n",
    "COLOR4 = '#ffff99'\n",
    "COLOR5 = '#386cb0'\n",
    "\n",
    "%matplotlib inline"
   ]
  },
  {
   "cell_type": "markdown",
   "metadata": {},
   "source": [
    "Suppose we want to estimate the average weight of men and women in the U.S.\n",
    "\n",
    "And we want to quantify the uncertainty of the estimate.\n",
    "\n",
    "One approach is to simulate many experiments and see how much the results vary from one experiment to the next.\n",
    "\n",
    "I'll start with the unrealistic assumption that we know the actual distribution of weights in the population.  Then I'll show how to solve the problem without that assumption.\n",
    "\n",
    "Based on data from the [BRFSS](http://www.cdc.gov/brfss/), I found that the distribution of weight in kg for women in the U.S. is well modeled by a lognormal distribution with the following parameters:"
   ]
  },
  {
   "cell_type": "code",
   "execution_count": 3,
   "metadata": {},
   "outputs": [
    {
     "data": {
      "text/plain": [
       "(72.697645732966876, 16.944043048498038)"
      ]
     },
     "execution_count": 3,
     "metadata": {},
     "output_type": "execute_result"
    }
   ],
   "source": [
    "weight = scipy.stats.lognorm(0.23, 0, 70.8)\n",
    "weight.mean(), weight.std()"
   ]
  },
  {
   "cell_type": "markdown",
   "metadata": {},
   "source": [
    "Here's what that distribution looks like:"
   ]
  },
  {
   "cell_type": "code",
   "execution_count": 4,
   "metadata": {},
   "outputs": [
    {
     "data": {
      "image/png": "[encoded data removed]",
      "text/plain": [
       "<matplotlib.figure.Figure at 0x1580baceb00>"
      ]
     },
     "metadata": {},
     "output_type": "display_data"
    }
   ],
   "source": [
    "xs = numpy.linspace(20, 160, 100)\n",
    "ys = weight.pdf(xs)\n",
    "pyplot.plot(xs, ys, linewidth=4, color=COLOR1)\n",
    "pyplot.xlabel('weight (kg)')\n",
    "pyplot.ylabel('PDF')\n",
    "None"
   ]
  },
  {
   "cell_type": "markdown",
   "metadata": {},
   "source": [
    "`make_sample` draws a random sample from this distribution.  The result is a NumPy array."
   ]
  },
  {
   "cell_type": "code",
   "execution_count": 5,
   "metadata": {},
   "outputs": [],
   "source": [
    "def make_sample(n=100):\n",
    "    sample = weight.rvs(n)\n",
    "    return sample"
   ]
  },
  {
   "cell_type": "markdown",
   "metadata": {},
   "source": [
    "Here's an example with `n=100`.  The mean and std of the sample are close to the mean and std of the population, but not exact."
   ]
  },
  {
   "cell_type": "code",
   "execution_count": 6,
   "metadata": {},
   "outputs": [
    {
     "data": {
      "text/plain": [
       "(76.308293640077437, 19.995558735561865)"
      ]
     },
     "execution_count": 6,
     "metadata": {},
     "output_type": "execute_result"
    }
   ],
   "source": [
    "sample = make_sample(n=100)\n",
    "sample.mean(), sample.std()"
   ]
  },
  {
   "cell_type": "markdown",
   "metadata": {},
   "source": [
    "We want to estimate the average weight in the population, so the \"sample statistic\" we'll use is the mean:"
   ]
  },
  {
   "cell_type": "code",
   "execution_count": 7,
   "metadata": {},
   "outputs": [],
   "source": [
    "def sample_stat(sample):\n",
    "    return sample.mean()"
   ]
  },
  {
   "cell_type": "markdown",
   "metadata": {},
   "source": [
    "One iteration of \"the experiment\" is to collect a sample of 100 women and compute their average weight.\n",
    "\n",
    "We can simulate running this experiment many times, and collect a list of sample statistics.  The result is a NumPy array."
   ]
  },
  {
   "cell_type": "code",
   "execution_count": 9,
   "metadata": {},
   "outputs": [],
   "source": [
    "def compute_sample_statistics(n=100, iters=1000):\n",
    "    stats = [sample_stat(make_sample(n)) for i in range(iters)]\n",
    "    return numpy.array(stats)"
   ]
  },
  {
   "cell_type": "markdown",
   "metadata": {},
   "source": [
    "The next line runs the simulation 1000 times and puts the results in\n",
    "`sample_means`:"
   ]
  },
  {
   "cell_type": "code",
   "execution_count": 10,
   "metadata": {},
   "outputs": [],
   "source": [
    "sample_means = compute_sample_statistics(n=100, iters=1000)"
   ]
  },
  {
   "cell_type": "code",
   "execution_count": 11,
   "metadata": {},
   "outputs": [
    {
     "data": {
      "text/plain": [
       "array([ 73.16350557,  71.10417041,  72.59853344,  71.81444427,\n",
       "        70.97202515,  74.41131738,  72.5234518 ,  74.28717571,\n",
       "        70.03337549,  72.04370959,  74.62712048,  75.25154494,\n",
       "        74.45410739,  72.80039522,  70.53679294,  75.00514562,\n",
       "        73.10423286,  74.1775949 ,  72.56130676,  75.04533   ,\n",
       "        73.76113877,  73.03129333,  71.13925823,  72.74172582,\n",
       "        73.24269883,  74.06717046,  70.52318394,  69.16816339,\n",
       "        72.42473676,  73.885791  ,  73.38617721,  72.09597386,\n",
       "        74.04069038,  71.69459491,  71.94155329,  73.14513324,\n",
       "        69.77966304,  69.70723618,  69.92212083,  72.68452388,\n",
       "        73.7609419 ,  72.5701104 ,  72.13180534,  75.35461762,\n",
       "        72.97807975,  70.45850074,  72.40611452,  74.1598019 ,\n",
       "        72.95390856,  73.00285121,  72.7632627 ,  73.25008289,\n",
       "        73.68726569,  70.37444776,  69.26672272,  73.79220252,\n",
       "        72.1362371 ,  72.77417578,  73.9773709 ,  71.17568518,\n",
       "        73.67557597,  72.29131803,  75.01995937,  72.68343788,\n",
       "        72.03930977,  70.81750055,  73.99290112,  74.69089103,\n",
       "        72.54380749,  73.42843552,  73.46284107,  73.69824392,\n",
       "        74.50488728,  75.19109105,  72.29300093,  73.33622554,\n",
       "        73.0159566 ,  70.4179285 ,  71.03161513,  71.10304998,\n",
       "        71.11227743,  72.20010403,  72.18327159,  76.61205537,\n",
       "        74.08223691,  70.68166884,  71.46088763,  70.42042186,\n",
       "        72.44188916,  72.07782881,  69.84988679,  73.28959939,\n",
       "        72.32882071,  74.24363023,  72.07553307,  71.47449927,\n",
       "        72.12487137,  71.73974114,  72.20170808,  75.5402403 ,\n",
       "        72.74301938,  71.78042303,  73.18815254,  72.90843922,\n",
       "        71.36771933,  72.13523484,  72.15044268,  75.59695872,\n",
       "        73.26118338,  74.1715061 ,  72.12049393,  73.91705762,\n",
       "        70.4068493 ,  72.26904828,  73.72404837,  73.896196  ,\n",
       "        71.98058194,  72.32326614,  73.09893282,  75.91051454,\n",
       "        72.81254808,  72.02653574,  74.29887307,  69.53703031,\n",
       "        69.27732289,  68.27806709,  68.83748627,  76.65559122,\n",
       "        73.3879582 ,  73.27731863,  73.66763974,  70.09691592,\n",
       "        73.70395539,  73.13222229,  73.05737786,  72.03121717,\n",
       "        74.71785001,  72.12167537,  74.522447  ,  70.62047545,\n",
       "        71.73074397,  72.70967917,  71.29946642,  74.00515403,\n",
       "        72.21124655,  75.61997138,  76.26350877,  69.8925012 ,\n",
       "        73.31128222,  73.40448092,  72.77066182,  74.53873533,\n",
       "        70.96044412,  73.66656872,  71.03734412,  72.90859409,\n",
       "        72.8239588 ,  75.46626414,  73.96983216,  72.33564751,\n",
       "        73.83430275,  71.05968415,  71.78430111,  73.79465953,\n",
       "        73.99335518,  70.88832863,  72.36830005,  70.69283036,\n",
       "        69.46942691,  73.12756045,  71.59589153,  71.95006474,\n",
       "        74.55266739,  73.46997307,  71.51806564,  73.28148356,\n",
       "        70.99642499,  72.68148393,  73.47005349,  73.64199061,\n",
       "        73.56596326,  72.86461478,  76.89206148,  76.20963891,\n",
       "        72.03545591,  71.17980733,  73.51966513,  73.13941999,\n",
       "        75.0416327 ,  70.73793364,  73.56877854,  72.62056965,\n",
       "        71.13776574,  73.79276398,  71.17596665,  75.55224371,\n",
       "        70.77616923,  74.08127634,  74.67649669,  72.33423716,\n",
       "        73.06211634,  72.50565097,  71.9380603 ,  73.01238787,\n",
       "        75.18403177,  75.27437468,  72.87045647,  70.41801611,\n",
       "        72.82960187,  72.77215809,  72.39905553,  73.27110884,\n",
       "        75.5391599 ,  74.42589993,  74.23051519,  76.6132156 ,\n",
       "        71.96674608,  71.70481251,  71.69679784,  71.03654119,\n",
       "        75.28302543,  75.07627859,  74.53784537,  72.36625758,\n",
       "        73.38125836,  73.33000781,  73.63467911,  73.64265399,\n",
       "        74.29671809,  72.53662251,  72.01532149,  70.627366  ,\n",
       "        70.94499665,  75.41634703,  74.01654015,  72.64565167,\n",
       "        75.47948563,  72.2087357 ,  72.78173435,  72.56716297,\n",
       "        68.65982227,  74.22135352,  70.14610255,  72.78372383,\n",
       "        72.125834  ,  71.69735013,  69.69132873,  72.15240759,\n",
       "        71.49141233,  72.33097974,  70.12387733,  72.18523974,\n",
       "        71.48855177,  74.6000362 ,  70.04657901,  71.11551685,\n",
       "        74.40614593,  70.24050068,  71.77219984,  71.9864337 ,\n",
       "        72.06226454,  70.06849594,  74.09907614,  70.69936666,\n",
       "        73.52911362,  73.96334726,  70.44758908,  75.19509938,\n",
       "        72.60583602,  76.38930561,  71.86532475,  73.11115953,\n",
       "        72.12592146,  70.84689122,  71.27673885,  71.65352411,\n",
       "        72.04646201,  73.73475875,  70.47918114,  73.29690256,\n",
       "        70.38801815,  74.92259819,  72.84026601,  74.59759793,\n",
       "        74.21632753,  73.46371419,  71.54786658,  75.84283392,\n",
       "        72.26265438,  73.76446382,  71.45696438,  69.90958105,\n",
       "        71.71703282,  75.16765495,  72.7110844 ,  69.10355762,\n",
       "        71.00884734,  72.7328247 ,  71.91119465,  71.68074344,\n",
       "        73.07801349,  69.8583395 ,  72.44975479,  72.16442566,\n",
       "        75.70564238,  71.21764573,  74.93823144,  70.81474019,\n",
       "        75.02374522,  71.5347674 ,  72.80125499,  74.09860332,\n",
       "        69.78557589,  76.56358322,  72.61030884,  74.1852676 ,\n",
       "        72.42865517,  70.94851197,  69.7917378 ,  71.41468726,\n",
       "        72.73478417,  74.79969548,  73.19057788,  69.68537367,\n",
       "        70.46949693,  73.8916935 ,  69.98246402,  73.55123852,\n",
       "        71.90221272,  70.70766975,  72.65045331,  73.1734936 ,\n",
       "        72.14807553,  71.66766542,  71.22090074,  71.45961118,\n",
       "        74.34236436,  75.94422032,  71.07681781,  70.88023689,\n",
       "        73.30017854,  74.98086909,  71.9732964 ,  73.74152286,\n",
       "        74.40185133,  71.09431694,  76.03519472,  71.8291022 ,\n",
       "        72.60222058,  70.61950245,  74.01975658,  71.0116126 ,\n",
       "        71.9422618 ,  71.57920049,  74.27103249,  75.92900671,\n",
       "        72.20124609,  71.29309676,  74.88196163,  71.36149734,\n",
       "        72.04382769,  69.85510245,  74.63600774,  73.49713797,\n",
       "        70.79768896,  68.18417712,  72.24632292,  72.96193164,\n",
       "        72.79449205,  73.18173263,  71.26322166,  70.30408078,\n",
       "        73.05113354,  74.10525979,  69.01337388,  71.56634316,\n",
       "        73.59972347,  72.9351918 ,  72.01185252,  72.30840908,\n",
       "        72.40846461,  75.45205735,  73.09257573,  73.85623139,\n",
       "        73.37734416,  73.44946739,  75.9856334 ,  72.49906294,\n",
       "        72.36296888,  73.15541903,  71.54993973,  74.15439529,\n",
       "        73.41236849,  72.82004851,  73.66358453,  71.7063048 ,\n",
       "        71.42811507,  70.83667373,  73.35684398,  72.91185509,\n",
       "        72.98507396,  73.21110081,  71.81411334,  72.73615159,\n",
       "        70.87871959,  73.35765882,  73.99781462,  73.32169397,\n",
       "        70.3130744 ,  71.27920294,  72.43253498,  70.84386646,\n",
       "        72.302565  ,  72.77351869,  71.85486715,  73.79823649,\n",
       "        73.4287696 ,  71.33376597,  72.98168548,  70.88996073,\n",
       "        70.52032914,  73.06929924,  73.97379689,  75.42305432,\n",
       "        70.5997578 ,  73.21154097,  73.5439144 ,  73.00298594,\n",
       "        74.25680866,  71.82980067,  73.36522433,  74.30991062,\n",
       "        72.71500151,  72.6643369 ,  70.20938188,  72.47286336,\n",
       "        73.83243194,  74.12841743,  70.37791599,  72.33804764,\n",
       "        73.67905758,  73.28906681,  72.73132336,  72.99986424,\n",
       "        71.84422851,  72.14752896,  73.92745733,  73.10075995,\n",
       "        72.70885476,  71.76210582,  73.07279236,  71.33915428,\n",
       "        70.86892269,  71.71402583,  72.21242854,  74.33296117,\n",
       "        73.89636269,  73.53577974,  77.25519863,  74.89513334,\n",
       "        75.60516792,  72.04033065,  74.26999712,  71.30185143,\n",
       "        75.54322579,  73.94530106,  71.20030483,  72.95124592,\n",
       "        73.93137734,  74.51646785,  71.31577207,  73.16944331,\n",
       "        73.16659944,  69.82187591,  70.81179502,  69.94462286,\n",
       "        72.4166481 ,  73.13316559,  74.44908264,  73.85475528,\n",
       "        71.91862204,  72.92612817,  72.84794282,  73.05476187,\n",
       "        75.87099618,  71.01545301,  72.41309221,  74.17234052,\n",
       "        75.64907145,  75.45365777,  74.22177934,  73.59433553,\n",
       "        70.13878039,  70.49309592,  70.37359187,  74.36927674,\n",
       "        73.79894232,  74.67071399,  74.7120956 ,  73.87965389,\n",
       "        75.40826213,  70.65477717,  72.07835481,  70.77217896,\n",
       "        69.81982316,  69.58876011,  73.49855066,  72.29598671,\n",
       "        71.12531708,  73.48585923,  75.60758913,  71.09272666,\n",
       "        73.22511943,  74.9311075 ,  74.48861999,  70.93203984,\n",
       "        71.99476348,  73.56172007,  73.75681357,  69.77346182,\n",
       "        73.47814995,  73.96856443,  71.98215951,  71.86409922,\n",
       "        73.88730768,  70.10078453,  71.31424231,  73.73640648,\n",
       "        70.32869143,  74.48734034,  73.2166546 ,  68.42114206,\n",
       "        74.82899357,  73.29139041,  71.71788552,  74.69587542,\n",
       "        72.304215  ,  73.24280912,  70.58199359,  75.05670823,\n",
       "        71.73582357,  74.65591096,  73.137858  ,  71.41456786,\n",
       "        72.44998111,  69.84974591,  71.02401778,  72.31049212,\n",
       "        73.37729567,  73.31264182,  74.14213217,  73.39126515,\n",
       "        71.22206798,  76.57358426,  72.36463166,  72.85566862,\n",
       "        71.74489393,  70.9862826 ,  73.52445674,  71.09860096,\n",
       "        71.86143742,  72.1353032 ,  72.44996685,  71.95662908,\n",
       "        72.07222694,  72.85383837,  74.99857532,  68.63887315,\n",
       "        73.35621478,  73.68333925,  72.32762826,  73.08961937,\n",
       "        72.74873126,  73.10130189,  70.26762261,  71.69359029,\n",
       "        74.85322811,  73.30308118,  72.9246869 ,  72.41060434,\n",
       "        73.06105504,  73.98066611,  72.26786626,  73.7319924 ,\n",
       "        71.21762321,  74.46732693,  72.56841767,  73.82898749,\n",
       "        72.30205321,  76.90651771,  74.20522629,  74.02847754,\n",
       "        72.90797526,  72.12574696,  72.07053792,  74.88677   ,\n",
       "        73.6377106 ,  75.00736866,  69.84781495,  71.85016587,\n",
       "        75.00198681,  71.00389553,  73.45531492,  74.76533921,\n",
       "        74.00343584,  73.13338189,  74.3602264 ,  68.25212502,\n",
       "        71.92202845,  74.2103123 ,  73.72669595,  74.61245257,\n",
       "        73.08839079,  70.87705201,  74.19504484,  71.2218232 ,\n",
       "        72.18580534,  72.28356412,  71.79735113,  71.82095801,\n",
       "        73.31348234,  70.90965609,  72.83840672,  73.67413209,\n",
       "        72.21456235,  70.45365996,  72.42825009,  73.32020925,\n",
       "        76.06248479,  72.7899362 ,  72.98834424,  71.41942015,\n",
       "        72.37588449,  72.80810531,  72.96842588,  74.93220498,\n",
       "        76.31294572,  73.67572067,  72.90853726,  73.52063061,\n",
       "        73.36989866,  72.82856324,  72.64749964,  71.71358412,\n",
       "        73.17293348,  71.01997962,  76.7083871 ,  72.03041845,\n",
       "        74.66437059,  72.33570546,  72.92819185,  72.30889822,\n",
       "        72.41719234,  70.35895016,  72.77591652,  71.83599742,\n",
       "        71.86735116,  70.61893969,  71.3759508 ,  70.42504523,\n",
       "        72.40994925,  72.40956081,  69.62104797,  72.55811691,\n",
       "        71.42421536,  73.11055303,  73.35444451,  72.25742944,\n",
       "        73.83973595,  72.75962792,  73.36069503,  72.31610568,\n",
       "        75.20813278,  71.65441515,  68.33755897,  73.36496807,\n",
       "        70.21057064,  72.86130409,  71.47612998,  75.46907439,\n",
       "        74.93581195,  70.34645697,  72.86105001,  71.54908033,\n",
       "        74.6165043 ,  72.73105256,  74.0126819 ,  75.09834378,\n",
       "        69.79036316,  72.74736618,  72.75302383,  70.1936153 ,\n",
       "        74.13217896,  74.36570019,  71.89523494,  69.97677202,\n",
       "        71.57406422,  72.3023273 ,  73.56263577,  75.14809925,\n",
       "        71.64823587,  73.49585085,  70.22626333,  74.14964378,\n",
       "        72.75029741,  69.27106296,  70.81836713,  73.08529986,\n",
       "        73.55814107,  72.90862815,  74.27008402,  73.09725794,\n",
       "        73.63452233,  71.79397864,  76.66633101,  71.06165067,\n",
       "        72.08770589,  75.45036792,  72.03695889,  72.26167506,\n",
       "        72.18387163,  75.36963203,  72.40874667,  71.95112591,\n",
       "        70.3502694 ,  71.88834982,  71.97195288,  73.8899463 ,\n",
       "        73.70768705,  72.35874516,  72.93134206,  72.67905343,\n",
       "        75.01118807,  68.36671237,  75.34480923,  72.41259812,\n",
       "        68.01736283,  72.46084473,  73.23129811,  68.88695142,\n",
       "        71.27116309,  74.11427545,  72.69429946,  73.50499289,\n",
       "        71.51762129,  74.69740448,  72.44479069,  75.45853357,\n",
       "        72.26629227,  71.09109062,  75.72799156,  71.92252972,\n",
       "        71.88569244,  73.25347179,  73.0714199 ,  70.8210927 ,\n",
       "        74.4616102 ,  71.32903196,  71.25065382,  72.67212672,\n",
       "        71.89785021,  70.46801985,  70.15776218,  72.32371759,\n",
       "        71.16915207,  71.07967122,  70.85132917,  72.72867662,\n",
       "        73.19889725,  71.7146493 ,  71.49523394,  73.18775686,\n",
       "        72.34688568,  74.62543615,  73.1426018 ,  74.87665717,\n",
       "        71.52041016,  71.40635567,  75.59570836,  71.63634737,\n",
       "        73.4719153 ,  73.26903383,  73.75669369,  76.39099682,\n",
       "        73.87920248,  72.47729341,  73.43720182,  69.97228807,\n",
       "        72.8400632 ,  71.85229148,  73.86276204,  71.55028193,\n",
       "        72.11989718,  71.99826737,  68.67641228,  73.31450555,\n",
       "        72.52553861,  75.01035102,  74.37117903,  72.67806159,\n",
       "        76.01273362,  75.80183049,  72.41699201,  69.99488153,\n",
       "        72.21922653,  75.63345036,  73.29878359,  72.81859064,\n",
       "        71.33958723,  74.09269871,  73.39710953,  74.2348554 ,\n",
       "        73.74262318,  71.90566784,  72.95776207,  71.42187756,\n",
       "        70.38560882,  70.70428955,  68.98986942,  73.91473334,\n",
       "        75.35180911,  73.37857597,  72.53780464,  71.88213849,\n",
       "        73.16984074,  71.78251796,  73.62868891,  69.61921221,\n",
       "        73.02378997,  71.73849155,  72.1311247 ,  69.85394001,\n",
       "        73.39030889,  72.26977871,  72.88400975,  70.7463656 ,\n",
       "        74.01121424,  74.71980905,  71.53658922,  68.83724326,\n",
       "        73.42475363,  71.87579523,  73.23125759,  73.25708971,\n",
       "        72.53633523,  71.53494769,  72.4028341 ,  74.59420926,\n",
       "        72.65064523,  72.07579921,  67.45347545,  73.11642845,\n",
       "        72.74437662,  76.56173045,  71.39773874,  72.18231198,\n",
       "        70.26433541,  69.38661526,  70.72694985,  75.16130511,\n",
       "        74.04337273,  72.28808282,  75.11587803,  74.77407754,\n",
       "        72.27094504,  72.38043703,  72.37021796,  72.01355451,\n",
       "        73.47721627,  71.72024315,  72.72240228,  74.33393874,\n",
       "        74.18666352,  72.17894244,  73.0578424 ,  74.88442428,\n",
       "        70.47829548,  70.53909243,  70.6606816 ,  73.33476339,\n",
       "        71.5411651 ,  72.71042735,  71.91048188,  70.0549957 ,\n",
       "        73.19631561,  73.16283344,  71.98622278,  73.11059054,\n",
       "        71.73236363,  73.28328464,  73.05178452,  72.39176078,\n",
       "        75.07545764,  70.78175511,  73.48655783,  71.68542266,\n",
       "        73.3360218 ,  71.70427257,  73.5576859 ,  70.52524619,\n",
       "        71.70157378,  69.05643135,  74.12687368,  73.43589661,\n",
       "        72.0656169 ,  73.65997059,  72.69095264,  74.19916782,\n",
       "        71.32063069,  74.57647914,  72.66628268,  72.71339292,\n",
       "        70.9041642 ,  74.49552798,  73.84597264,  72.04223082,\n",
       "        74.56171944,  71.58886874,  71.48168697,  72.91646929,\n",
       "        73.44048054,  72.90091829,  75.87928634,  73.14828007,\n",
       "        72.36956339,  73.03855051,  72.65116365,  72.12915642,\n",
       "        71.43272821,  75.50339723,  72.96258112,  74.89827491,\n",
       "        74.47564775,  73.07565111,  70.33446466,  68.57850694,\n",
       "        68.9985441 ,  73.00234667,  70.96199203,  73.90886755,\n",
       "        70.60443697,  72.2843366 ,  70.80266921,  68.8944545 ,\n",
       "        72.05293613,  72.06525438,  71.6647107 ,  74.71003786,\n",
       "        71.42992988,  73.78445333,  73.44369284,  71.95250703,\n",
       "        69.99515658,  70.37760997,  71.82928253,  72.3650997 ,\n",
       "        73.7926824 ,  75.03313207,  71.25529067,  74.14250701,\n",
       "        73.4416183 ,  74.99187161,  70.24152407,  72.66616118,\n",
       "        74.75065273,  70.2284033 ,  73.08904443,  71.98966246,\n",
       "        74.68047633,  73.30888124,  73.12728574,  72.63309304,\n",
       "        73.01737288,  71.19456678,  69.49162825,  70.41679996,\n",
       "        74.93581087,  70.85991389,  73.31836274,  73.03954933,\n",
       "        72.62775738,  71.3771369 ,  74.77425991,  75.10508399,\n",
       "        74.21962734,  72.48719852,  71.34326738,  74.13939198,\n",
       "        73.13839758,  70.86980589,  70.41243929,  71.27142298,\n",
       "        73.28124694,  73.56205505,  72.67177145,  74.41909955,\n",
       "        71.69797816,  72.4648168 ,  70.72705123,  72.83027793])"
      ]
     },
     "execution_count": 11,
     "metadata": {},
     "output_type": "execute_result"
    }
   ],
   "source": [
    "sample_means"
   ]
  },
  {
   "cell_type": "markdown",
   "metadata": {},
   "source": [
    "Let's look at the distribution of the sample means.  This distribution shows how much the results vary from one experiment to the next.\n",
    "\n",
    "Remember that this distribution is not the same as the distribution of weight in the population.  This is the distribution of results across repeated imaginary experiments."
   ]
  },
  {
   "cell_type": "code",
   "execution_count": 12,
   "metadata": {},
   "outputs": [
    {
     "data": {
      "image/png": "[encoded data removed]",
      "text/plain": [
       "<matplotlib.figure.Figure at 0x1580bc6b4a8>"
      ]
     },
     "metadata": {},
     "output_type": "display_data"
    }
   ],
   "source": [
    "pyplot.hist(sample_means, color=COLOR5)\n",
    "pyplot.xlabel('sample mean (n=100)')\n",
    "pyplot.ylabel('count')\n",
    "None\n"
   ]
  },
  {
   "cell_type": "markdown",
   "metadata": {},
   "source": [
    "The mean of the sample means is close to the actual population mean, which is nice, but not actually the important part."
   ]
  },
  {
   "cell_type": "code",
   "execution_count": 13,
   "metadata": {},
   "outputs": [
    {
     "data": {
      "text/plain": [
       "72.652052080657413"
      ]
     },
     "execution_count": 13,
     "metadata": {},
     "output_type": "execute_result"
    }
   ],
   "source": [
    "sample_means.mean()"
   ]
  },
  {
   "cell_type": "markdown",
   "metadata": {},
   "source": [
    "The standard deviation of the sample means quantifies the variability from one experiment to the next, and reflects the precision of the estimate.\n",
    "\n",
    "This quantity is called the \"standard error\"."
   ]
  },
  {
   "cell_type": "code",
   "execution_count": 14,
   "metadata": {},
   "outputs": [
    {
     "data": {
      "text/plain": [
       "1.6355262477017491"
      ]
     },
     "execution_count": 14,
     "metadata": {},
     "output_type": "execute_result"
    }
   ],
   "source": [
    "std_err = sample_means.std()\n",
    "std_err"
   ]
  },
  {
   "cell_type": "markdown",
   "metadata": {},
   "source": [
    "We can also use the distribution of sample means to compute a \"90% confidence interval\", which contains 90% of the experimental results:"
   ]
  },
  {
   "cell_type": "code",
   "execution_count": 15,
   "metadata": {},
   "outputs": [
    {
     "data": {
      "text/plain": [
       "array([ 69.92149384,  75.40866638])"
      ]
     },
     "execution_count": 15,
     "metadata": {},
     "output_type": "execute_result"
    }
   ],
   "source": [
    "conf_int = numpy.percentile(sample_means, [5, 95])\n",
    "conf_int"
   ]
  },
  {
   "cell_type": "markdown",
   "metadata": {},
   "source": [
    "The following function takes an array of sample statistics and prints the SE and CI:"
   ]
  },
  {
   "cell_type": "code",
   "execution_count": 16,
   "metadata": {},
   "outputs": [],
   "source": [
    "def summarize_sampling_distribution(sample_stats):\n",
    "    print('SE', sample_stats.std())\n",
    "    print('90% CI', numpy.percentile(sample_stats, [5, 95]))"
   ]
  },
  {
   "cell_type": "markdown",
   "metadata": {},
   "source": [
    "And here's what that looks like:"
   ]
  },
  {
   "cell_type": "code",
   "execution_count": 17,
   "metadata": {},
   "outputs": [
    {
     "name": "stdout",
     "output_type": "stream",
     "text": [
      "SE 1.6355262477\n",
      "90% CI [ 69.92149384  75.40866638]\n"
     ]
    }
   ],
   "source": [
    "summarize_sampling_distribution(sample_means)"
   ]
  },
  {
   "cell_type": "markdown",
   "metadata": {},
   "source": [
    "Now we'd like to see what happens as we vary the sample size, `n`.  The following function takes `n`, runs 1000 simulated experiments, and summarizes the results."
   ]
  },
  {
   "cell_type": "code",
   "execution_count": 15,
   "metadata": {},
   "outputs": [],
   "source": [
    "def plot_sample_stats(n, xlim=None):\n",
    "    sample_stats = compute_sample_statistics(n, iters=1000)\n",
    "    summarize_sampling_distribution(sample_stats)\n",
    "    pyplot.hist(sample_stats, color=COLOR2)\n",
    "    pyplot.xlabel('sample statistic')\n",
    "    pyplot.xlim(xlim)"
   ]
  },
  {
   "cell_type": "markdown",
   "metadata": {},
   "source": [
    "Here's a test run with `n=100`:"
   ]
  },
  {
   "cell_type": "code",
   "execution_count": 16,
   "metadata": {},
   "outputs": [
    {
     "name": "stdout",
     "output_type": "stream",
     "text": [
      "SE 1.71202891175\n",
      "90% CI [ 69.96057332  75.58582662]\n"
     ]
    },
    {
     "data": {
      "image/png": "[encoded data removed]",
      "text/plain": [
       "<matplotlib.figure.Figure at 0x221fa201dd8>"
      ]
     },
     "metadata": {},
     "output_type": "display_data"
    }
   ],
   "source": [
    "plot_sample_stats(100)"
   ]
  },
  {
   "cell_type": "markdown",
   "metadata": {},
   "source": [
    "Now we can use `interact` to run `plot_sample_stats` with different values of `n`.  Note: `xlim` sets the limits of the x-axis so the figure doesn't get rescaled as we vary `n`."
   ]
  },
  {
   "cell_type": "code",
   "execution_count": 17,
   "metadata": {},
   "outputs": [
    {
     "ename": "AttributeError",
     "evalue": "IntSliderWidget",
     "output_type": "error",
     "traceback": [
      "\u001b[1;31m---------------------------------------------------------------------------\u001b[0m",
      "\u001b[1;31mAttributeError\u001b[0m                            Traceback (most recent call last)",
      "\u001b[1;32mC:\\Users\\drose\\AppData\\Local\\Continuum\\Anaconda3\\lib\\site-packages\\IPython\\utils\\importstring.py\u001b[0m in \u001b[0;36mimport_item\u001b[1;34m(name)\u001b[0m\n\u001b[0;32m     32\u001b[0m         \u001b[1;32mtry\u001b[0m\u001b[1;33m:\u001b[0m\u001b[1;33m\u001b[0m\u001b[0m\n\u001b[1;32m---> 33\u001b[1;33m             \u001b[0mpak\u001b[0m \u001b[1;33m=\u001b[0m \u001b[0mgetattr\u001b[0m\u001b[1;33m(\u001b[0m\u001b[0mmodule\u001b[0m\u001b[1;33m,\u001b[0m \u001b[0mobj\u001b[0m\u001b[1;33m)\u001b[0m\u001b[1;33m\u001b[0m\u001b[0m\n\u001b[0m\u001b[0;32m     34\u001b[0m         \u001b[1;32mexcept\u001b[0m \u001b[0mAttributeError\u001b[0m\u001b[1;33m:\u001b[0m\u001b[1;33m\u001b[0m\u001b[0m\n",
      "\u001b[1;31mAttributeError\u001b[0m: module 'ipywidgets' has no attribute 'IntSliderWidget'",
      "\nDuring handling of the above exception, another exception occurred:\n",
      "\u001b[1;31mImportError\u001b[0m                               Traceback (most recent call last)",
      "\u001b[1;32mC:\\Users\\drose\\AppData\\Local\\Continuum\\Anaconda3\\lib\\site-packages\\IPython\\utils\\shimmodule.py\u001b[0m in \u001b[0;36m__getattr__\u001b[1;34m(self, key)\u001b[0m\n\u001b[0;32m     89\u001b[0m         \u001b[1;32mtry\u001b[0m\u001b[1;33m:\u001b[0m\u001b[1;33m\u001b[0m\u001b[0m\n\u001b[1;32m---> 90\u001b[1;33m             \u001b[1;32mreturn\u001b[0m \u001b[0mimport_item\u001b[0m\u001b[1;33m(\u001b[0m\u001b[0mname\u001b[0m\u001b[1;33m)\u001b[0m\u001b[1;33m\u001b[0m\u001b[0m\n\u001b[0m\u001b[0;32m     91\u001b[0m         \u001b[1;32mexcept\u001b[0m \u001b[0mImportError\u001b[0m\u001b[1;33m:\u001b[0m\u001b[1;33m\u001b[0m\u001b[0m\n",
      "\u001b[1;32mC:\\Users\\drose\\AppData\\Local\\Continuum\\Anaconda3\\lib\\site-packages\\IPython\\utils\\importstring.py\u001b[0m in \u001b[0;36mimport_item\u001b[1;34m(name)\u001b[0m\n\u001b[0;32m     34\u001b[0m         \u001b[1;32mexcept\u001b[0m \u001b[0mAttributeError\u001b[0m\u001b[1;33m:\u001b[0m\u001b[1;33m\u001b[0m\u001b[0m\n\u001b[1;32m---> 35\u001b[1;33m             \u001b[1;32mraise\u001b[0m \u001b[0mImportError\u001b[0m\u001b[1;33m(\u001b[0m\u001b[1;34m'No module named %s'\u001b[0m \u001b[1;33m%\u001b[0m \u001b[0mobj\u001b[0m\u001b[1;33m)\u001b[0m\u001b[1;33m\u001b[0m\u001b[0m\n\u001b[0m\u001b[0;32m     36\u001b[0m         \u001b[1;32mreturn\u001b[0m \u001b[0mpak\u001b[0m\u001b[1;33m\u001b[0m\u001b[0m\n",
      "\u001b[1;31mImportError\u001b[0m: No module named IntSliderWidget",
      "\nDuring handling of the above exception, another exception occurred:\n",
      "\u001b[1;31mAttributeError\u001b[0m                            Traceback (most recent call last)",
      "\u001b[1;32m<ipython-input-17-e3584f358b44>\u001b[0m in \u001b[0;36m<module>\u001b[1;34m()\u001b[0m\n\u001b[0;32m      2\u001b[0m     \u001b[1;32mreturn\u001b[0m \u001b[0msample\u001b[0m\u001b[1;33m.\u001b[0m\u001b[0mmean\u001b[0m\u001b[1;33m(\u001b[0m\u001b[1;33m)\u001b[0m\u001b[1;33m\u001b[0m\u001b[0m\n\u001b[0;32m      3\u001b[0m \u001b[1;33m\u001b[0m\u001b[0m\n\u001b[1;32m----> 4\u001b[1;33m \u001b[0mslider\u001b[0m \u001b[1;33m=\u001b[0m \u001b[0mwidgets\u001b[0m\u001b[1;33m.\u001b[0m\u001b[0mIntSliderWidget\u001b[0m\u001b[1;33m(\u001b[0m\u001b[0mmin\u001b[0m\u001b[1;33m=\u001b[0m\u001b[1;36m10\u001b[0m\u001b[1;33m,\u001b[0m \u001b[0mmax\u001b[0m\u001b[1;33m=\u001b[0m\u001b[1;36m1000\u001b[0m\u001b[1;33m,\u001b[0m \u001b[0mvalue\u001b[0m\u001b[1;33m=\u001b[0m\u001b[1;36m100\u001b[0m\u001b[1;33m)\u001b[0m\u001b[1;33m\u001b[0m\u001b[0m\n\u001b[0m\u001b[0;32m      5\u001b[0m \u001b[0minteract\u001b[0m\u001b[1;33m(\u001b[0m\u001b[0mplot_sample_stats\u001b[0m\u001b[1;33m,\u001b[0m \u001b[0mn\u001b[0m\u001b[1;33m=\u001b[0m\u001b[0mslider\u001b[0m\u001b[1;33m,\u001b[0m \u001b[0mxlim\u001b[0m\u001b[1;33m=\u001b[0m\u001b[0mfixed\u001b[0m\u001b[1;33m(\u001b[0m\u001b[1;33m[\u001b[0m\u001b[1;36m55\u001b[0m\u001b[1;33m,\u001b[0m \u001b[1;36m95\u001b[0m\u001b[1;33m]\u001b[0m\u001b[1;33m)\u001b[0m\u001b[1;33m)\u001b[0m\u001b[1;33m\u001b[0m\u001b[0m\n\u001b[0;32m      6\u001b[0m \u001b[1;32mNone\u001b[0m\u001b[1;33m\u001b[0m\u001b[0m\n",
      "\u001b[1;32mC:\\Users\\drose\\AppData\\Local\\Continuum\\Anaconda3\\lib\\site-packages\\IPython\\utils\\shimmodule.py\u001b[0m in \u001b[0;36m__getattr__\u001b[1;34m(self, key)\u001b[0m\n\u001b[0;32m     90\u001b[0m             \u001b[1;32mreturn\u001b[0m \u001b[0mimport_item\u001b[0m\u001b[1;33m(\u001b[0m\u001b[0mname\u001b[0m\u001b[1;33m)\u001b[0m\u001b[1;33m\u001b[0m\u001b[0m\n\u001b[0;32m     91\u001b[0m         \u001b[1;32mexcept\u001b[0m \u001b[0mImportError\u001b[0m\u001b[1;33m:\u001b[0m\u001b[1;33m\u001b[0m\u001b[0m\n\u001b[1;32m---> 92\u001b[1;33m             \u001b[1;32mraise\u001b[0m \u001b[0mAttributeError\u001b[0m\u001b[1;33m(\u001b[0m\u001b[0mkey\u001b[0m\u001b[1;33m)\u001b[0m\u001b[1;33m\u001b[0m\u001b[0m\n\u001b[0m",
      "\u001b[1;31mAttributeError\u001b[0m: IntSliderWidget"
     ]
    }
   ],
   "source": [
    "def sample_stat(sample):\n",
    "    return sample.mean()\n",
    "\n",
    "slider = widgets.IntSliderWidget(min=10, max=1000, value=100)\n",
    "interact(plot_sample_stats, n=slider, xlim=fixed([55, 95]))\n",
    "None"
   ]
  },
  {
   "cell_type": "markdown",
   "metadata": {},
   "source": [
    "This framework works with any other quantity we want to estimate.  By changing `sample_stat`, you can compute the SE and CI for any sample statistic:\n",
    "\n",
    "* Standard deviation of the sample.\n",
    "* Coefficient of variation, which is the sample standard deviation divided by the sample standard mean.\n",
    "* Min or Max\n",
    "* Median (which is the 50th percentile)\n",
    "* 10th or 90th percentile.\n",
    "* Interquartile range (IQR), which is the difference between the 75th and 25th percentiles.\n",
    "\n",
    "NumPy array methods you might find useful include `std`, `min`, `max`, and `percentile`.\n",
    "Depending on the results, you might want to adjust `xlim`."
   ]
  },
  {
   "cell_type": "code",
   "execution_count": null,
   "metadata": {},
   "outputs": [],
   "source": [
    "def sample_stat(sample):\n",
    "    return sample.std()\n",
    "\n",
    "slider = widgets.IntSliderWidget(min=10, max=1000, value=100)\n",
    "interact(plot_sample_stats, n=slider, xlim=fixed([0, 40]))\n",
    "None"
   ]
  },
  {
   "cell_type": "markdown",
   "metadata": {},
   "source": [
    "So far we have shown that if we know the actual distribution of the population, we can compute the sampling distribution for any sample statistic, and from that we can compute SE and CI.\n",
    "\n",
    "But in real life we don't know the actual distribution of the population.  If we did, we wouldn't need to estimate it!\n",
    "\n",
    "In real life, we use the sample to build a model of the population distribution, then use the model to generate the sampling distribution.  A simple and popular way to do that is \"resampling,\" which means we use the sample itself as a model of the population distribution and draw samples from it.\n",
    "\n",
    "Before we go on, I want to collect some of the code from Part One and organize it as a class.  This class represents a framework for computing sampling distributions."
   ]
  },
  {
   "cell_type": "code",
   "execution_count": null,
   "metadata": {},
   "outputs": [],
   "source": [
    "class Resampler(object):\n",
    "    \"\"\"Represents a framework for computing sampling distributions.\"\"\"\n",
    "    \n",
    "    def __init__(self, sample, xlim=None):\n",
    "        \"\"\"Stores the actual sample.\"\"\"\n",
    "        self.sample = sample\n",
    "        self.n = len(sample)\n",
    "        self.xlim = xlim\n",
    "        \n",
    "    def resample(self):\n",
    "        \"\"\"Generates a new sample by choosing from the original\n",
    "        sample with replacement.\n",
    "        \"\"\"\n",
    "        new_sample = numpy.random.choice(self.sample, self.n, replace=True)\n",
    "        return new_sample\n",
    "    \n",
    "    def sample_stat(self, sample):\n",
    "        \"\"\"Computes a sample statistic using the original sample or a\n",
    "        simulated sample.\n",
    "        \"\"\"\n",
    "        return sample.mean()\n",
    "    \n",
    "    def compute_sample_statistics(self, iters=1000):\n",
    "        \"\"\"Simulates many experiments and collects the resulting sample\n",
    "        statistics.\n",
    "        \"\"\"\n",
    "        stats = [self.sample_stat(self.resample()) for i in range(iters)]\n",
    "        return numpy.array(stats)\n",
    "    \n",
    "    def plot_sample_stats(self):\n",
    "        \"\"\"Runs simulated experiments and summarizes the results.\n",
    "        \"\"\"\n",
    "        sample_stats = self.compute_sample_statistics()\n",
    "        summarize_sampling_distribution(sample_stats)\n",
    "        pyplot.hist(sample_stats, color=COLOR2)\n",
    "        pyplot.xlabel('sample statistic')\n",
    "        pyplot.xlim(self.xlim)"
   ]
  },
  {
   "cell_type": "markdown",
   "metadata": {},
   "source": [
    "The following function instantiates a `Resampler` and runs it."
   ]
  },
  {
   "cell_type": "code",
   "execution_count": null,
   "metadata": {},
   "outputs": [],
   "source": [
    "def plot_resampled_stats(n=100):\n",
    "    sample = weight.rvs(n)\n",
    "    resampler = Resampler(sample, xlim=[55, 95])\n",
    "    resampler.plot_sample_stats()"
   ]
  },
  {
   "cell_type": "markdown",
   "metadata": {},
   "source": [
    "Here's a test run with `n=100`"
   ]
  },
  {
   "cell_type": "code",
   "execution_count": null,
   "metadata": {},
   "outputs": [],
   "source": [
    "plot_resampled_stats(100)"
   ]
  },
  {
   "cell_type": "markdown",
   "metadata": {},
   "source": [
    "Now we can use `plot_resampled_stats` in an interaction:"
   ]
  },
  {
   "cell_type": "code",
   "execution_count": null,
   "metadata": {},
   "outputs": [],
   "source": [
    "slider = widgets.IntSliderWidget(min=10, max=1000, value=100)\n",
    "interact(plot_resampled_stats, n=slider, xlim=fixed([1, 15]))\n",
    "None"
   ]
  },
  {
   "cell_type": "markdown",
   "metadata": {},
   "source": [
    "Now we can write a new class called `StdResampler` that inherits from `Resampler` and overrides `sample_stat` so it computes the standard deviation of the resampled data."
   ]
  },
  {
   "cell_type": "code",
   "execution_count": null,
   "metadata": {},
   "outputs": [],
   "source": [
    "class StdResampler(Resampler):   \n",
    "    \"\"\"Computes the sampling distribution of the standard deviation.\"\"\"\n",
    "    \n",
    "    def sample_stat(self, sample):\n",
    "        \"\"\"Computes a sample statistic using the original sample or a\n",
    "        simulated sample.\n",
    "        \"\"\"\n",
    "        return sample.std()"
   ]
  },
  {
   "cell_type": "markdown",
   "metadata": {},
   "source": [
    "Here's how it works:"
   ]
  },
  {
   "cell_type": "code",
   "execution_count": null,
   "metadata": {},
   "outputs": [],
   "source": [
    "def plot_resampled_stats(n=100):\n",
    "    sample = weight.rvs(n)\n",
    "    resampler = StdResampler(sample, xlim=[0, 40])\n",
    "    resampler.plot_sample_stats()\n",
    "    \n",
    "plot_resampled_stats()"
   ]
  },
  {
   "cell_type": "markdown",
   "metadata": {},
   "source": [
    "When your `StdResampler` is working, you should be able to interact with it:"
   ]
  },
  {
   "cell_type": "code",
   "execution_count": null,
   "metadata": {},
   "outputs": [],
   "source": [
    "slider = widgets.IntSliderWidget(min=10, max=1000, value=40)\n",
    "interact(plot_resampled_stats, n=slider)\n",
    "None"
   ]
  },
  {
   "cell_type": "markdown",
   "metadata": {},
   "source": [
    "We can extend this framework to compute SE and CI for a difference in means.\n",
    "\n",
    "For example, men are heavier than women on average.  Here's the women's distribution again (from BRFSS data):"
   ]
  },
  {
   "cell_type": "code",
   "execution_count": null,
   "metadata": {},
   "outputs": [],
   "source": [
    "female_weight = scipy.stats.lognorm(0.23, 0, 70.8)\n",
    "female_weight.mean(), female_weight.std()"
   ]
  },
  {
   "cell_type": "markdown",
   "metadata": {},
   "source": [
    "And here's the men's distribution:"
   ]
  },
  {
   "cell_type": "code",
   "execution_count": null,
   "metadata": {},
   "outputs": [],
   "source": [
    "male_weight = scipy.stats.lognorm(0.20, 0, 87.3)\n",
    "male_weight.mean(), male_weight.std()"
   ]
  },
  {
   "cell_type": "markdown",
   "metadata": {},
   "source": [
    "I'll simulate a sample of 100 men and 100 women:"
   ]
  },
  {
   "cell_type": "code",
   "execution_count": null,
   "metadata": {},
   "outputs": [],
   "source": [
    "female_sample = female_weight.rvs(100)\n",
    "male_sample = male_weight.rvs(100)"
   ]
  },
  {
   "cell_type": "markdown",
   "metadata": {},
   "source": [
    "The difference in means should be about 17 kg, but will vary from one random sample to the next:"
   ]
  },
  {
   "cell_type": "code",
   "execution_count": null,
   "metadata": {},
   "outputs": [],
   "source": [
    "male_sample.mean() - female_sample.mean()"
   ]
  },
  {
   "cell_type": "markdown",
   "metadata": {},
   "source": [
    "Here's the function that computes Cohen's $d$ again:"
   ]
  },
  {
   "cell_type": "code",
   "execution_count": null,
   "metadata": {},
   "outputs": [],
   "source": [
    "def CohenEffectSize(group1, group2):\n",
    "    \"\"\"Compute Cohen's d.\n",
    "\n",
    "    group1: Series or NumPy array\n",
    "    group2: Series or NumPy array\n",
    "\n",
    "    returns: float\n",
    "    \"\"\"\n",
    "    diff = group1.mean() - group2.mean()\n",
    "\n",
    "    n1, n2 = len(group1), len(group2)\n",
    "    var1 = group1.var()\n",
    "    var2 = group2.var()\n",
    "\n",
    "    pooled_var = (n1 * var1 + n2 * var2) / (n1 + n2)\n",
    "    d = diff / numpy.sqrt(pooled_var)\n",
    "    return d"
   ]
  },
  {
   "cell_type": "markdown",
   "metadata": {},
   "source": [
    "The difference in weight between men and women is about 1 standard deviation:"
   ]
  },
  {
   "cell_type": "code",
   "execution_count": null,
   "metadata": {},
   "outputs": [],
   "source": [
    "CohenEffectSize(male_sample, female_sample)"
   ]
  },
  {
   "cell_type": "markdown",
   "metadata": {},
   "source": [
    "Now we can write a version of the `Resampler` that computes the sampling distribution of $d$."
   ]
  },
  {
   "cell_type": "code",
   "execution_count": null,
   "metadata": {},
   "outputs": [],
   "source": [
    "class CohenResampler(Resampler):\n",
    "    def __init__(self, group1, group2, xlim=None):\n",
    "        self.group1 = group1\n",
    "        self.group2 = group2\n",
    "        self.xlim = xlim\n",
    "        \n",
    "    def resample(self):\n",
    "        group1 = numpy.random.choice(self.group1, len(self.group1), replace=True)\n",
    "        group2 = numpy.random.choice(self.group2, len(self.group2), replace=True)\n",
    "        return group1, group2\n",
    "    \n",
    "    def sample_stat(self, groups):\n",
    "        group1, group2 = groups\n",
    "        return CohenEffectSize(group1, group2)\n",
    "    \n",
    "    # NOTE: The following functions are the same as the ones in Resampler,\n",
    "    # so I could just inherit them, but I'm including them for readability\n",
    "    def compute_sample_statistics(self, iters=1000):\n",
    "        stats = [self.sample_stat(self.resample()) for i in range(iters)]\n",
    "        return numpy.array(stats)\n",
    "    \n",
    "    def plot_sample_stats(self):\n",
    "        sample_stats = self.compute_sample_statistics()\n",
    "        summarize_sampling_distribution(sample_stats)\n",
    "        pyplot.hist(sample_stats, color=COLOR2)\n",
    "        pyplot.xlabel('sample statistic')\n",
    "        pyplot.xlim(self.xlim)"
   ]
  },
  {
   "cell_type": "markdown",
   "metadata": {},
   "source": [
    "Now we can instantiate a `CohenResampler` and plot the sampling distribution."
   ]
  },
  {
   "cell_type": "code",
   "execution_count": null,
   "metadata": {},
   "outputs": [],
   "source": [
    "resampler = CohenResampler(male_sample, female_sample)\n",
    "resampler.plot_sample_stats()"
   ]
  },
  {
   "cell_type": "markdown",
   "metadata": {},
   "source": [
    "This example demonstrates an advantage of the computational framework over mathematical analysis.  Statistics like Cohen's $d$, which is the ratio of other statistics, are relatively difficult to analyze.  But with a computational approach, all sample statistics are equally \"easy\".\n",
    "\n",
    "One note on vocabulary: what I am calling \"resampling\" here is a specific kind of resampling called \"bootstrapping\".  Other techniques that are also considering resampling include permutation tests, which we'll see in the next section, and \"jackknife\" resampling.  You can read more at <http://en.wikipedia.org/wiki/Resampling_(statistics)>."
   ]
  },
  {
   "cell_type": "code",
   "execution_count": null,
   "metadata": {},
   "outputs": [],
   "source": []
  }
 ],
 "metadata": {
  "kernelspec": {
   "display_name": "Python 3",
   "language": "python",
   "name": "python3"
  },
  "language_info": {
   "codemirror_mode": {
    "name": "ipython",
    "version": 3
   },
   "file_extension": ".py",
   "mimetype": "text/x-python",
   "name": "python",
   "nbconvert_exporter": "python",
   "pygments_lexer": "ipython3",
   "version": "3.6.1"
  }
 },
 "nbformat": 4,
 "nbformat_minor": 1
}
