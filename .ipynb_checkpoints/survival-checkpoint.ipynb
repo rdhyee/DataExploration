{
 "cells": [
  {
   "cell_type": "markdown",
   "metadata": {},
   "source": [
    "Survival analysis\n",
    "=================\n",
    "\n",
    "Copyright 2015 Allen Downey\n",
    "\n",
    "License: [Creative Commons Attribution 4.0 International](http://creativecommons.org/licenses/by/4.0/)"
   ]
  },
  {
   "cell_type": "code",
   "execution_count": 1,
   "metadata": {},
   "outputs": [],
   "source": [
    "from __future__ import print_function, division\n",
    "\n",
    "import marriage\n",
    "\n",
    "import thinkstats2\n",
    "import thinkplot\n",
    "\n",
    "import pandas as pd\n",
    "import numpy as np\n",
    "\n",
    "import math\n",
    "\n",
    "import matplotlib.pyplot as pyplot\n",
    "from matplotlib import pylab\n",
    "\n",
    "from scipy.interpolate import interp1d\n",
    "from scipy.misc import derivative\n",
    "\n",
    "%matplotlib inline"
   ]
  },
  {
   "cell_type": "markdown",
   "metadata": {},
   "source": [
    "Load the data:"
   ]
  },
  {
   "cell_type": "code",
   "execution_count": null,
   "metadata": {},
   "outputs": [],
   "source": [
    "resp8 = marriage.ReadFemResp2013()\n",
    "marriage.Validate2013(resp8)\n",
    "\n",
    "resp7 = marriage.ReadFemResp2010()\n",
    "marriage.Validate2010(resp7)\n",
    "\n",
    "resp6 = marriage.ReadFemResp2002()\n",
    "marriage.Validate2002(resp6)\n",
    "\n",
    "resp5 = marriage.ReadFemResp1995()\n",
    "marriage.Validate1995(resp5)\n",
    "\n",
    "resp4 = marriage.ReadFemResp1988()\n",
    "marriage.Validate1988(resp4)\n",
    "\n",
    "resp3 = marriage.ReadFemResp1982()\n",
    "marriage.Validate1982(resp3)"
   ]
  },
  {
   "cell_type": "markdown",
   "metadata": {},
   "source": [
    "Make a list of DataFrames, one for each cycle:"
   ]
  },
  {
   "cell_type": "code",
   "execution_count": null,
   "metadata": {},
   "outputs": [],
   "source": [
    "resps = [resp8, resp7, resp6, resp5, resp4, resp3]"
   ]
  },
  {
   "cell_type": "markdown",
   "metadata": {},
   "source": [
    "Make a table showing the number of respondents in each cycle:"
   ]
  },
  {
   "cell_type": "code",
   "execution_count": null,
   "metadata": {},
   "outputs": [],
   "source": [
    "def SummarizeCycle(df):\n",
    "    ages = df.age.min(), df.age.max()\n",
    "    ages= np.array(ages)\n",
    "    \n",
    "    intvws = df.cmintvw.min(), df.cmintvw.max()\n",
    "    intvws = np.array(intvws) / 12 + 1900\n",
    "    \n",
    "    births = df.cmbirth.min(), df.cmbirth.max()\n",
    "    births = np.array(births) / 12 + 1900\n",
    "\n",
    "    print('# & ', intvws.astype(int), '&', len(df), '&', births.astype(int), r'\\\\')\n",
    "    \n",
    "for resp in reversed(resps):\n",
    "    SummarizeCycle(resp)"
   ]
  },
  {
   "cell_type": "markdown",
   "metadata": {},
   "source": [
    "Check for missing values in `agemarry`:"
   ]
  },
  {
   "cell_type": "code",
   "execution_count": 5,
   "metadata": {},
   "outputs": [
    {
     "name": "stdout",
     "output_type": "stream",
     "text": [
      "17\n",
      "16\n",
      "37\n",
      "0\n",
      "0\n",
      "0\n"
     ]
    }
   ],
   "source": [
    "def CheckAgeVars(df):\n",
    "    print(sum(df[df.evrmarry].agemarry.isnull()))\n",
    "    \n",
    "for resp in resps:\n",
    "    CheckAgeVars(resp)"
   ]
  },
  {
   "cell_type": "markdown",
   "metadata": {},
   "source": [
    "Combine the DataFrames (but remember that this is not resampled properly):"
   ]
  },
  {
   "cell_type": "code",
   "execution_count": 6,
   "metadata": {},
   "outputs": [
    {
     "data": {
      "text/plain": [
       "52789"
      ]
     },
     "execution_count": 6,
     "metadata": {},
     "output_type": "execute_result"
    }
   ],
   "source": [
    "df = pd.concat(resps, ignore_index=True)\n",
    "len(df)"
   ]
  },
  {
   "cell_type": "markdown",
   "metadata": {},
   "source": [
    "Double check missing data:"
   ]
  },
  {
   "cell_type": "code",
   "execution_count": 7,
   "metadata": {},
   "outputs": [
    {
     "data": {
      "text/plain": [
       "70"
      ]
     },
     "execution_count": 7,
     "metadata": {},
     "output_type": "execute_result"
    }
   ],
   "source": [
    "df['missing'] = (df.evrmarry & df.agemarry.isnull())\n",
    "sum(df.missing)"
   ]
  },
  {
   "cell_type": "markdown",
   "metadata": {},
   "source": [
    "Test run the resampling process:"
   ]
  },
  {
   "cell_type": "markdown",
   "metadata": {},
   "source": [
    "Generate a table with the number of respondents in each cohort (not resampled):"
   ]
  },
  {
   "cell_type": "code",
   "execution_count": 9,
   "metadata": {},
   "outputs": [
    {
     "name": "stdout",
     "output_type": "stream",
     "text": [
      "30 & 325 & 42 -- 44 & 310 & 0 \\\\\n",
      "40 & 3608 & 32 -- 44 & 3275 & 0 \\\\\n",
      "50 & 10631 & 22 -- 44 & 8658 & 10 \\\\\n",
      "60 & 14484 & 15 -- 44 & 8421 & 27 \\\\\n",
      "70 & 12083 & 14 -- 43 & 5908 & 25 \\\\\n",
      "80 & 8536 & 14 -- 33 & 2203 & 8 \\\\\n",
      "90 & 3122 & 15 -- 23 & 93 & 0 \\\\\n"
     ]
    }
   ],
   "source": [
    "marriage.DigitizeResp(df)\n",
    "grouped = df.groupby('birth_index')\n",
    "for name, group in iter(grouped):\n",
    "    print(name, '&', len(group), '&', int(group.age.min()), '--', int(group.age_index.max()), '&', len(group[group.evrmarry]), '&', sum(group.missing), r'\\\\')"
   ]
  },
  {
   "cell_type": "markdown",
   "metadata": {},
   "source": [
    "Use the 30s cohort to demonstrate the simple way to do survival analysis, by computing the survival function using the CDF.\n",
    "\n",
    "$SF(t) = 1 - CDF(t)$"
   ]
  },
  {
   "cell_type": "code",
   "execution_count": 10,
   "metadata": {},
   "outputs": [],
   "source": [
    "from marriage import SurvivalFunction\n",
    "\n",
    "def MakeSurvivalFunction(values, label=''):\n",
    "    cdf = thinkstats2.Cdf(values)\n",
    "    xs = cdf.xs\n",
    "    ss = 1 - cdf.ps\n",
    "    return SurvivalFunction(xs, ss, label)"
   ]
  },
  {
   "cell_type": "markdown",
   "metadata": {},
   "source": [
    "Select the 30s cohort and make the plot."
   ]
  },
  {
   "cell_type": "code",
   "execution_count": 11,
   "metadata": {},
   "outputs": [
    {
     "data": {
      "image/png": "[encoded data removed]",
      "text/plain": [
       "<matplotlib.figure.Figure at 0x7f547af99350>"
      ]
     },
     "metadata": {},
     "output_type": "display_data"
    }
   ],
   "source": [
    "cohort = grouped.get_group(30)\n",
    "sf = MakeSurvivalFunction(cohort.agemarry_index.fillna(np.inf))\n",
    "\n",
    "thinkplot.PrePlot(2)\n",
    "thinkplot.Plot(sf, label='30s')\n",
    "thinkplot.Config(xlabel='age (years)',\n",
    "                 ylabel='SF(age)',\n",
    "                 xlim=[13, 41])"
   ]
  },
  {
   "cell_type": "markdown",
   "metadata": {},
   "source": [
    "Then use the SurvivalFunction to compute the HazardFunction\n",
    "\n",
    "$HF(t) = \\frac{SF(x) - SF(x+1)}{SF(x)}$"
   ]
  },
  {
   "cell_type": "markdown",
   "metadata": {},
   "source": [
    "    def MakeHazardFunction(self, label=''):\n",
    "        \"\"\"Computes the hazard function.\n",
    "\n",
    "        This simple version does not take into account the\n",
    "        spacing between the ts.  If the ts are not equally\n",
    "        spaced, it is not valid to compare the magnitude of\n",
    "        the hazard function across different time steps.\n",
    "\n",
    "        label: string\n",
    "\n",
    "        returns: HazardFunction object\n",
    "        \"\"\"\n",
    "        lams = pd.Series(index=self.ts)\n",
    "\n",
    "        prev = 1.0\n",
    "        for t, s in zip(self.ts, self.ss):\n",
    "            lams[t] = (prev - s) / prev\n",
    "            prev = s\n",
    "\n",
    "        return HazardFunction(lams, label=label)"
   ]
  },
  {
   "cell_type": "code",
   "execution_count": 12,
   "metadata": {},
   "outputs": [
    {
     "data": {
      "image/png": "[encoded data removed]",
      "text/plain": [
       "<matplotlib.figure.Figure at 0x7f54acefe750>"
      ]
     },
     "metadata": {},
     "output_type": "display_data"
    }
   ],
   "source": [
    "hf = sf.MakeHazardFunction()\n",
    "\n",
    "thinkplot.Plot(hf, label='30s')\n",
    "thinkplot.Config(xlabel='age (years)',\n",
    "                 ylabel='HF(age)',\n",
    "                 xlim=[13, 41])"
   ]
  },
  {
   "cell_type": "markdown",
   "metadata": {},
   "source": [
    "Here's the function that implements Kaplan-Meier estimation (http://en.wikipedia.org/wiki/Kaplan-Meier_estimator)\n",
    "\n",
    "The kernel of the algorithm is\n",
    "\n",
    "$HF(t) = \\mbox{ended}(t) / \\mbox{at_risk}(t)$ "
   ]
  },
  {
   "cell_type": "code",
   "execution_count": 13,
   "metadata": {},
   "outputs": [],
   "source": [
    "from collections import Counter\n",
    "\n",
    "def EstimateHazard(complete, ongoing, label=''):\n",
    "    \"\"\"Estimates the hazard function by Kaplan-Meier.\n",
    "\n",
    "\n",
    "    complete: list of complete lifetimes\n",
    "    ongoing: list of ongoing lifetimes\n",
    "    label: string\n",
    "    \"\"\"\n",
    "    hist_complete = Counter(complete)\n",
    "    hist_ongoing = Counter(ongoing)\n",
    "\n",
    "    ts = list(hist_complete | hist_ongoing)\n",
    "    ts.sort()\n",
    "\n",
    "    at_risk = len(complete) + len(ongoing)\n",
    "\n",
    "    lams = pd.Series(index=ts)\n",
    "    for t in ts:\n",
    "        ended = hist_complete[t]\n",
    "        censored = hist_ongoing[t]\n",
    "\n",
    "        lams[t] = ended / at_risk\n",
    "        at_risk -= ended + censored\n",
    "\n",
    "    return marriage.HazardFunction(lams, label=label)"
   ]
  },
  {
   "cell_type": "markdown",
   "metadata": {},
   "source": [
    "As an example, I select the 40s cohort, extract `complete` and `ongoing`, and estimate the hazard function."
   ]
  },
  {
   "cell_type": "code",
   "execution_count": 17,
   "metadata": {},
   "outputs": [
    {
     "name": "stdout",
     "output_type": "stream",
     "text": [
      "age\tatRisk\tended\tcensor\thf\n",
      "14.0\t4031\t63\t0\t0.0156288762094\n",
      "15.0\t3968\t97\t0\t0.0244455645161\n",
      "16.0\t3871\t182\t0\t0.0470162748644\n",
      "17.0\t3689\t343\t0\t0.0929791271347\n",
      "18.0\t3346\t458\t0\t0.136879856545\n",
      "19.0\t2888\t491\t0\t0.170013850416\n",
      "20.0\t2397\t441\t0\t0.183979974969\n",
      "21.0\t1956\t394\t0\t0.201431492843\n",
      "22.0\t1562\t310\t0\t0.198463508323\n",
      "23.0\t1252\t225\t0\t0.179712460064\n",
      "24.0\t1027\t169\t0\t0.164556962025\n",
      "25.0\t858\t132\t0\t0.153846153846\n",
      "26.0\t726\t84\t0\t0.115702479339\n",
      "27.0\t642\t77\t0\t0.119937694704\n",
      "28.0\t565\t62\t0\t0.109734513274\n",
      "29.0\t503\t36\t0\t0.0715705765408\n",
      "30.0\t467\t39\t1\t0.0835117773019\n",
      "31.0\t427\t32\t3\t0.0749414519906\n",
      "32.0\t392\t16\t16\t0.0408163265306\n",
      "33.0\t360\t14\t21\t0.0388888888889\n",
      "34.0\t325\t15\t23\t0.0461538461538\n",
      "35.0\t287\t14\t29\t0.0487804878049\n",
      "36.0\t244\t5\t27\t0.0204918032787\n",
      "37.0\t212\t3\t16\t0.0141509433962\n",
      "38.0\t193\t5\t29\t0.0259067357513\n",
      "39.0\t159\t5\t39\t0.0314465408805\n",
      "40.0\t115\t0\t41\t0.0\n",
      "41.0\t74\t1\t32\t0.0135135135135\n",
      "42.0\t41\t1\t16\t0.0243902439024\n",
      "43.0\t24\t0\t14\t0.0\n",
      "44.0\t10\t0\t10\t0.0\n"
     ]
    }
   ],
   "source": [
    "sample = marriage.ResampleResps(resps)\n",
    "grouped = sample.groupby('birth_index')\n",
    "group = grouped.get_group(40)\n",
    "\n",
    "complete = group[group.evrmarry].agemarry_index\n",
    "ongoing = group[~group.evrmarry].age_index\n",
    "\n",
    "print('age', 'atRisk', 'ended', 'censor', 'hf', sep='\\t')\n",
    "hf = marriage.EstimateHazard(complete, ongoing, label='', verbose=True)"
   ]
  },
  {
   "cell_type": "markdown",
   "metadata": {},
   "source": [
    "Here's what the hazard function looks like."
   ]
  },
  {
   "cell_type": "code",
   "execution_count": 18,
   "metadata": {},
   "outputs": [
    {
     "data": {
      "image/png": "[encoded data removed]",
      "text/plain": [
       "<matplotlib.figure.Figure at 0x7f5477814210>"
      ]
     },
     "metadata": {},
     "output_type": "display_data"
    }
   ],
   "source": [
    "thinkplot.PrePlot(1)\n",
    "thinkplot.Plot(hf, label='40s')\n",
    "thinkplot.Config(xlabel='age (years)',\n",
    "                 ylabel='HF(age)',\n",
    "                 xlim=[13, 45])"
   ]
  },
  {
   "cell_type": "markdown",
   "metadata": {},
   "source": [
    "Given the hazard function, we can compute the survival function as a cumulative product.\n",
    "\n",
    "$SF(t) = \\prod_{t_i < t}[1 - HF(t)]$\n",
    "\n",
    "In order to survive until $t$, you have to not die at each time prior to $t$."
   ]
  },
  {
   "cell_type": "markdown",
   "metadata": {},
   "source": [
    "    # in class HazardFunction\n",
    "    def MakeSurvival(self, label=''):\n",
    "        \"\"\"Makes the survival function.\n",
    "\n",
    "        returns: SurvivalFunction\n",
    "        \"\"\"\n",
    "        series = (1 - self.series).cumprod()\n",
    "        ts = series.index.values\n",
    "        ss = series.values\n",
    "        return SurvivalFunction(ts, ss, label=label)\n"
   ]
  },
  {
   "cell_type": "markdown",
   "metadata": {},
   "source": [
    "Here's the same thing encapsulated in a function."
   ]
  },
  {
   "cell_type": "code",
   "execution_count": 19,
   "metadata": {},
   "outputs": [],
   "source": [
    "def EstimateSurvival(resp, cutoff=None):\n",
    "    \"\"\"Estimates the survival curve.\n",
    "\n",
    "    resp: DataFrame of respondents\n",
    "    cutoff: where to truncate the estimated functions\n",
    "\n",
    "    returns: pair of HazardFunction, SurvivalFunction\n",
    "    \"\"\"\n",
    "    complete = resp[resp.evrmarry].agemarry_index\n",
    "    ongoing = resp[~resp.evrmarry].age_index\n",
    "\n",
    "    hf = EstimateHazard(complete, ongoing, jitter=0)\n",
    "    if cutoff:\n",
    "        hf.Truncate(cutoff)\n",
    "    sf = hf.MakeSurvival()\n",
    "\n",
    "    return hf, sf"
   ]
  },
  {
   "cell_type": "markdown",
   "metadata": {},
   "source": [
    "Now we can iterate through the cohorts and plot the survival function for each."
   ]
  },
  {
   "cell_type": "code",
   "execution_count": 20,
   "metadata": {},
   "outputs": [
    {
     "ename": "TypeError",
     "evalue": "EstimateHazard() got an unexpected keyword argument 'jitter'",
     "output_type": "error",
     "traceback": [
      "\u001b[1;31m---------------------------------------------------------------------------\u001b[0m",
      "\u001b[1;31mTypeError\u001b[0m                                 Traceback (most recent call last)",
      "\u001b[1;32m<ipython-input-20-38921b3d3c2b>\u001b[0m in \u001b[0;36m<module>\u001b[1;34m()\u001b[0m\n\u001b[0;32m      9\u001b[0m     \u001b[0mgroup\u001b[0m \u001b[1;33m=\u001b[0m \u001b[0mgrouped\u001b[0m\u001b[1;33m.\u001b[0m\u001b[0mget_group\u001b[0m\u001b[1;33m(\u001b[0m\u001b[0mcohort\u001b[0m\u001b[1;33m)\u001b[0m\u001b[1;33m\u001b[0m\u001b[0m\n\u001b[0;32m     10\u001b[0m     \u001b[0mcutoff\u001b[0m \u001b[1;33m=\u001b[0m \u001b[0mcutoffs\u001b[0m\u001b[1;33m.\u001b[0m\u001b[0mget\u001b[0m\u001b[1;33m(\u001b[0m\u001b[0mcohort\u001b[0m\u001b[1;33m)\u001b[0m\u001b[1;33m\u001b[0m\u001b[0m\n\u001b[1;32m---> 11\u001b[1;33m     \u001b[0mhf\u001b[0m\u001b[1;33m,\u001b[0m \u001b[0msf\u001b[0m \u001b[1;33m=\u001b[0m \u001b[0mEstimateSurvival\u001b[0m\u001b[1;33m(\u001b[0m\u001b[0mgroup\u001b[0m\u001b[1;33m,\u001b[0m \u001b[0mcutoff\u001b[0m\u001b[1;33m)\u001b[0m\u001b[1;33m\u001b[0m\u001b[0m\n\u001b[0m\u001b[0;32m     12\u001b[0m \u001b[1;33m\u001b[0m\u001b[0m\n\u001b[0;32m     13\u001b[0m     \u001b[0mthinkplot\u001b[0m\u001b[1;33m.\u001b[0m\u001b[0mPlot\u001b[0m\u001b[1;33m(\u001b[0m\u001b[0msf\u001b[0m\u001b[1;33m,\u001b[0m \u001b[0mlabel\u001b[0m\u001b[1;33m=\u001b[0m\u001b[0mcohort\u001b[0m\u001b[1;33m)\u001b[0m\u001b[1;33m\u001b[0m\u001b[0m\n",
      "\u001b[1;32m<ipython-input-19-02842a83862f>\u001b[0m in \u001b[0;36mEstimateSurvival\u001b[1;34m(resp, cutoff)\u001b[0m\n\u001b[0;32m     10\u001b[0m     \u001b[0mongoing\u001b[0m \u001b[1;33m=\u001b[0m \u001b[0mresp\u001b[0m\u001b[1;33m[\u001b[0m\u001b[1;33m~\u001b[0m\u001b[0mresp\u001b[0m\u001b[1;33m.\u001b[0m\u001b[0mevrmarry\u001b[0m\u001b[1;33m]\u001b[0m\u001b[1;33m.\u001b[0m\u001b[0mage_index\u001b[0m\u001b[1;33m\u001b[0m\u001b[0m\n\u001b[0;32m     11\u001b[0m \u001b[1;33m\u001b[0m\u001b[0m\n\u001b[1;32m---> 12\u001b[1;33m     \u001b[0mhf\u001b[0m \u001b[1;33m=\u001b[0m \u001b[0mEstimateHazard\u001b[0m\u001b[1;33m(\u001b[0m\u001b[0mcomplete\u001b[0m\u001b[1;33m,\u001b[0m \u001b[0mongoing\u001b[0m\u001b[1;33m,\u001b[0m \u001b[0mjitter\u001b[0m\u001b[1;33m=\u001b[0m\u001b[1;36m0\u001b[0m\u001b[1;33m)\u001b[0m\u001b[1;33m\u001b[0m\u001b[0m\n\u001b[0m\u001b[0;32m     13\u001b[0m     \u001b[1;32mif\u001b[0m \u001b[0mcutoff\u001b[0m\u001b[1;33m:\u001b[0m\u001b[1;33m\u001b[0m\u001b[0m\n\u001b[0;32m     14\u001b[0m         \u001b[0mhf\u001b[0m\u001b[1;33m.\u001b[0m\u001b[0mTruncate\u001b[0m\u001b[1;33m(\u001b[0m\u001b[0mcutoff\u001b[0m\u001b[1;33m)\u001b[0m\u001b[1;33m\u001b[0m\u001b[0m\n",
      "\u001b[1;31mTypeError\u001b[0m: EstimateHazard() got an unexpected keyword argument 'jitter'"
     ]
    }
   ],
   "source": [
    "sample = marriage.ResampleResps(resps)\n",
    "grouped = sample.groupby('birth_index')\n",
    "\n",
    "cutoffs = {70:43, 80:33, 90:23}\n",
    "cohorts = [90, 80, 70, 60, 50, 40]\n",
    "\n",
    "thinkplot.PrePlot(len(cohorts))\n",
    "for cohort in cohorts:\n",
    "    group = grouped.get_group(cohort)\n",
    "    cutoff = cutoffs.get(cohort)\n",
    "    hf, sf = EstimateSurvival(group, cutoff)\n",
    "\n",
    "    thinkplot.Plot(sf, label=cohort)\n",
    "             \n",
    "thinkplot.Config(xlabel='age (years)',\n",
    "                 ylabel='SF(age)')"
   ]
  },
  {
   "cell_type": "markdown",
   "metadata": {},
   "source": [
    "A couple of observations:\n",
    "\n",
    "1) People are getting married later and later.\n",
    "\n",
    "2) In the first few cohorts the fraction of people who never married was increasing only slowly.  It looks like that might be accelerating in the more recent cohorts.\n",
    "\n",
    "Note that this is based on resampled data, so it will look slightly different each time.  By running several iteration, we can quantify variability due to sampling.  It turns out to be quite small."
   ]
  },
  {
   "cell_type": "code",
   "execution_count": null,
   "metadata": {},
   "outputs": [],
   "source": []
  }
 ],
 "metadata": {
  "kernelspec": {
   "display_name": "Python [conda root]",
   "language": "python",
   "name": "conda-root-py"
  },
  "language_info": {
   "codemirror_mode": {
    "name": "ipython",
    "version": 2
   },
   "file_extension": ".py",
   "mimetype": "text/x-python",
   "name": "python",
   "nbconvert_exporter": "python",
   "pygments_lexer": "ipython2",
   "version": "2.7.10"
  }
 },
 "nbformat": 4,
 "nbformat_minor": 1
}
