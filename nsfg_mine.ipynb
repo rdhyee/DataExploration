{
 "cells": [
  {
   "cell_type": "code",
   "execution_count": 4,
   "metadata": {
    "collapsed": true
   },
   "outputs": [],
   "source": [
    "import numpy as np\n",
    "import thinkstats2"
   ]
  },
  {
   "cell_type": "code",
   "execution_count": 5,
   "metadata": {
    "collapsed": true
   },
   "outputs": [],
   "source": [
    "def ReadFemPreg(dct_file = '2002FemPreg.dct',\n",
    "               dat_file = '2002FemPreg.dat.gz'):\n",
    "    #returns DataFrame\n",
    "    dct = thinkstats2.ReadStataDct(dct_file)\n",
    "    preg = dct.ReadFixedWidth(dat_file, compression = 'gzip')\n",
    "    return preg"
   ]
  },
  {
   "cell_type": "code",
   "execution_count": 6,
   "metadata": {
    "collapsed": false
   },
   "outputs": [
    {
     "name": "stdout",
     "output_type": "stream",
     "text": [
      "(13593, 243)\n"
     ]
    }
   ],
   "source": [
    "preg = ReadFemPreg()\n",
    "print(preg.shape)"
   ]
  },
  {
   "cell_type": "code",
   "execution_count": 7,
   "metadata": {
    "collapsed": false
   },
   "outputs": [
    {
     "data": {
      "text/html": [
       "<div>\n",
       "<table border=\"1\" class=\"dataframe\">\n",
       "  <thead>\n",
       "    <tr style=\"text-align: right;\">\n",
       "      <th></th>\n",
       "      <th>caseid</th>\n",
       "      <th>pregordr</th>\n",
       "      <th>howpreg_n</th>\n",
       "      <th>howpreg_p</th>\n",
       "      <th>moscurrp</th>\n",
       "      <th>nowprgdk</th>\n",
       "      <th>pregend1</th>\n",
       "      <th>pregend2</th>\n",
       "      <th>nbrnaliv</th>\n",
       "      <th>multbrth</th>\n",
       "      <th>...</th>\n",
       "      <th>poverty_i</th>\n",
       "      <th>laborfor_i</th>\n",
       "      <th>religion_i</th>\n",
       "      <th>metro_i</th>\n",
       "      <th>basewgt</th>\n",
       "      <th>adj_mod_basewgt</th>\n",
       "      <th>finalwgt</th>\n",
       "      <th>secu_p</th>\n",
       "      <th>sest</th>\n",
       "      <th>cmintvw</th>\n",
       "    </tr>\n",
       "  </thead>\n",
       "  <tbody>\n",
       "    <tr>\n",
       "      <th>0</th>\n",
       "      <td>1</td>\n",
       "      <td>1</td>\n",
       "      <td>NaN</td>\n",
       "      <td>NaN</td>\n",
       "      <td>NaN</td>\n",
       "      <td>NaN</td>\n",
       "      <td>6.0</td>\n",
       "      <td>NaN</td>\n",
       "      <td>1.0</td>\n",
       "      <td>NaN</td>\n",
       "      <td>...</td>\n",
       "      <td>0</td>\n",
       "      <td>0</td>\n",
       "      <td>0</td>\n",
       "      <td>0</td>\n",
       "      <td>3410.389399</td>\n",
       "      <td>3869.349602</td>\n",
       "      <td>6448.271112</td>\n",
       "      <td>2</td>\n",
       "      <td>9</td>\n",
       "      <td>1231</td>\n",
       "    </tr>\n",
       "    <tr>\n",
       "      <th>1</th>\n",
       "      <td>1</td>\n",
       "      <td>2</td>\n",
       "      <td>NaN</td>\n",
       "      <td>NaN</td>\n",
       "      <td>NaN</td>\n",
       "      <td>NaN</td>\n",
       "      <td>6.0</td>\n",
       "      <td>NaN</td>\n",
       "      <td>1.0</td>\n",
       "      <td>NaN</td>\n",
       "      <td>...</td>\n",
       "      <td>0</td>\n",
       "      <td>0</td>\n",
       "      <td>0</td>\n",
       "      <td>0</td>\n",
       "      <td>3410.389399</td>\n",
       "      <td>3869.349602</td>\n",
       "      <td>6448.271112</td>\n",
       "      <td>2</td>\n",
       "      <td>9</td>\n",
       "      <td>1231</td>\n",
       "    </tr>\n",
       "    <tr>\n",
       "      <th>2</th>\n",
       "      <td>2</td>\n",
       "      <td>1</td>\n",
       "      <td>NaN</td>\n",
       "      <td>NaN</td>\n",
       "      <td>NaN</td>\n",
       "      <td>NaN</td>\n",
       "      <td>5.0</td>\n",
       "      <td>NaN</td>\n",
       "      <td>3.0</td>\n",
       "      <td>5.0</td>\n",
       "      <td>...</td>\n",
       "      <td>0</td>\n",
       "      <td>0</td>\n",
       "      <td>0</td>\n",
       "      <td>0</td>\n",
       "      <td>7226.301740</td>\n",
       "      <td>8567.549110</td>\n",
       "      <td>12999.542264</td>\n",
       "      <td>2</td>\n",
       "      <td>12</td>\n",
       "      <td>1231</td>\n",
       "    </tr>\n",
       "    <tr>\n",
       "      <th>3</th>\n",
       "      <td>2</td>\n",
       "      <td>2</td>\n",
       "      <td>NaN</td>\n",
       "      <td>NaN</td>\n",
       "      <td>NaN</td>\n",
       "      <td>NaN</td>\n",
       "      <td>6.0</td>\n",
       "      <td>NaN</td>\n",
       "      <td>1.0</td>\n",
       "      <td>NaN</td>\n",
       "      <td>...</td>\n",
       "      <td>0</td>\n",
       "      <td>0</td>\n",
       "      <td>0</td>\n",
       "      <td>0</td>\n",
       "      <td>7226.301740</td>\n",
       "      <td>8567.549110</td>\n",
       "      <td>12999.542264</td>\n",
       "      <td>2</td>\n",
       "      <td>12</td>\n",
       "      <td>1231</td>\n",
       "    </tr>\n",
       "    <tr>\n",
       "      <th>4</th>\n",
       "      <td>2</td>\n",
       "      <td>3</td>\n",
       "      <td>NaN</td>\n",
       "      <td>NaN</td>\n",
       "      <td>NaN</td>\n",
       "      <td>NaN</td>\n",
       "      <td>6.0</td>\n",
       "      <td>NaN</td>\n",
       "      <td>1.0</td>\n",
       "      <td>NaN</td>\n",
       "      <td>...</td>\n",
       "      <td>0</td>\n",
       "      <td>0</td>\n",
       "      <td>0</td>\n",
       "      <td>0</td>\n",
       "      <td>7226.301740</td>\n",
       "      <td>8567.549110</td>\n",
       "      <td>12999.542264</td>\n",
       "      <td>2</td>\n",
       "      <td>12</td>\n",
       "      <td>1231</td>\n",
       "    </tr>\n",
       "  </tbody>\n",
       "</table>\n",
       "<p>5 rows × 243 columns</p>\n",
       "</div>"
      ],
      "text/plain": [
       "   caseid  pregordr  howpreg_n  howpreg_p  moscurrp  nowprgdk  pregend1  \\\n",
       "0       1         1        NaN        NaN       NaN       NaN       6.0   \n",
       "1       1         2        NaN        NaN       NaN       NaN       6.0   \n",
       "2       2         1        NaN        NaN       NaN       NaN       5.0   \n",
       "3       2         2        NaN        NaN       NaN       NaN       6.0   \n",
       "4       2         3        NaN        NaN       NaN       NaN       6.0   \n",
       "\n",
       "   pregend2  nbrnaliv  multbrth   ...     poverty_i  laborfor_i  religion_i  \\\n",
       "0       NaN       1.0       NaN   ...             0           0           0   \n",
       "1       NaN       1.0       NaN   ...             0           0           0   \n",
       "2       NaN       3.0       5.0   ...             0           0           0   \n",
       "3       NaN       1.0       NaN   ...             0           0           0   \n",
       "4       NaN       1.0       NaN   ...             0           0           0   \n",
       "\n",
       "   metro_i      basewgt  adj_mod_basewgt      finalwgt  secu_p  sest  cmintvw  \n",
       "0        0  3410.389399      3869.349602   6448.271112       2     9     1231  \n",
       "1        0  3410.389399      3869.349602   6448.271112       2     9     1231  \n",
       "2        0  7226.301740      8567.549110  12999.542264       2    12     1231  \n",
       "3        0  7226.301740      8567.549110  12999.542264       2    12     1231  \n",
       "4        0  7226.301740      8567.549110  12999.542264       2    12     1231  \n",
       "\n",
       "[5 rows x 243 columns]"
      ]
     },
     "execution_count": 7,
     "metadata": {},
     "output_type": "execute_result"
    }
   ],
   "source": [
    "preg.head()"
   ]
  },
  {
   "cell_type": "code",
   "execution_count": 8,
   "metadata": {
    "collapsed": false,
    "scrolled": true
   },
   "outputs": [
    {
     "data": {
      "text/plain": [
       "0        3316.0\n",
       "1        3925.0\n",
       "2        1433.0\n",
       "3        1783.0\n",
       "4        1833.0\n",
       "5        2700.0\n",
       "6        2883.0\n",
       "7        3016.0\n",
       "8        2808.0\n",
       "9        3233.0\n",
       "10       2575.0\n",
       "11       2300.0\n",
       "12       2458.0\n",
       "13       2983.0\n",
       "14       2750.0\n",
       "15       2833.0\n",
       "16       3033.0\n",
       "17       1891.0\n",
       "18       2783.0\n",
       "19       2791.0\n",
       "20       3058.0\n",
       "21       1891.0\n",
       "22       2708.0\n",
       "23       2225.0\n",
       "24       2575.0\n",
       "25       2941.0\n",
       "26       3266.0\n",
       "27       1883.0\n",
       "28       2083.0\n",
       "29       2166.0\n",
       "          ...  \n",
       "13563    2108.0\n",
       "13564    2333.0\n",
       "13565    2025.0\n",
       "13566    3266.0\n",
       "13567    1675.0\n",
       "13568    2383.0\n",
       "13569    1800.0\n",
       "13570    2441.0\n",
       "13571    2783.0\n",
       "13572    3316.0\n",
       "13573    2225.0\n",
       "13574    2441.0\n",
       "13575    1883.0\n",
       "13576    3166.0\n",
       "13577       NaN\n",
       "13578    2400.0\n",
       "13579    2591.0\n",
       "13580    2825.0\n",
       "13581    3066.0\n",
       "13582    3325.0\n",
       "13583    2366.0\n",
       "13584    2691.0\n",
       "13585    2141.0\n",
       "13586    2241.0\n",
       "13587    2341.0\n",
       "13588    1791.0\n",
       "13589    1850.0\n",
       "13590    1975.0\n",
       "13591    2158.0\n",
       "13592    2158.0\n",
       "Name: agepreg, dtype: float64"
      ]
     },
     "execution_count": 8,
     "metadata": {},
     "output_type": "execute_result"
    }
   ],
   "source": [
    "preg.agepreg"
   ]
  },
  {
   "cell_type": "code",
   "execution_count": 9,
   "metadata": {
    "collapsed": false
   },
   "outputs": [
    {
     "data": {
      "text/plain": [
       "24.688151197038128"
      ]
     },
     "execution_count": 9,
     "metadata": {},
     "output_type": "execute_result"
    }
   ],
   "source": [
    "preg.agepreg /= 100\n",
    "preg.agepreg.mean()"
   ]
  },
  {
   "cell_type": "code",
   "execution_count": 10,
   "metadata": {
    "collapsed": false
   },
   "outputs": [
    {
     "data": {
      "text/plain": [
       "count    9144.000000\n",
       "mean        7.431321\n",
       "std         7.522723\n",
       "min         0.000000\n",
       "25%         6.000000\n",
       "50%         7.000000\n",
       "75%         8.000000\n",
       "max        99.000000\n",
       "Name: birthwgt_lb, dtype: float64"
      ]
     },
     "execution_count": 10,
     "metadata": {},
     "output_type": "execute_result"
    }
   ],
   "source": [
    "preg.birthwgt_lb.describe()"
   ]
  },
  {
   "cell_type": "code",
   "execution_count": 11,
   "metadata": {
    "collapsed": false
   },
   "outputs": [
    {
     "data": {
      "text/plain": [
       "0.0        8\n",
       "1.0       40\n",
       "2.0       53\n",
       "3.0       98\n",
       "4.0      229\n",
       "5.0      697\n",
       "6.0     2223\n",
       "7.0     3049\n",
       "8.0     1889\n",
       "9.0      623\n",
       "10.0     132\n",
       "11.0      26\n",
       "12.0      10\n",
       "13.0       3\n",
       "14.0       3\n",
       "15.0       1\n",
       "51.0       1\n",
       "97.0       1\n",
       "98.0       1\n",
       "99.0      57\n",
       "Name: birthwgt_lb, dtype: int64"
      ]
     },
     "execution_count": 11,
     "metadata": {},
     "output_type": "execute_result"
    }
   ],
   "source": [
    "preg.birthwgt_lb.value_counts().sort_index()"
   ]
  },
  {
   "cell_type": "code",
   "execution_count": 12,
   "metadata": {
    "collapsed": false
   },
   "outputs": [],
   "source": [
    "preg.loc[preg.birthwgt_lb > 20, 'birthwgt_lb'] = np.nan"
   ]
  },
  {
   "cell_type": "code",
   "execution_count": 13,
   "metadata": {
    "collapsed": false
   },
   "outputs": [],
   "source": [
    "na_vals = [97, 98, 99]\n",
    "preg.birthwgt_lb.replace(na_vals, np.nan, inplace=True)\n",
    "preg.birthwgt_oz.replace(na_vals, np.nan, inplace=True)"
   ]
  },
  {
   "cell_type": "code",
   "execution_count": 14,
   "metadata": {
    "collapsed": true
   },
   "outputs": [],
   "source": [
    "preg['totalwgt_lb'] = preg.birthwgt_lb + preg.birthwgt_oz / 16.0"
   ]
  },
  {
   "cell_type": "code",
   "execution_count": 15,
   "metadata": {
    "collapsed": true
   },
   "outputs": [],
   "source": [
    "def CleanFemPreg(preg):\n",
    "    preg.agepreg /= 100\n",
    "    \n",
    "    preg.loc[preg.birthwgt_lb > 20, 'birthwgt_lb'] = np.nan\n",
    "    \n",
    "    na_vals = [97, 98, 99]\n",
    "    preg.birthwgt_lb.replace(na_vals, np.nan, inplace=True)\n",
    "    preg.birthwgt_oz.replace(na_vals, np.nan, inplace=True)\n",
    "\n",
    "    \n",
    "    preg.babysex.replace([7.9], np.nan, inpalce=True)\n",
    "    preg.nbrnaliv.replace([9], np.nan, inplace=True)\n",
    "    \n",
    "    preg['totalwgt_lb'] = preg.birthwgt_lb + preg.birthwgt_oz / 16.0\n",
    "    preg.cmintvw = np.nan"
   ]
  },
  {
   "cell_type": "code",
   "execution_count": 17,
   "metadata": {
    "collapsed": false
   },
   "outputs": [
    {
     "data": {
      "text/plain": [
       "1     5033\n",
       "2     3766\n",
       "3     2334\n",
       "4     1224\n",
       "5      613\n",
       "6      308\n",
       "7      158\n",
       "8       78\n",
       "9       38\n",
       "10      17\n",
       "11       8\n",
       "12       5\n",
       "13       3\n",
       "14       3\n",
       "15       1\n",
       "16       1\n",
       "17       1\n",
       "18       1\n",
       "19       1\n",
       "Name: pregordr, dtype: int64"
      ]
     },
     "execution_count": 17,
     "metadata": {},
     "output_type": "execute_result"
    }
   ],
   "source": [
    "preg.pregordr.value_counts().sort_index()"
   ]
  },
  {
   "cell_type": "code",
   "execution_count": 21,
   "metadata": {
    "collapsed": false
   },
   "outputs": [],
   "source": [
    "assert len(preg) ==   13593\n",
    "\n",
    "assert preg.caseid[13592] == 12571\n",
    "assert preg.pregordr.value_counts()[1] == 5033\n",
    "assert preg.nbrnaliv.value_counts()[1] == 8981\n",
    "\n",
    "weights = preg.finalwgt.value_counts()\n",
    "key = max(weights.keys)"
   ]
  },
  {
   "cell_type": "code",
   "execution_count": null,
   "metadata": {
    "collapsed": true
   },
   "outputs": [],
   "source": []
  }
 ],
 "metadata": {
  "kernelspec": {
   "display_name": "Python [conda root]",
   "language": "python",
   "name": "conda-root-py"
  },
  "language_info": {
   "codemirror_mode": {
    "name": "ipython",
    "version": 3
   },
   "file_extension": ".py",
   "mimetype": "text/x-python",
   "name": "python",
   "nbconvert_exporter": "python",
   "pygments_lexer": "ipython3",
   "version": "3.5.3"
  }
 },
 "nbformat": 4,
 "nbformat_minor": 2
}
