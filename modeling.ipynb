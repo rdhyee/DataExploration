{
 "cells": [
  {
   "cell_type": "markdown",
   "metadata": {},
   "source": [
    "Modeling distributions\n",
    "=================\n",
    "\n",
    "Copyright 2015 Allen Downey\n",
    "\n",
    "License: [Creative Commons Attribution 4.0 International](http://creativecommons.org/licenses/by/4.0/)"
   ]
  },
  {
   "cell_type": "code",
   "execution_count": 1,
   "metadata": {
    "collapsed": true
   },
   "outputs": [],
   "source": [
    "from __future__ import print_function, division\n",
    "\n",
    "import analytic\n",
    "import brfss\n",
    "import nsfg\n",
    "\n",
    "import thinkstats2\n",
    "import thinkplot\n",
    "\n",
    "import pandas as pd\n",
    "import numpy as np\n",
    "import math\n",
    "\n",
    "%matplotlib inline"
   ]
  },
  {
   "cell_type": "markdown",
   "metadata": {},
   "source": [
    "This notebook is about ways to model data using analytic distributions.  I start with the exponential distribution, which is often a good model of time between random arrivals.\n",
    "\n",
    "On December 18, 1997, 44 babies were born in a hospital in Brisbane, Australia.  The time of birth for all 44 babies was reported in the local paper; the complete dataset is in a file called `babyboom.dat`.\n",
    "\n",
    "If the times of birth are random, we expect the times between births to fit an exponential model.\n",
    "\n",
    "Here's what the exponential CDF looks like for a range of parameters."
   ]
  },
  {
   "cell_type": "code",
   "execution_count": 2,
   "metadata": {},
   "outputs": [
    {
     "data": {
      "image/png": "[encoded data removed]",
      "text/plain": [
       "<matplotlib.figure.Figure at 0x1fb633f2898>"
      ]
     },
     "metadata": {},
     "output_type": "display_data"
    }
   ],
   "source": [
    "thinkplot.PrePlot(3)\n",
    "for lam in [2.0, 1, 0.5]:\n",
    "    xs, ps = thinkstats2.RenderExpoCdf(lam, 0, 3.0, 50)\n",
    "    label = r'$\\lambda=%g$' % lam\n",
    "    thinkplot.Plot(xs, ps, label=label)\n",
    "    \n",
    "thinkplot.Config(title='Exponential CDF',\n",
    "                 xlabel='x',\n",
    "                 ylabel='CDF',\n",
    "                 loc='lower right')    "
   ]
  },
  {
   "cell_type": "markdown",
   "metadata": {},
   "source": [
    "Here's the babyboom data:"
   ]
  },
  {
   "cell_type": "code",
   "execution_count": 3,
   "metadata": {
    "scrolled": true
   },
   "outputs": [
    {
     "data": {
      "text/html": [
       "<div>\n",
       "<style>\n",
       "    .dataframe thead tr:only-child th {\n",
       "        text-align: right;\n",
       "    }\n",
       "\n",
       "    .dataframe thead th {\n",
       "        text-align: left;\n",
       "    }\n",
       "\n",
       "    .dataframe tbody tr th {\n",
       "        vertical-align: top;\n",
       "    }\n",
       "</style>\n",
       "<table border=\"1\" class=\"dataframe\">\n",
       "  <thead>\n",
       "    <tr style=\"text-align: right;\">\n",
       "      <th></th>\n",
       "      <th>time</th>\n",
       "      <th>sex</th>\n",
       "      <th>weight_g</th>\n",
       "      <th>minutes</th>\n",
       "    </tr>\n",
       "  </thead>\n",
       "  <tbody>\n",
       "    <tr>\n",
       "      <th>0</th>\n",
       "      <td>5</td>\n",
       "      <td>1</td>\n",
       "      <td>3837</td>\n",
       "      <td>5</td>\n",
       "    </tr>\n",
       "    <tr>\n",
       "      <th>1</th>\n",
       "      <td>104</td>\n",
       "      <td>1</td>\n",
       "      <td>3334</td>\n",
       "      <td>64</td>\n",
       "    </tr>\n",
       "    <tr>\n",
       "      <th>2</th>\n",
       "      <td>118</td>\n",
       "      <td>2</td>\n",
       "      <td>3554</td>\n",
       "      <td>78</td>\n",
       "    </tr>\n",
       "    <tr>\n",
       "      <th>3</th>\n",
       "      <td>155</td>\n",
       "      <td>2</td>\n",
       "      <td>3838</td>\n",
       "      <td>115</td>\n",
       "    </tr>\n",
       "    <tr>\n",
       "      <th>4</th>\n",
       "      <td>257</td>\n",
       "      <td>2</td>\n",
       "      <td>3625</td>\n",
       "      <td>177</td>\n",
       "    </tr>\n",
       "    <tr>\n",
       "      <th>5</th>\n",
       "      <td>405</td>\n",
       "      <td>1</td>\n",
       "      <td>2208</td>\n",
       "      <td>245</td>\n",
       "    </tr>\n",
       "    <tr>\n",
       "      <th>6</th>\n",
       "      <td>407</td>\n",
       "      <td>1</td>\n",
       "      <td>1745</td>\n",
       "      <td>247</td>\n",
       "    </tr>\n",
       "    <tr>\n",
       "      <th>7</th>\n",
       "      <td>422</td>\n",
       "      <td>2</td>\n",
       "      <td>2846</td>\n",
       "      <td>262</td>\n",
       "    </tr>\n",
       "    <tr>\n",
       "      <th>8</th>\n",
       "      <td>431</td>\n",
       "      <td>2</td>\n",
       "      <td>3166</td>\n",
       "      <td>271</td>\n",
       "    </tr>\n",
       "    <tr>\n",
       "      <th>9</th>\n",
       "      <td>708</td>\n",
       "      <td>2</td>\n",
       "      <td>3520</td>\n",
       "      <td>428</td>\n",
       "    </tr>\n",
       "    <tr>\n",
       "      <th>10</th>\n",
       "      <td>735</td>\n",
       "      <td>2</td>\n",
       "      <td>3380</td>\n",
       "      <td>455</td>\n",
       "    </tr>\n",
       "    <tr>\n",
       "      <th>11</th>\n",
       "      <td>812</td>\n",
       "      <td>2</td>\n",
       "      <td>3294</td>\n",
       "      <td>492</td>\n",
       "    </tr>\n",
       "    <tr>\n",
       "      <th>12</th>\n",
       "      <td>814</td>\n",
       "      <td>1</td>\n",
       "      <td>2576</td>\n",
       "      <td>494</td>\n",
       "    </tr>\n",
       "    <tr>\n",
       "      <th>13</th>\n",
       "      <td>909</td>\n",
       "      <td>1</td>\n",
       "      <td>3208</td>\n",
       "      <td>549</td>\n",
       "    </tr>\n",
       "    <tr>\n",
       "      <th>14</th>\n",
       "      <td>1035</td>\n",
       "      <td>2</td>\n",
       "      <td>3521</td>\n",
       "      <td>635</td>\n",
       "    </tr>\n",
       "    <tr>\n",
       "      <th>15</th>\n",
       "      <td>1049</td>\n",
       "      <td>1</td>\n",
       "      <td>3746</td>\n",
       "      <td>649</td>\n",
       "    </tr>\n",
       "    <tr>\n",
       "      <th>16</th>\n",
       "      <td>1053</td>\n",
       "      <td>1</td>\n",
       "      <td>3523</td>\n",
       "      <td>653</td>\n",
       "    </tr>\n",
       "    <tr>\n",
       "      <th>17</th>\n",
       "      <td>1133</td>\n",
       "      <td>2</td>\n",
       "      <td>2902</td>\n",
       "      <td>693</td>\n",
       "    </tr>\n",
       "    <tr>\n",
       "      <th>18</th>\n",
       "      <td>1209</td>\n",
       "      <td>2</td>\n",
       "      <td>2635</td>\n",
       "      <td>729</td>\n",
       "    </tr>\n",
       "    <tr>\n",
       "      <th>19</th>\n",
       "      <td>1256</td>\n",
       "      <td>2</td>\n",
       "      <td>3920</td>\n",
       "      <td>776</td>\n",
       "    </tr>\n",
       "    <tr>\n",
       "      <th>20</th>\n",
       "      <td>1305</td>\n",
       "      <td>2</td>\n",
       "      <td>3690</td>\n",
       "      <td>785</td>\n",
       "    </tr>\n",
       "    <tr>\n",
       "      <th>21</th>\n",
       "      <td>1406</td>\n",
       "      <td>1</td>\n",
       "      <td>3430</td>\n",
       "      <td>846</td>\n",
       "    </tr>\n",
       "    <tr>\n",
       "      <th>22</th>\n",
       "      <td>1407</td>\n",
       "      <td>1</td>\n",
       "      <td>3480</td>\n",
       "      <td>847</td>\n",
       "    </tr>\n",
       "    <tr>\n",
       "      <th>23</th>\n",
       "      <td>1433</td>\n",
       "      <td>1</td>\n",
       "      <td>3116</td>\n",
       "      <td>873</td>\n",
       "    </tr>\n",
       "    <tr>\n",
       "      <th>24</th>\n",
       "      <td>1446</td>\n",
       "      <td>1</td>\n",
       "      <td>3428</td>\n",
       "      <td>886</td>\n",
       "    </tr>\n",
       "    <tr>\n",
       "      <th>25</th>\n",
       "      <td>1514</td>\n",
       "      <td>2</td>\n",
       "      <td>3783</td>\n",
       "      <td>914</td>\n",
       "    </tr>\n",
       "    <tr>\n",
       "      <th>26</th>\n",
       "      <td>1631</td>\n",
       "      <td>2</td>\n",
       "      <td>3345</td>\n",
       "      <td>991</td>\n",
       "    </tr>\n",
       "    <tr>\n",
       "      <th>27</th>\n",
       "      <td>1657</td>\n",
       "      <td>2</td>\n",
       "      <td>3034</td>\n",
       "      <td>1017</td>\n",
       "    </tr>\n",
       "    <tr>\n",
       "      <th>28</th>\n",
       "      <td>1742</td>\n",
       "      <td>1</td>\n",
       "      <td>2184</td>\n",
       "      <td>1062</td>\n",
       "    </tr>\n",
       "    <tr>\n",
       "      <th>29</th>\n",
       "      <td>1807</td>\n",
       "      <td>2</td>\n",
       "      <td>3300</td>\n",
       "      <td>1087</td>\n",
       "    </tr>\n",
       "    <tr>\n",
       "      <th>30</th>\n",
       "      <td>1825</td>\n",
       "      <td>1</td>\n",
       "      <td>2383</td>\n",
       "      <td>1105</td>\n",
       "    </tr>\n",
       "    <tr>\n",
       "      <th>31</th>\n",
       "      <td>1854</td>\n",
       "      <td>2</td>\n",
       "      <td>3428</td>\n",
       "      <td>1134</td>\n",
       "    </tr>\n",
       "    <tr>\n",
       "      <th>32</th>\n",
       "      <td>1909</td>\n",
       "      <td>2</td>\n",
       "      <td>4162</td>\n",
       "      <td>1149</td>\n",
       "    </tr>\n",
       "    <tr>\n",
       "      <th>33</th>\n",
       "      <td>1947</td>\n",
       "      <td>2</td>\n",
       "      <td>3630</td>\n",
       "      <td>1187</td>\n",
       "    </tr>\n",
       "    <tr>\n",
       "      <th>34</th>\n",
       "      <td>1949</td>\n",
       "      <td>2</td>\n",
       "      <td>3406</td>\n",
       "      <td>1189</td>\n",
       "    </tr>\n",
       "    <tr>\n",
       "      <th>35</th>\n",
       "      <td>1951</td>\n",
       "      <td>2</td>\n",
       "      <td>3402</td>\n",
       "      <td>1191</td>\n",
       "    </tr>\n",
       "    <tr>\n",
       "      <th>36</th>\n",
       "      <td>2010</td>\n",
       "      <td>1</td>\n",
       "      <td>3500</td>\n",
       "      <td>1210</td>\n",
       "    </tr>\n",
       "    <tr>\n",
       "      <th>37</th>\n",
       "      <td>2037</td>\n",
       "      <td>2</td>\n",
       "      <td>3736</td>\n",
       "      <td>1237</td>\n",
       "    </tr>\n",
       "    <tr>\n",
       "      <th>38</th>\n",
       "      <td>2051</td>\n",
       "      <td>2</td>\n",
       "      <td>3370</td>\n",
       "      <td>1251</td>\n",
       "    </tr>\n",
       "    <tr>\n",
       "      <th>39</th>\n",
       "      <td>2104</td>\n",
       "      <td>2</td>\n",
       "      <td>2121</td>\n",
       "      <td>1264</td>\n",
       "    </tr>\n",
       "    <tr>\n",
       "      <th>40</th>\n",
       "      <td>2123</td>\n",
       "      <td>2</td>\n",
       "      <td>3150</td>\n",
       "      <td>1283</td>\n",
       "    </tr>\n",
       "    <tr>\n",
       "      <th>41</th>\n",
       "      <td>2217</td>\n",
       "      <td>1</td>\n",
       "      <td>3866</td>\n",
       "      <td>1337</td>\n",
       "    </tr>\n",
       "    <tr>\n",
       "      <th>42</th>\n",
       "      <td>2327</td>\n",
       "      <td>1</td>\n",
       "      <td>3542</td>\n",
       "      <td>1407</td>\n",
       "    </tr>\n",
       "    <tr>\n",
       "      <th>43</th>\n",
       "      <td>2355</td>\n",
       "      <td>1</td>\n",
       "      <td>3278</td>\n",
       "      <td>1435</td>\n",
       "    </tr>\n",
       "  </tbody>\n",
       "</table>\n",
       "</div>"
      ],
      "text/plain": [
       "    time  sex  weight_g  minutes\n",
       "0      5    1      3837        5\n",
       "1    104    1      3334       64\n",
       "2    118    2      3554       78\n",
       "3    155    2      3838      115\n",
       "4    257    2      3625      177\n",
       "5    405    1      2208      245\n",
       "6    407    1      1745      247\n",
       "7    422    2      2846      262\n",
       "8    431    2      3166      271\n",
       "9    708    2      3520      428\n",
       "10   735    2      3380      455\n",
       "11   812    2      3294      492\n",
       "12   814    1      2576      494\n",
       "13   909    1      3208      549\n",
       "14  1035    2      3521      635\n",
       "15  1049    1      3746      649\n",
       "16  1053    1      3523      653\n",
       "17  1133    2      2902      693\n",
       "18  1209    2      2635      729\n",
       "19  1256    2      3920      776\n",
       "20  1305    2      3690      785\n",
       "21  1406    1      3430      846\n",
       "22  1407    1      3480      847\n",
       "23  1433    1      3116      873\n",
       "24  1446    1      3428      886\n",
       "25  1514    2      3783      914\n",
       "26  1631    2      3345      991\n",
       "27  1657    2      3034     1017\n",
       "28  1742    1      2184     1062\n",
       "29  1807    2      3300     1087\n",
       "30  1825    1      2383     1105\n",
       "31  1854    2      3428     1134\n",
       "32  1909    2      4162     1149\n",
       "33  1947    2      3630     1187\n",
       "34  1949    2      3406     1189\n",
       "35  1951    2      3402     1191\n",
       "36  2010    1      3500     1210\n",
       "37  2037    2      3736     1237\n",
       "38  2051    2      3370     1251\n",
       "39  2104    2      2121     1264\n",
       "40  2123    2      3150     1283\n",
       "41  2217    1      3866     1337\n",
       "42  2327    1      3542     1407\n",
       "43  2355    1      3278     1435"
      ]
     },
     "execution_count": 3,
     "metadata": {},
     "output_type": "execute_result"
    }
   ],
   "source": [
    "df = analytic.ReadBabyBoom()\n",
    "df"
   ]
  },
  {
   "cell_type": "markdown",
   "metadata": {},
   "source": [
    "And here's the CDF of interarrival times."
   ]
  },
  {
   "cell_type": "code",
   "execution_count": 4,
   "metadata": {},
   "outputs": [
    {
     "data": {
      "image/png": "[encoded data removed]",
      "text/plain": [
       "<matplotlib.figure.Figure at 0x1fb63b71748>"
      ]
     },
     "metadata": {},
     "output_type": "display_data"
    }
   ],
   "source": [
    "diffs = df.minutes.diff()\n",
    "cdf = thinkstats2.Cdf(diffs, label='actual')\n",
    "\n",
    "thinkplot.PrePlot(1)\n",
    "thinkplot.Cdf(cdf)\n",
    "thinkplot.Config(xlabel='minutes',\n",
    "                 ylabel='CDF',\n",
    "                 legend=False)"
   ]
  },
  {
   "cell_type": "markdown",
   "metadata": {},
   "source": [
    "Visually it looks like an exponential CDF, but there are other analytic distributions that also look like this.  A stronger test is to plot the complementary CDF, that is $1-CDF(x)$ on a log-y scale.\n",
    "\n",
    "If the data are from an exponential distribution, the result should approximate a straight line."
   ]
  },
  {
   "cell_type": "code",
   "execution_count": 5,
   "metadata": {},
   "outputs": [
    {
     "data": {
      "image/png": "[encoded data removed]",
      "text/plain": [
       "<matplotlib.figure.Figure at 0x1fb63bc0860>"
      ]
     },
     "metadata": {},
     "output_type": "display_data"
    }
   ],
   "source": [
    "thinkplot.PrePlot(1)\n",
    "thinkplot.Cdf(cdf, complement=True)\n",
    "thinkplot.Config(xlabel='minutes',\n",
    "                 ylabel='CCDF',\n",
    "                 yscale='log',\n",
    "                 legend=False)"
   ]
  },
  {
   "cell_type": "markdown",
   "metadata": {},
   "source": [
    "It is not exactly straight, which indicates that the exponential distribution is not a perfect model for this data. Most likely the underlying assumption—that a birth is equally likely at any time of day—is not exactly true. Nevertheless, it might be reasonable to model this dataset with an exponential distribution.\n",
    "\n",
    "As George Box said, \"All models are wrong, but some are useful\"."
   ]
  },
  {
   "cell_type": "markdown",
   "metadata": {},
   "source": [
    "### The normal distribution\n",
    "\n",
    "Many quantities in the natural world are well modeled by a normal distribution, also known as a Gaussian.\n",
    "\n",
    "Here is what the CDF of a normal distriubution looks like for a few different parameter values:"
   ]
  },
  {
   "cell_type": "code",
   "execution_count": 6,
   "metadata": {},
   "outputs": [
    {
     "data": {
      "image/png": "[encoded data removed]",
      "text/plain": [
       "<matplotlib.figure.Figure at 0x1fb63bd9d68>"
      ]
     },
     "metadata": {},
     "output_type": "display_data"
    }
   ],
   "source": [
    "thinkplot.PrePlot(3)\n",
    "\n",
    "mus = [1.0, 2.0, 3.0]\n",
    "sigmas = [0.5, 0.4, 0.3]\n",
    "for mu, sigma in zip(mus, sigmas):\n",
    "    xs, ps = thinkstats2.RenderNormalCdf(mu=mu, sigma=sigma, \n",
    "                                               low=-1.0, high=4.0)\n",
    "    label = r'$\\mu=%g$, $\\sigma=%g$' % (mu, sigma)\n",
    "    thinkplot.Plot(xs, ps, label=label)\n",
    "\n",
    "thinkplot.Config(title='Normal CDF',\n",
    "                 xlabel='x',\n",
    "                 ylabel='CDF',\n",
    "                 loc=2)\n",
    " "
   ]
  },
  {
   "cell_type": "markdown",
   "metadata": {},
   "source": [
    "We might expect the distribution of birth weights to be approximately normal.  I'll load data from the NSFG again:"
   ]
  },
  {
   "cell_type": "code",
   "execution_count": 7,
   "metadata": {
    "collapsed": true
   },
   "outputs": [],
   "source": [
    "preg = nsfg.ReadFemPreg()\n",
    "weights = preg.totalwgt_lb.dropna()"
   ]
  },
  {
   "cell_type": "markdown",
   "metadata": {},
   "source": [
    "We can estimate the parameters of the normal distribution, `mu` and `sigma`, then plot the data on top of the analytic model:"
   ]
  },
  {
   "cell_type": "code",
   "execution_count": 8,
   "metadata": {},
   "outputs": [
    {
     "name": "stdout",
     "output_type": "stream",
     "text": [
      "Mean, Var 7.28088310002 1.54521257035\n",
      "Sigma 1.2430657948614345\n"
     ]
    },
    {
     "data": {
      "image/png": "[encoded data removed]",
      "text/plain": [
       "<matplotlib.figure.Figure at 0x1fb63b83e80>"
      ]
     },
     "metadata": {},
     "output_type": "display_data"
    }
   ],
   "source": [
    "mu, var = thinkstats2.TrimmedMeanVar(weights, p=0.01)\n",
    "print('Mean, Var', mu, var)\n",
    "    \n",
    "    # plot the model\n",
    "sigma = math.sqrt(var)\n",
    "print('Sigma', sigma)\n",
    "xs, ps = thinkstats2.RenderNormalCdf(mu, sigma, low=0, high=12.5)\n",
    "\n",
    "thinkplot.Plot(xs, ps, label='model', color='orange')\n",
    "\n",
    "    # plot the data\n",
    "cdf = thinkstats2.Cdf(weights, label='data')\n",
    "\n",
    "thinkplot.PrePlot(1)\n",
    "thinkplot.Cdf(cdf) \n",
    "thinkplot.Config(title='Birth weights',\n",
    "                   xlabel='birth weight (lbs)',\n",
    "                   ylabel='CDF',\n",
    "                   legend=True)"
   ]
  },
  {
   "cell_type": "markdown",
   "metadata": {},
   "source": [
    "The data fit the model well, but there are some deviations in the lower tail.\n",
    "\n",
    "To get a better view of the tails, we can use a normal probability plot, which plots the actual data versus sorted values from random normal values."
   ]
  },
  {
   "cell_type": "code",
   "execution_count": 9,
   "metadata": {
    "collapsed": true
   },
   "outputs": [],
   "source": [
    "def NormalProbability(ys, jitter=0.0):\n",
    "    \"\"\"Generates data for a normal probability plot.\n",
    "\n",
    "    ys: sequence of values\n",
    "    jitter: float magnitude of jitter added to the ys \n",
    "\n",
    "    returns: numpy arrays xs, ys\n",
    "    \"\"\"\n",
    "    n = len(ys)\n",
    "    xs = np.random.normal(0, 1, n)\n",
    "    xs.sort()\n",
    "    \n",
    "    if jitter:\n",
    "        ys = Jitter(ys, jitter)\n",
    "    else:\n",
    "        ys = np.array(ys)\n",
    "    ys.sort()\n",
    "\n",
    "    return xs, ys"
   ]
  },
  {
   "cell_type": "markdown",
   "metadata": {},
   "source": [
    "If the data are normal, the result should be a straight line."
   ]
  },
  {
   "cell_type": "code",
   "execution_count": 10,
   "metadata": {},
   "outputs": [
    {
     "data": {
      "image/png": "[encoded data removed]",
      "text/plain": [
       "<matplotlib.figure.Figure at 0x1fb63bc0d68>"
      ]
     },
     "metadata": {},
     "output_type": "display_data"
    }
   ],
   "source": [
    "mean, var = thinkstats2.TrimmedMeanVar(weights, p=0.01)\n",
    "std = math.sqrt(var)\n",
    "\n",
    "xlim = [-4.5, 4.5]\n",
    "fxs, fys = thinkstats2.FitLine(xlim, mean, std)\n",
    "thinkplot.Plot(fxs, fys, linewidth=4, color='0.8')\n",
    "\n",
    "thinkplot.PrePlot(2) \n",
    "xs, ys = NormalProbability(weights)\n",
    "thinkplot.Plot(xs, ys, label='all live')\n",
    "\n",
    "thinkplot.Config(title='Normal probability plot',\n",
    "                 xlabel='Standard deviations from mean',\n",
    "                 ylabel='Birth weight (lbs)',\n",
    "                 legend=True, loc='lower right',\n",
    "                 xlim=xlim)"
   ]
  },
  {
   "cell_type": "markdown",
   "metadata": {},
   "source": [
    "The normal probability plot shows that the lightest babies are lighter than expected, starting about two standard deviations below the mean.  Also, the heaviest babies are heavier than the model predicts.\n",
    "\n",
    "The NSFG data includes premature babies; if we select full-term babies, we might expect the normal model to be a better fit."
   ]
  },
  {
   "cell_type": "code",
   "execution_count": 11,
   "metadata": {
    "collapsed": true
   },
   "outputs": [],
   "source": [
    "full_term = preg[preg.prglngth >= 37]\n",
    "term_weights = full_term.totalwgt_lb.dropna()"
   ]
  },
  {
   "cell_type": "code",
   "execution_count": 12,
   "metadata": {},
   "outputs": [
    {
     "data": {
      "image/png": "[encoded data removed]",
      "text/plain": [
       "<matplotlib.figure.Figure at 0x1fb64c900f0>"
      ]
     },
     "metadata": {},
     "output_type": "display_data"
    }
   ],
   "source": [
    "thinkplot.Plot(fxs, fys, linewidth=4, color='0.8')\n",
    "\n",
    "thinkplot.PrePlot(2) \n",
    "xs, ys = NormalProbability(weights)\n",
    "thinkplot.Plot(xs, ys, label='all live')\n",
    "\n",
    "xs, ys = NormalProbability(term_weights)\n",
    "thinkplot.Plot(xs, ys, label='full term')\n",
    "\n",
    "thinkplot.Config(title='Normal probability plot',\n",
    "                 xlabel='Standard deviations from mean',\n",
    "                 ylabel='Birth weight (lbs)',\n",
    "                 legend=True, loc='lower right',\n",
    "                 xlim=xlim)"
   ]
  },
  {
   "cell_type": "markdown",
   "metadata": {},
   "source": [
    "As expected, the normal model is a better fit for full-term babies at the low end of the distribution.\n",
    "\n",
    "But it turns out that the normal model does not do very well for adult weight.  I'll load data from the BRFSS."
   ]
  },
  {
   "cell_type": "code",
   "execution_count": 13,
   "metadata": {
    "collapsed": true
   },
   "outputs": [],
   "source": [
    "df = brfss.ReadBrfss()\n",
    "weights = df.wtkg2.dropna()\n",
    "log_weights = np.log10(weights)"
   ]
  },
  {
   "cell_type": "markdown",
   "metadata": {},
   "source": [
    "This function generates normal probability plots:"
   ]
  },
  {
   "cell_type": "code",
   "execution_count": 27,
   "metadata": {
    "collapsed": true
   },
   "outputs": [],
   "source": [
    "def MakeNormalPlot(weights):\n",
    "    \"\"\"Generates a normal probability plot of birth weights.\n",
    "\n",
    "    weights: sequence\n",
    "    \"\"\"\n",
    "    mean, var = thinkstats2.TrimmedMeanVar(weights, p=0.01)\n",
    "    std = math.sqrt(var)\n",
    "\n",
    "    xs = [-5, 5]\n",
    "    xs, ys = thinkstats2.FitLine(xs, mean, std)\n",
    "    thinkplot.Plot(xs, ys, color='0.8', label='model')\n",
    "\n",
    "    xs, ys = thinkstats2.NormalProbability(weights)\n",
    "    thinkplot.Plot(xs, ys, label='weights')\n"
   ]
  },
  {
   "cell_type": "markdown",
   "metadata": {},
   "source": [
    "The normal distribution is a poor model for the distribution of adult weights."
   ]
  },
  {
   "cell_type": "code",
   "execution_count": 28,
   "metadata": {},
   "outputs": [
    {
     "data": {
      "image/png": "[encoded data removed]",
      "text/plain": [
       "<matplotlib.figure.Figure at 0x24687f5fda0>"
      ]
     },
     "metadata": {},
     "output_type": "display_data"
    }
   ],
   "source": [
    "MakeNormalPlot(weights)\n",
    "thinkplot.Config(xlabel='z', ylabel='weights (kg)')"
   ]
  },
  {
   "cell_type": "markdown",
   "metadata": {},
   "source": [
    "But if we compute the log of adult weights, the normal distribution is much better."
   ]
  },
  {
   "cell_type": "code",
   "execution_count": 29,
   "metadata": {},
   "outputs": [
    {
     "data": {
      "image/png": "[encoded data removed]",
      "text/plain": [
       "<matplotlib.figure.Figure at 0x246882c3160>"
      ]
     },
     "metadata": {},
     "output_type": "display_data"
    }
   ],
   "source": [
    "MakeNormalPlot(log_weights)\n",
    "thinkplot.Config(xlabel='z', ylabel='weights (log10 kg)')"
   ]
  },
  {
   "cell_type": "markdown",
   "metadata": {},
   "source": [
    "Within 3 standard deviations of the mean, the normal model does quite well, although the heaviest and lightest people diverge from the model.\n",
    "\n",
    "If $\\log x$ has a normal distribution, $x$ has a lognormal distribution."
   ]
  },
  {
   "cell_type": "code",
   "execution_count": null,
   "metadata": {
    "collapsed": true
   },
   "outputs": [],
   "source": []
  }
 ],
 "metadata": {
  "kernelspec": {
   "display_name": "Python [conda root]",
   "language": "python",
   "name": "conda-root-py"
  },
  "language_info": {
   "codemirror_mode": {
    "name": "ipython",
    "version": 3
   },
   "file_extension": ".py",
   "mimetype": "text/x-python",
   "name": "python",
   "nbconvert_exporter": "python",
   "pygments_lexer": "ipython3",
   "version": "3.5.4"
  }
 },
 "nbformat": 4,
 "nbformat_minor": 1
}
